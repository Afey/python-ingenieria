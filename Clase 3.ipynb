{
 "metadata": {
  "name": ""
 },
 "nbformat": 3,
 "nbformat_minor": 0,
 "worksheets": [
  {
   "cells": [
    {
     "cell_type": "markdown",
     "metadata": {},
     "source": [
      "# Python para ciencia e ingenier\u00eda. Clase 3/6\n",
      "\n",
      "**Tallerista**: Mart\u00edn Gait\u00e1n (Phasety)\n",
      "\n",
      "**Colaboradores**: Jairo Trad (Insus) y Juli\u00e1n Scortechini (Phasety)\n",
      "\n",
      "                                \n",
      "                                Agosto/Septiembre de 2013\n",
      "\n",
      "![](http://phasety.com/squelettes/img/logo.png)\n",
      "\n",
      "----\n",
      "Licencia: ![](http://i.creativecommons.org/l/by-sa/2.5/ar/88x31.png)\n"
     ]
    },
    {
     "cell_type": "markdown",
     "metadata": {},
     "source": [
      "\n",
      "## M\u00f3dulos y paquetes\n",
      "\n",
      "\n",
      "Buen\u00edsimo estos *notebooks* pero \u00bfqu\u00e9 pasa si quiero reusar c\u00f3digo? \n",
      "\n",
      "Hay que crear **m\u00f3dulos**. \n",
      "\n",
      "Por ejemplo, abramos **Spyder** y guardemos esta funci\u00f3n:\n",
      "\n",
      "        \n",
      "    def raices(a, b, c, margen=1e-5):\n",
      "        \"\"\"Dados los coeficientes a, b y c encuentra los valores de X\n",
      "           que hacen aX^2 + bX + c == 0\"\"\"\n",
      "        \n",
      "        discriminante = b*b - 4*a*c\n",
      "        a,b,c,d = complex(a), complex(b), complex(c), complex(discriminante)\n",
      "        raiz1 = (-b + d**0.5)/2./a\n",
      "        raiz2 = (-b - d**0.5)/2./a\n",
      "        if abs(discriminante) < margen:\n",
      "            # reales e iguales\n",
      "            return abs(raiz1), abs(raiz1)\n",
      "        if discriminante > 0:\n",
      "            # reales\n",
      "            return raiz1.real, raiz2.real\n",
      "        # complejas\n",
      "        return raiz1, raiz2\n"
     ]
    },
    {
     "cell_type": "code",
     "collapsed": true,
     "input": [
      "!spyder cuadratica.py # truquito para ejecutar programas desde ipython"
     ],
     "language": "python",
     "metadata": {},
     "outputs": []
    },
    {
     "cell_type": "markdown",
     "metadata": {},
     "source": [
      "Lo hemos guardado en un archivo `cuadratica.py` en el directorio donde estamos corriendo esta consola (notebook), entonces directamente podemos **importar** ese modulo. "
     ]
    },
    {
     "cell_type": "code",
     "collapsed": false,
     "input": [
      "import cuadratica"
     ],
     "language": "python",
     "metadata": {},
     "outputs": [],
     "prompt_number": 4
    },
    {
     "cell_type": "markdown",
     "metadata": {},
     "source": [
      "Esto nos crea un *\"espacio de nombres\"* llamado `cuadratica`, dentro del cual est\u00e1 la funci\u00f3n que definimos "
     ]
    },
    {
     "cell_type": "code",
     "collapsed": false,
     "input": [
      "cuadratica.raices?"
     ],
     "language": "python",
     "metadata": {},
     "outputs": []
    },
    {
     "cell_type": "code",
     "collapsed": false,
     "input": [
      "cuadratica.raices(3, 2, -1)"
     ],
     "language": "python",
     "metadata": {},
     "outputs": []
    },
    {
     "cell_type": "code",
     "collapsed": false,
     "input": [
      "cuadratica.raices(3, 2, 1)"
     ],
     "language": "python",
     "metadata": {},
     "outputs": []
    },
    {
     "cell_type": "markdown",
     "metadata": {},
     "source": [
      "Importar un modulo y usarlo como prefijo **es una buena pr\u00e1ctica** para saber d\u00f3nde est\u00e1 realmente definido un c\u00f3digo. No obstante hay otras maneras. A veces es util usar un alias as\u00ed\n"
     ]
    },
    {
     "cell_type": "code",
     "collapsed": false,
     "input": [
      "import cuadratica as cuad   # igual que la primera forma pero poniendole un alias (mas breve). \n",
      "\n",
      "cuad.raices?"
     ],
     "language": "python",
     "metadata": {},
     "outputs": [],
     "prompt_number": 6
    },
    {
     "cell_type": "markdown",
     "metadata": {},
     "source": [
      "Si s\u00f3lo queremos alguna unidad de c\u00f3digo y no todo el m\u00f3dulo, entonces podemos hacer una importaci\u00f3n selectiva"
     ]
    },
    {
     "cell_type": "code",
     "collapsed": false,
     "input": [
      "from cuadratica import raices  # s\u00f3lo importa el \"objeto\" que indequemos y lo deja \n",
      "                               # en el espacio de nombres actual"
     ],
     "language": "python",
     "metadata": {},
     "outputs": [],
     "prompt_number": 2
    },
    {
     "cell_type": "markdown",
     "metadata": {},
     "source": [
      "Si, como sucede en general, el m\u00f3dulo definiera m\u00e1s de una unidad de c\u00f3digo (una funci\u00f3n, clase, constantes, etc.) podemos usar una tupla para importar varias cosas cosas al espacio de nombres actual. Por ejemplo:\n",
      "\n",
      "      from cuadratica import raices, integral, diferencial \n",
      " \n",
      "Por \u00faltimo, si queremos importar todo pero no usar el prefijo, podemos usar el `*`. **Esto no es recomendado**\n",
      "    \n",
      "    from cuadratica import *"
     ]
    },
    {
     "cell_type": "markdown",
     "metadata": {},
     "source": [
      "Cuando tenemos muchos m\u00f3dulos que est\u00e1n relacionados es bueno armar un **paquete**. Un paquete de modulos es un simple directorio con un m\u00f3dulo llamado `__init__.py` (que puede estar vacio) y tantos modulos y subpaquetes como queramos. Los paquetes se usan igual que un m\u00f3dulo. Por ejemplo, supongamos que tenemos una estructura\n",
      "\n",
      "    paquete/\n",
      "       __init__.py\n",
      "       modulo.py\n",
      "\n",
      "Puedo importar la `funcion_loca` definida en `modulo.py` as\u00ed \n",
      "\n",
      "    from paquete.modulo import funcion_loca \n"
     ]
    },
    {
     "cell_type": "markdown",
     "metadata": {},
     "source": [
      "## M\u00f3dulos y paquetes inclu\u00eddos: las bater\u00edas puestas de Python\n",
      "\n",
      "Hasta ahora vimos algunas funciones y estructuras de datos que Python ofrece sin tener que importar nada, pero sin tener que instalar ninguna biblioteca extra, cualquier versi\u00f3n de python trae muchos m\u00f3dulos y paquetes listos para usar. Es lo que se conoce como la [librer\u00eda est\u00e1ndar de python](http://docs.python.org/2/library/) y es muy abarcativa y potente. \n",
      "\n",
      "Por ejemplo funciones matem\u00e1ticas, manejo de algunos formatos de archivos m\u00e1s espec\u00edficos que el \"texto plano\", protocolos de internet, otras *clases* de n\u00fameros y estructuras de datos,  etc. \n",
      "\n",
      "### Funciones y constantes matem\u00e1ticas"
     ]
    },
    {
     "cell_type": "code",
     "collapsed": false,
     "input": [
      "import math"
     ],
     "language": "python",
     "metadata": {},
     "outputs": [],
     "prompt_number": 7
    },
    {
     "cell_type": "code",
     "collapsed": false,
     "input": [
      "math.cos(math.pi)"
     ],
     "language": "python",
     "metadata": {},
     "outputs": [
      {
       "metadata": {},
       "output_type": "pyout",
       "prompt_number": 9,
       "text": [
        "-1.0"
       ]
      }
     ],
     "prompt_number": 9
    },
    {
     "cell_type": "code",
     "collapsed": false,
     "input": [
      "math.sqrt(2)"
     ],
     "language": "python",
     "metadata": {},
     "outputs": [
      {
       "metadata": {},
       "output_type": "pyout",
       "prompt_number": 10,
       "text": [
        "1.4142135623730951"
       ]
      }
     ],
     "prompt_number": 10
    },
    {
     "cell_type": "markdown",
     "metadata": {},
     "source": [
      "### CSV\n",
      "\n",
      "Los CSV (comma separated values) son una forma b\u00e1sica pero muy extendida de intercambiar informaci\u00f3n estructurada entre distintos programas. Por ejemplo, desde Excel o Libreoffice Calc se pueden guardar (y abrir) archivos CSV. y python tambi\u00e9n sabe. \n"
     ]
    },
    {
     "cell_type": "code",
     "collapsed": false,
     "input": [
      "%less data/near_critical_oil.csv   # cuando algo empieza con % es \"magia\" de ipython (no funcionan en python puro)\n",
      "                                   # ver %magic para m\u00e1s datos"
     ],
     "language": "python",
     "metadata": {},
     "outputs": [],
     "prompt_number": 25
    },
    {
     "cell_type": "code",
     "collapsed": false,
     "input": [
      "import csv\n",
      "reader = csv.reader(open('data/near_critical_oil.csv'))\n",
      "critical_oil = [line for line in reader]\n",
      "critical_oil"
     ],
     "language": "python",
     "metadata": {},
     "outputs": [
      {
       "metadata": {},
       "output_type": "pyout",
       "prompt_number": 28,
       "text": [
        "[['Component', 'Mol fraction'],\n",
        " ['n2', '0.46'],\n",
        " ['co2', '3.36'],\n",
        " ['c1', '62.36'],\n",
        " ['c2', '8.9'],\n",
        " ['c3', '5.31'],\n",
        " ['c4', '3.01'],\n",
        " ['c5', '1.5'],\n",
        " ['c6', '1.05'],\n",
        " ['c7', '2.0'],\n",
        " ['c7+', '12.049']]"
       ]
      }
     ],
     "prompt_number": 28
    },
    {
     "cell_type": "markdown",
     "metadata": {},
     "source": [
      "### Otros m\u00f3dulos interesantes para ver\n",
      "\n",
      "- json: serializaci\u00f3n de objetos en formato JSON (muy comun en \"servicios web\")\n",
      "- random: aleatoridad (numeros, funciones)\n",
      "- os: acceso al sistema operativo (directorios, archivos, etc)\n",
      "- y mucho \u00a1mucho! m\u00e1s http://docs.python.org/2/library/\n"
     ]
    },
    {
     "cell_type": "markdown",
     "metadata": {},
     "source": [
      "## Matplotlib, un gr\u00e1fico vale m\u00e1s que mil palabras\n",
      "\n",
      "Python es un lenguaje muy completo pero aunque es muy grande, su librer\u00eda est\u00e1ndar no es infinita. Por suerte hay miles y miles de bibliotecas extra para complementar casi cualquier aspecto en el que queramos aplicar Python. En algunos \u00e1mbitos, con soluciones muy destacadas. \n",
      "\n",
      "Para hacer gr\u00e1ficos existe Matplotlib http://matplotlib.org/ . Ya viene instalado con la versi\u00f3n completa de Anaconda. \n"
     ]
    },
    {
     "cell_type": "code",
     "collapsed": false,
     "input": [
      "%matplotlib   # esta magia nos permite interactuar con los gr\u00e1ficos desde ipython"
     ],
     "language": "python",
     "metadata": {},
     "outputs": [
      {
       "output_type": "stream",
       "stream": "stdout",
       "text": [
        "Using matplotlib backend: TkAgg\n"
       ]
      }
     ],
     "prompt_number": 29
    },
    {
     "cell_type": "code",
     "collapsed": false,
     "input": [
      "from matplotlib import pyplot"
     ],
     "language": "python",
     "metadata": {},
     "outputs": [],
     "prompt_number": 58
    },
    {
     "cell_type": "code",
     "collapsed": false,
     "input": [
      "x = [0.1*i for i in range(-50, 51)]\n",
      "y = [x_i**2 for x_i in x]"
     ],
     "language": "python",
     "metadata": {},
     "outputs": [],
     "prompt_number": 45
    },
    {
     "cell_type": "code",
     "collapsed": false,
     "input": [
      "pyplot.plot(x,y)"
     ],
     "language": "python",
     "metadata": {},
     "outputs": [
      {
       "metadata": {},
       "output_type": "pyout",
       "prompt_number": 49,
       "text": [
        "[<matplotlib.lines.Line2D at 0x594f790>]"
       ]
      }
     ],
     "prompt_number": 49
    },
    {
     "cell_type": "code",
     "collapsed": false,
     "input": [
      "pyplot.title(u'Par\u00e1 bola!')"
     ],
     "language": "python",
     "metadata": {},
     "outputs": [
      {
       "metadata": {},
       "output_type": "pyout",
       "prompt_number": 50,
       "text": [
        "<matplotlib.text.Text at 0x5933a10>"
       ]
      }
     ],
     "prompt_number": 50
    },
    {
     "cell_type": "code",
     "collapsed": false,
     "input": [
      "pyplot.grid()"
     ],
     "language": "python",
     "metadata": {},
     "outputs": []
    },
    {
     "cell_type": "markdown",
     "metadata": {},
     "source": [
      "Los gr\u00e1ficos emergentes son buenos porque tiene la barra de herramientas y podemos guardarlos en excelente calidad (incluso vectorial, ideal para un poster A0). Pero en los notebooks podemos poner los gr\u00e1ficos directamente incrustados"
     ]
    },
    {
     "cell_type": "code",
     "collapsed": false,
     "input": [
      "%matplotlib inline"
     ],
     "language": "python",
     "metadata": {},
     "outputs": [],
     "prompt_number": 59
    },
    {
     "cell_type": "code",
     "collapsed": false,
     "input": [
      "pyplot.plot(x,y)\n",
      "pyplot.title(u'Par\u00e1 bola!')\n",
      "pyplot.grid()"
     ],
     "language": "python",
     "metadata": {},
     "outputs": [
      {
       "metadata": {},
       "output_type": "display_data",
       "png": "[encoded data removed]",
       "text": [
        "<matplotlib.figure.Figure at 0x5264190>"
       ]
      }
     ],
     "prompt_number": 54
    },
    {
     "cell_type": "markdown",
     "metadata": {},
     "source": [
      "Matplotlib sabe hacer much\u00edsimos tipos de gr\u00e1ficos!"
     ]
    },
    {
     "cell_type": "code",
     "collapsed": false,
     "input": [
      "components = [c for (c, f) in critical_oil[1:]]\n",
      "fraction = [float(f) for (c, f) in critical_oil[1:]]\n",
      "# el ; evita el output\n",
      "pyplot.pie(fraction, labels=components, shadow=True);     "
     ],
     "language": "python",
     "metadata": {},
     "outputs": [
      {
       "metadata": {},
       "output_type": "display_data",
       "png": "[encoded data removed]",
       "text": [
        "<matplotlib.figure.Figure at 0x585e650>"
       ]
      }
     ],
     "prompt_number": 62
    },
    {
     "cell_type": "code",
     "collapsed": false,
     "input": [
      "import random\n",
      "campana = [random.gauss(0, 0.5) for i in range(1000)]"
     ],
     "language": "python",
     "metadata": {},
     "outputs": [],
     "prompt_number": 75
    },
    {
     "cell_type": "code",
     "collapsed": false,
     "input": [
      "pyplot.hist(campana, bins=15);"
     ],
     "language": "python",
     "metadata": {},
     "outputs": [
      {
       "metadata": {},
       "output_type": "display_data",
       "png": "[encoded data removed]",
       "text": [
        "<matplotlib.figure.Figure at 0x6510f50>"
       ]
      }
     ],
     "prompt_number": 76
    },
    {
     "cell_type": "markdown",
     "metadata": {},
     "source": [
      "Pero antes de seguir con Matplotlib debemos aprender el coraz\u00f3n del Python Cientifico: Numpy"
     ]
    },
    {
     "cell_type": "markdown",
     "metadata": {},
     "source": [
      "## Numpy, todo es un array\n",
      "\n",
      "El paquete **numpy** es usado en casi todos los c\u00e1lculos num\u00e9ricos usando Python. Es un paquete que provee a Python de estructuras de datos vectoriales, matriciales y de rango mayor, de alto rendimiento. Est\u00e1 implementado en C y Fortran, de modo que cuando los c\u00e1lculos son vectorizados (formulados con vectores y matrices), el rendimiento es muy bueno."
     ]
    },
    {
     "cell_type": "code",
     "collapsed": false,
     "input": [
      "import numpy as np"
     ],
     "language": "python",
     "metadata": {},
     "outputs": [],
     "prompt_number": 2
    },
    {
     "cell_type": "markdown",
     "metadata": {},
     "source": [
      "El pilar de numpy (y toda la computaci\u00f3n cient\u00edfica basada en Python) es el tipo de datos `ndarray`, o sea arreglos de datos multidimensionales. \n",
      "\n",
      "\u00bfOtra secuencia m\u00e1s? \u00bfpero que tenina de malo las listas?\n",
      "\n",
      "Las listas son geniales pero guardar **cualquier tipo de objeto** y su flexibilidad las vuelve ineficientes"
     ]
    },
    {
     "cell_type": "code",
     "collapsed": false,
     "input": [
      "%timeit [0.1*i for i in range(10000)]    # %timeit es otra magia de ipython"
     ],
     "language": "python",
     "metadata": {},
     "outputs": [
      {
       "output_type": "stream",
       "stream": "stdout",
       "text": [
        "1000 loops, best of 3: 679 \u00b5s per loop\n"
       ]
      }
     ],
     "prompt_number": 1
    },
    {
     "cell_type": "code",
     "collapsed": false,
     "input": [
      "%timeit [0.1*i for i in xrange(10000)]     # xrange es igual a range pero devuelve un generador, recuerdan?"
     ],
     "language": "python",
     "metadata": {},
     "outputs": [
      {
       "output_type": "stream",
       "stream": "stdout",
       "text": [
        "1000 loops, best of 3: 610 \u00b5s per loop\n"
       ]
      }
     ],
     "prompt_number": 2
    },
    {
     "cell_type": "code",
     "collapsed": false,
     "input": [
      "%timeit np.arange(0, 1000, .1)    # arange es igual a range, pero soporta paso tipo float!"
     ],
     "language": "python",
     "metadata": {},
     "outputs": [
      {
       "output_type": "stream",
       "stream": "stdout",
       "text": [
        "10000 loops, best of 3: 37 \u00b5s per loop\n"
       ]
      }
     ],
     "prompt_number": 17
    },
    {
     "cell_type": "markdown",
     "metadata": {},
     "source": [
      "Existen varias formas para inicializar nuevos arreglos de numpy, por ejemplo desde\n",
      "\n",
      "- Listas o tuplas\n",
      "- Usando funciones dedicadas a generar arreglos numpy, como `arange`, `linspace`,`ones`, `zeros` etc.\n",
      "- Leyendo datos desde archivos"
     ]
    },
    {
     "cell_type": "code",
     "collapsed": false,
     "input": [
      "v = np.array([1,2,3,4])\n",
      "v"
     ],
     "language": "python",
     "metadata": {},
     "outputs": [
      {
       "metadata": {},
       "output_type": "pyout",
       "prompt_number": 3,
       "text": [
        "array([1, 2, 3, 4])"
       ]
      }
     ],
     "prompt_number": 3
    },
    {
     "cell_type": "code",
     "collapsed": false,
     "input": [
      "# una matriz: el argumento de la funci\u00f3n array function es una lista anidada de Python\n",
      "M = np.array([[1, 2], [3, 4]])\n",
      "M"
     ],
     "language": "python",
     "metadata": {},
     "outputs": [
      {
       "metadata": {},
       "output_type": "pyout",
       "prompt_number": 37,
       "text": [
        "array([[1, 2],\n",
        "       [3, 4]])"
       ]
      }
     ],
     "prompt_number": 37
    },
    {
     "cell_type": "code",
     "collapsed": false,
     "input": [
      "type(v), type(M)"
     ],
     "language": "python",
     "metadata": {},
     "outputs": [
      {
       "metadata": {},
       "output_type": "pyout",
       "prompt_number": 72,
       "text": [
        "(numpy.ndarray, numpy.ndarray)"
       ]
      }
     ],
     "prompt_number": 72
    },
    {
     "cell_type": "markdown",
     "metadata": {},
     "source": [
      "Los ndarrays tienen distintos atributos. Por ejemplo"
     ]
    },
    {
     "cell_type": "code",
     "collapsed": false,
     "input": [
      "v.ndim, M.ndim    # cantidad de dimensiones"
     ],
     "language": "python",
     "metadata": {},
     "outputs": [
      {
       "metadata": {},
       "output_type": "pyout",
       "prompt_number": 16,
       "text": [
        "(1, 2)"
       ]
      }
     ],
     "prompt_number": 16
    },
    {
     "cell_type": "code",
     "collapsed": false,
     "input": [
      "v.shape, M.shape  # tupla de \"forma\". len(v.shape) == v.ndim"
     ],
     "language": "python",
     "metadata": {},
     "outputs": [
      {
       "metadata": {},
       "output_type": "pyout",
       "prompt_number": 18,
       "text": [
        "((4,), (2, 2))"
       ]
      }
     ],
     "prompt_number": 18
    },
    {
     "cell_type": "code",
     "collapsed": false,
     "input": [
      "v.size, M.size   # cantidad de elementos. "
     ],
     "language": "python",
     "metadata": {},
     "outputs": [
      {
       "metadata": {},
       "output_type": "pyout",
       "prompt_number": 19,
       "text": [
        "(4, 4)"
       ]
      }
     ],
     "prompt_number": 19
    },
    {
     "cell_type": "code",
     "collapsed": false,
     "input": [
      "M.T   # traspuesta!"
     ],
     "language": "python",
     "metadata": {},
     "outputs": [
      {
       "metadata": {},
       "output_type": "pyout",
       "prompt_number": 39,
       "text": [
        "array([[1, 3],\n",
        "       [2, 4]])"
       ]
      }
     ],
     "prompt_number": 39
    },
    {
     "cell_type": "markdown",
     "metadata": {},
     "source": [
      "A diferencia de las listas, los *arrays* tambien **tienen un tipo homog\u00e9neo** "
     ]
    },
    {
     "cell_type": "code",
     "collapsed": false,
     "input": [
      "v.dtype     # "
     ],
     "language": "python",
     "metadata": {},
     "outputs": [
      {
       "metadata": {},
       "output_type": "pyout",
       "prompt_number": 76,
       "text": [
        "dtype('int64')"
       ]
      }
     ],
     "prompt_number": 76
    },
    {
     "cell_type": "markdown",
     "metadata": {},
     "source": [
      "Se puede definir explicitamente el tipo de datos del array"
     ]
    },
    {
     "cell_type": "code",
     "collapsed": false,
     "input": [
      "np.array([[1, 2], [3, 4]], dtype=complex)"
     ],
     "language": "python",
     "metadata": {},
     "outputs": [
      {
       "metadata": {},
       "output_type": "pyout",
       "prompt_number": 23,
       "text": [
        "array([[ 1.+0.j,  2.+0.j],\n",
        "       [ 3.+0.j,  4.+0.j]])"
       ]
      }
     ],
     "prompt_number": 23
    },
    {
     "cell_type": "markdown",
     "metadata": {},
     "source": [
      "Una gran ventaja del atributo `shape` es que podemos cambiarlo. Es decir, reacomodar la distruci\u00f3n de los elementos (por supuesto, sin perderlos en el camino)"
     ]
    },
    {
     "cell_type": "code",
     "collapsed": false,
     "input": [
      "A = np.arange(0, 12)\n",
      "print A\n",
      "A.shape = 3,4\n",
      "print A"
     ],
     "language": "python",
     "metadata": {},
     "outputs": [
      {
       "output_type": "stream",
       "stream": "stdout",
       "text": [
        "[ 0  1  2  3  4  5  6  7  8  9 10 11]\n",
        "[[ 0  1  2  3]\n",
        " [ 4  5  6  7]\n",
        " [ 8  9 10 11]]\n"
       ]
      }
     ],
     "prompt_number": 8
    },
    {
     "cell_type": "markdown",
     "metadata": {},
     "source": [
      "Esto es porque numpy en general no mueve los elementos de la memoria y en cambio usa **vistas** para mostrar los elementos de distinta forma. Es importante entender esto porque incluso los slicings son vistas. "
     ]
    },
    {
     "cell_type": "code",
     "collapsed": false,
     "input": [
      "a = np.arange(10)\n",
      "b = a[::2]  # todo de 2 en 2\n",
      "b"
     ],
     "language": "python",
     "metadata": {},
     "outputs": [
      {
       "metadata": {},
       "output_type": "pyout",
       "prompt_number": 49,
       "text": [
        "array([0, 2, 4, 6, 8])"
       ]
      }
     ],
     "prompt_number": 49
    },
    {
     "cell_type": "code",
     "collapsed": false,
     "input": [
      "b[0] = 12\n",
      "a  # chan!!!"
     ],
     "language": "python",
     "metadata": {},
     "outputs": [
      {
       "metadata": {},
       "output_type": "pyout",
       "prompt_number": 50,
       "text": [
        "array([12,  1,  2,  3,  4,  5,  6,  7,  8,  9])"
       ]
      }
     ],
     "prompt_number": 50
    },
    {
     "cell_type": "markdown",
     "metadata": {},
     "source": [
      "En cambio"
     ]
    },
    {
     "cell_type": "code",
     "collapsed": false,
     "input": [
      "a = np.arange(10)\n",
      "b = a[::2].copy()\n",
      "b[0] = 12\n",
      "a"
     ],
     "language": "python",
     "metadata": {},
     "outputs": [
      {
       "metadata": {},
       "output_type": "pyout",
       "prompt_number": 51,
       "text": [
        "array([0, 1, 2, 3, 4, 5, 6, 7, 8, 9])"
       ]
      }
     ],
     "prompt_number": 51
    },
    {
     "cell_type": "markdown",
     "metadata": {},
     "source": [
      "Adem\u00e1s de `arange` hay otras funciones que devuelven arrays. Por ejemplo `linspace`, que a diferencia de `arange` no se da el tama\u00f1o del paso, sino la cantidad de puntos que queremos en el rango"
     ]
    },
    {
     "cell_type": "code",
     "collapsed": false,
     "input": [
      "np.linspace(0, 2 * np.pi, 100)  # por defecto, incluye el limite. "
     ],
     "language": "python",
     "metadata": {},
     "outputs": [
      {
       "metadata": {},
       "output_type": "pyout",
       "prompt_number": 35,
       "text": [
        "array([ 0.        ,  0.06346652,  0.12693304,  0.19039955,  0.25386607,\n",
        "        0.31733259,  0.38079911,  0.44426563,  0.50773215,  0.57119866,\n",
        "        0.63466518,  0.6981317 ,  0.76159822,  0.82506474,  0.88853126,\n",
        "        0.95199777,  1.01546429,  1.07893081,  1.14239733,  1.20586385,\n",
        "        1.26933037,  1.33279688,  1.3962634 ,  1.45972992,  1.52319644,\n",
        "        1.58666296,  1.65012947,  1.71359599,  1.77706251,  1.84052903,\n",
        "        1.90399555,  1.96746207,  2.03092858,  2.0943951 ,  2.15786162,\n",
        "        2.22132814,  2.28479466,  2.34826118,  2.41172769,  2.47519421,\n",
        "        2.53866073,  2.60212725,  2.66559377,  2.72906028,  2.7925268 ,\n",
        "        2.85599332,  2.91945984,  2.98292636,  3.04639288,  3.10985939,\n",
        "        3.17332591,  3.23679243,  3.30025895,  3.36372547,  3.42719199,\n",
        "        3.4906585 ,  3.55412502,  3.61759154,  3.68105806,  3.74452458,\n",
        "        3.8079911 ,  3.87145761,  3.93492413,  3.99839065,  4.06185717,\n",
        "        4.12532369,  4.1887902 ,  4.25225672,  4.31572324,  4.37918976,\n",
        "        4.44265628,  4.5061228 ,  4.56958931,  4.63305583,  4.69652235,\n",
        "        4.75998887,  4.82345539,  4.88692191,  4.95038842,  5.01385494,\n",
        "        5.07732146,  5.14078798,  5.2042545 ,  5.26772102,  5.33118753,\n",
        "        5.39465405,  5.45812057,  5.52158709,  5.58505361,  5.64852012,\n",
        "        5.71198664,  5.77545316,  5.83891968,  5.9023862 ,  5.96585272,\n",
        "        6.02931923,  6.09278575,  6.15625227,  6.21971879,  6.28318531])"
       ]
      }
     ],
     "prompt_number": 35
    },
    {
     "cell_type": "code",
     "collapsed": false,
     "input": [
      "_.size   # en cualquier consola, python guarda el ultimo output en la variable _ "
     ],
     "language": "python",
     "metadata": {},
     "outputs": [
      {
       "metadata": {},
       "output_type": "pyout",
       "prompt_number": 36,
       "text": [
        "100"
       ]
      }
     ],
     "prompt_number": 36
    },
    {
     "cell_type": "code",
     "collapsed": false,
     "input": [
      "matriz_de_ceros = np.zeros((4,6))"
     ],
     "language": "python",
     "metadata": {},
     "outputs": [],
     "prompt_number": 47
    },
    {
     "cell_type": "code",
     "collapsed": false,
     "input": [
      "print cuadrado_de_ceros"
     ],
     "language": "python",
     "metadata": {},
     "outputs": [
      {
       "output_type": "stream",
       "stream": "stdout",
       "text": [
        "[[ 0.  0.  0.  0.  0.  0.]\n",
        " [ 0.  0.  0.  0.  0.  0.]\n",
        " [ 0.  0.  0.  0.  0.  0.]\n",
        " [ 0.  0.  0.  0.  0.  0.]]\n"
       ]
      }
     ],
     "prompt_number": 46
    },
    {
     "cell_type": "code",
     "collapsed": false,
     "input": [
      "np.ones((2, 4), order='F')"
     ],
     "language": "python",
     "metadata": {},
     "outputs": [
      {
       "metadata": {},
       "output_type": "pyout",
       "prompt_number": 51,
       "text": [
        "array([[ 1.,  1.,  1.,  1.],\n",
        "       [ 1.,  1.,  1.,  1.]])"
       ]
      }
     ],
     "prompt_number": 51
    },
    {
     "cell_type": "markdown",
     "metadata": {},
     "source": [
      "Pero numpy no s\u00f3lo nos brinda los arrays. Los conceptos claves que aporta son *vectorizaci\u00f3n* y *broadcasting*\n",
      "\n",
      "La **vectorizaci\u00f3n** describe la **ausencia de iteraciones expl\u00edcitas e indizaci\u00f3n**\n",
      "(que toman lugar, por supuesto, \"detr\u00e1s de escena\", en un optimizado y precompilado\n",
      "c\u00f3digo C). La vectorizaci\u00f3n tiene muchas ventajas:\n",
      "\n",
      "* El c\u00f3digo vectorizado es m\u00e1s conciso y f\u00e1cil de leer.\n",
      "* Menos l\u00edneas de c\u00f3digo habitualmente implican menos errores.\n",
      "* El c\u00f3digo se parece m\u00e1s a la notaci\u00f3n matem\u00e1tica est\u00e1ndar (por lo que es m\u00e1s f\u00e1cil,\n",
      "por lo general, corregir c\u00f3digo asociado a construcciones matem\u00e1ticas\n",
      "* La vectorizaci\u00f3n redunda en un c\u00f3digo m\u00e1s \"pyth\u00f3nico\""
     ]
    },
    {
     "cell_type": "code",
     "collapsed": false,
     "input": [
      "a = np.array([3, 4.3, 1])\n",
      "b = np.array([-1, 0, 3.4])\n",
      "c = a * b\n",
      "print c"
     ],
     "language": "python",
     "metadata": {},
     "outputs": [
      {
       "output_type": "stream",
       "stream": "stdout",
       "text": [
        "[-3.   0.   3.4]\n"
       ]
      }
     ],
     "prompt_number": 56
    },
    {
     "cell_type": "markdown",
     "metadata": {},
     "source": [
      "\u00a1Basta de bucles `for` for todos lados! "
     ]
    },
    {
     "cell_type": "markdown",
     "metadata": {},
     "source": [
      "El **broadcasting** (*difusi\u00f3n*) es el t\u00e9rmino que describe el comportamiento\n",
      "**elemento por elemento** de las operaciones. En general, en Numpy todas\n",
      "las operaciones adoptan por defecto un comportamiento de este tipo (no s\u00f3lo las operaciones\n",
      "aritm\u00e9ticas sino las l\u00f3gicas, las funcionales y las de nivel de bits). "
     ]
    },
    {
     "cell_type": "code",
     "collapsed": false,
     "input": [
      "x = np.linspace(-12, 12, 1000)\n",
      "y = x ** 2 - 1\n",
      "pyplot.plot(x, y)"
     ],
     "language": "python",
     "metadata": {},
     "outputs": [
      {
       "metadata": {},
       "output_type": "pyout",
       "prompt_number": 63,
       "text": [
        "[<matplotlib.lines.Line2D at 0x3c1c850>]"
       ]
      },
      {
       "metadata": {},
       "output_type": "display_data",
       "png": "[encoded data removed]",
       "text": [
        "<matplotlib.figure.Figure at 0x38b9a10>"
       ]
      }
     ],
     "prompt_number": 63
    },
    {
     "cell_type": "markdown",
     "metadata": {},
     "source": [
      "Matplotlib se lleva muy bien con numpy (de hecho lo usa internamente)"
     ]
    },
    {
     "cell_type": "markdown",
     "metadata": {},
     "source": [
      "### Slicing extendido\n",
      "\n",
      "El funcionamiento b\u00e1sico del indexado y el slicing funciona igual con `ndarrays` que con cualquier secuencia.  \n"
     ]
    },
    {
     "cell_type": "code",
     "collapsed": false,
     "input": [
      "ruido = np.random.random(1000)   # 1000 numeros aleatorios entre [0, 1)\n"
     ],
     "language": "python",
     "metadata": {},
     "outputs": [],
     "prompt_number": 64
    },
    {
     "cell_type": "code",
     "collapsed": false,
     "input": [
      "ruido[0] == ruido[-1000]"
     ],
     "language": "python",
     "metadata": {},
     "outputs": [
      {
       "metadata": {},
       "output_type": "pyout",
       "prompt_number": 65,
       "text": [
        "True"
       ]
      }
     ],
     "prompt_number": 65
    },
    {
     "cell_type": "code",
     "collapsed": false,
     "input": [
      "ruido[999] == ruido[-1]"
     ],
     "language": "python",
     "metadata": {},
     "outputs": [
      {
       "metadata": {},
       "output_type": "pyout",
       "prompt_number": 67,
       "text": [
        "True"
       ]
      }
     ],
     "prompt_number": 67
    },
    {
     "cell_type": "code",
     "collapsed": false,
     "input": [
      "ruido[1:5]"
     ],
     "language": "python",
     "metadata": {},
     "outputs": [
      {
       "metadata": {},
       "output_type": "pyout",
       "prompt_number": 69,
       "text": [
        "array([ 0.28478492,  0.23592762,  0.9199324 ,  0.28306286])"
       ]
      }
     ],
     "prompt_number": 69
    },
    {
     "cell_type": "code",
     "collapsed": false,
     "input": [
      "ruido[0:10] = np.zeros((10,))  # claro que los arrays son mutables!"
     ],
     "language": "python",
     "metadata": {},
     "outputs": [],
     "prompt_number": 71
    },
    {
     "cell_type": "markdown",
     "metadata": {},
     "source": [
      "Pero veamos algo m\u00e1s. Supongamos que tenemos una matriz de 3x3"
     ]
    },
    {
     "cell_type": "code",
     "collapsed": false,
     "input": [
      "a = np.arange(0, 55)  \n",
      "m.shape = 6,5"
     ],
     "language": "python",
     "metadata": {},
     "outputs": [
      {
       "ename": "ValueError",
       "evalue": "total size of new array must be unchanged",
       "output_type": "pyerr",
       "traceback": [
        "\u001b[1;31m---------------------------------------------------------------------------\u001b[0m\n\u001b[1;31mValueError\u001b[0m                                Traceback (most recent call last)",
        "\u001b[1;32m<ipython-input-32-08b8138e5de9>\u001b[0m in \u001b[0;36m<module>\u001b[1;34m()\u001b[0m\n\u001b[0;32m      1\u001b[0m \u001b[0ma\u001b[0m \u001b[1;33m=\u001b[0m \u001b[0mnp\u001b[0m\u001b[1;33m.\u001b[0m\u001b[0marange\u001b[0m\u001b[1;33m(\u001b[0m\u001b[1;36m0\u001b[0m\u001b[1;33m,\u001b[0m \u001b[1;36m55\u001b[0m\u001b[1;33m)\u001b[0m\u001b[1;33m\u001b[0m\u001b[0m\n\u001b[1;32m----> 2\u001b[1;33m \u001b[0mm\u001b[0m\u001b[1;33m.\u001b[0m\u001b[0mshape\u001b[0m \u001b[1;33m=\u001b[0m \u001b[1;36m6\u001b[0m\u001b[1;33m,\u001b[0m\u001b[1;36m5\u001b[0m\u001b[1;33m\u001b[0m\u001b[0m\n\u001b[0m",
        "\u001b[1;31mValueError\u001b[0m: total size of new array must be unchanged"
       ]
      }
     ],
     "prompt_number": 32
    },
    {
     "cell_type": "code",
     "collapsed": false,
     "input": [
      "m"
     ],
     "language": "python",
     "metadata": {},
     "outputs": [
      {
       "metadata": {},
       "output_type": "pyout",
       "prompt_number": 16,
       "text": [
        "array([[0, 1, 2],\n",
        "       [3, 4, 5],\n",
        "       [6, 7, 8]])"
       ]
      }
     ],
     "prompt_number": 16
    },
    {
     "cell_type": "code",
     "collapsed": false,
     "input": [
      "m[0]   # primer indice: filas"
     ],
     "language": "python",
     "metadata": {},
     "outputs": [
      {
       "metadata": {},
       "output_type": "pyout",
       "prompt_number": 18,
       "text": [
        "array([0, 1, 2])"
       ]
      }
     ],
     "prompt_number": 18
    },
    {
     "cell_type": "code",
     "collapsed": false,
     "input": [
      "m[0:2]"
     ],
     "language": "python",
     "metadata": {},
     "outputs": [
      {
       "metadata": {},
       "output_type": "pyout",
       "prompt_number": 27,
       "text": [
        "array([[0, 1, 2],\n",
        "       [3, 4, 5]])"
       ]
      }
     ],
     "prompt_number": 27
    },
    {
     "cell_type": "markdown",
     "metadata": {},
     "source": [
      "Pero la sintaxis se extiende de una manera eficiente y compacta.\n",
      "\n"
     ]
    },
    {
     "cell_type": "code",
     "collapsed": false,
     "input": [
      "%timeit m[1][1]   # buuuuh!!!"
     ],
     "language": "python",
     "metadata": {},
     "outputs": [
      {
       "output_type": "stream",
       "stream": "stdout",
       "text": [
        "1000000 loops, best of 3: 338 ns per loop\n"
       ]
      }
     ],
     "prompt_number": 25
    },
    {
     "cell_type": "code",
     "collapsed": false,
     "input": [
      "%timeit m[1,1]    # yeaaaa!!!"
     ],
     "language": "python",
     "metadata": {},
     "outputs": [
      {
       "output_type": "stream",
       "stream": "stdout",
       "text": [
        "10000000 loops, best of 3: 132 ns per loop\n"
       ]
      }
     ],
     "prompt_number": 26
    },
    {
     "cell_type": "code",
     "collapsed": false,
     "input": [
      "m[:,0]  # quiero la primer columna"
     ],
     "language": "python",
     "metadata": {},
     "outputs": [
      {
       "metadata": {},
       "output_type": "pyout",
       "prompt_number": 30,
       "text": [
        "array([0, 3, 6])"
       ]
      }
     ],
     "prompt_number": 30
    },
    {
     "cell_type": "code",
     "collapsed": false,
     "input": [
      "m[0:2, 0:2]   # la submatriz superior izquierda de 2x2 "
     ],
     "language": "python",
     "metadata": {},
     "outputs": [
      {
       "metadata": {},
       "output_type": "pyout",
       "prompt_number": 33,
       "text": [
        "array([[0, 1],\n",
        "       [3, 4]])"
       ]
      }
     ],
     "prompt_number": 33
    },
    {
     "cell_type": "markdown",
     "metadata": {},
     "source": [
      "Se acuerdan que en el slicing com\u00fan hab\u00eda un tercer parametro opcional que era el paso? Funciona ac\u00e1 tambi\u00e9n"
     ]
    },
    {
     "cell_type": "code",
     "collapsed": false,
     "input": [
      "m[::2, ::2]    # esquinas"
     ],
     "language": "python",
     "metadata": {},
     "outputs": [
      {
       "metadata": {},
       "output_type": "pyout",
       "prompt_number": 35,
       "text": [
        "array([[0, 2],\n",
        "       [6, 8]])"
       ]
      }
     ],
     "prompt_number": 35
    },
    {
     "cell_type": "markdown",
     "metadata": {},
     "source": [
      "Como resumen\n",
      "\n",
      "![](http://www.tp.umu.se/~nylen/pylect/_images/numpy_indexing.png)\n"
     ]
    },
    {
     "cell_type": "markdown",
     "metadata": {},
     "source": [
      "## Ejercicios ? "
     ]
    },
    {
     "cell_type": "code",
     "collapsed": false,
     "input": [],
     "language": "python",
     "metadata": {},
     "outputs": []
    }
   ],
   "metadata": {}
  }
 ]
}