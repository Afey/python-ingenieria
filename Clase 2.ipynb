{
 "metadata": {
  "name": ""
 },
 "nbformat": 3,
 "nbformat_minor": 0,
 "worksheets": [
  {
   "cells": [
    {
     "cell_type": "markdown",
     "metadata": {},
     "source": [
      "# Python para ciencia e ingenier\u00eda. Clase 2/6\n",
      "\n",
      "**Tallerista**: Mart\u00edn Gait\u00e1n (Phasety)\n",
      "\n",
      "**Colaboradores**: Jairo Trad (Insus) y Juli\u00e1n Scortechini (Phasety)\n",
      "\n",
      "                                \n",
      "                                Agosto/Septiembre de 2013\n",
      "\n",
      "![](http://phasety.com/squelettes/img/logo.png)\n",
      "\n",
      "----\n",
      "Licencia: ![](http://i.creativecommons.org/l/by-sa/2.5/ar/88x31.png)\n",
      "\n",
      "\n",
      "## Repaso\n",
      "\n",
      "- Estructuras de datos\n",
      "  \n",
      "  - numeros: enteros, flotantes, complejos\n",
      "  - secuencias: cadenas, listas, tuplas. M\u00e9todos asociados. \n",
      "  - diccionarios y conjuntos\n",
      "  - funciones: range, zip, enumerate, type\n",
      "\n",
      "- Control de flujo\n",
      "  \n",
      "  - if/elif/else\n",
      "  - for/break/continue\n",
      "  - while\n",
      "  \n",
      "  \n",
      "## C\u00f3mo seguimos?\n",
      "\n",
      "### Funciones\n",
      "\n",
      "Las funciones son bloques de c\u00f3digo que uno puede ejecutar para obtener un resultado. En Python las funciones se definen con `def`"
     ]
    },
    {
     "cell_type": "code",
     "collapsed": false,
     "input": [
      "def cuadrado(numero):\n",
      "    \"\"\"dado un escalar, devuelve su potencia cuadrada\"\"\"\n",
      "    return numero**2\n",
      "    "
     ],
     "language": "python",
     "metadata": {},
     "outputs": [],
     "prompt_number": 1
    },
    {
     "cell_type": "code",
     "collapsed": false,
     "input": [
      "cuadrado(4.3), cuadrado(2), cuadrado(1j)"
     ],
     "language": "python",
     "metadata": {},
     "outputs": [
      {
       "metadata": {},
       "output_type": "pyout",
       "prompt_number": 8,
       "text": [
        "(18.49, 4, (-1+0j))"
       ]
      }
     ],
     "prompt_number": 8
    },
    {
     "cell_type": "markdown",
     "metadata": {},
     "source": [
      "Notar que no **forzamos un tipo de dato** en la signatura. Python es din\u00e1mico se esperan **comportamientos** en vez de tipos. Un tipo de datos puede implementar distintos comportamientos. \n",
      "\n",
      "Si un n\u00famero, cualquiera sea su tipo, puede elevarse al cuadrado, \u00bfpor qu\u00e9 hacer una funcion para enteros, otra para flotantes de simple precisi\u00f3n y otra para complejos? (Fortran, tel\u00e9fono!)\n",
      "\n",
      "Esto es lo que se conoce como **Duck typing**. \n",
      "\n",
      "   \"Cuando veo un ave que camina como un pato, nada como un pato y suena como un pato, a esa ave yo la llamo un pato.\" \n",
      "\n"
     ]
    },
    {
     "cell_type": "code",
     "collapsed": false,
     "input": [
      "cuadrado(\"hola mundo\")"
     ],
     "language": "python",
     "metadata": {},
     "outputs": [
      {
       "ename": "TypeError",
       "evalue": "unsupported operand type(s) for ** or pow(): 'str' and 'int'",
       "output_type": "pyerr",
       "traceback": [
        "\u001b[1;31m---------------------------------------------------------------------------\u001b[0m\n\u001b[1;31mTypeError\u001b[0m                                 Traceback (most recent call last)",
        "\u001b[1;32m<ipython-input-9-96c34a475a00>\u001b[0m in \u001b[0;36m<module>\u001b[1;34m()\u001b[0m\n\u001b[1;32m----> 1\u001b[1;33m \u001b[0mcuadrado\u001b[0m\u001b[1;33m(\u001b[0m\u001b[1;34m\"hola mundo\"\u001b[0m\u001b[1;33m)\u001b[0m\u001b[1;33m\u001b[0m\u001b[0m\n\u001b[0m",
        "\u001b[1;32m<ipython-input-1-379b69a0791c>\u001b[0m in \u001b[0;36mcuadrado\u001b[1;34m(numero)\u001b[0m\n\u001b[0;32m      1\u001b[0m \u001b[1;32mdef\u001b[0m \u001b[0mcuadrado\u001b[0m\u001b[1;33m(\u001b[0m\u001b[0mnumero\u001b[0m\u001b[1;33m)\u001b[0m\u001b[1;33m:\u001b[0m\u001b[1;33m\u001b[0m\u001b[0m\n\u001b[0;32m      2\u001b[0m     \u001b[1;34m\"\"\"dado un escalar, devuelve su potencia cuadrada\"\"\"\u001b[0m\u001b[1;33m\u001b[0m\u001b[0m\n\u001b[1;32m----> 3\u001b[1;33m     \u001b[1;32mreturn\u001b[0m \u001b[0mnumero\u001b[0m\u001b[1;33m**\u001b[0m\u001b[1;36m2\u001b[0m\u001b[1;33m\u001b[0m\u001b[0m\n\u001b[0m\u001b[0;32m      4\u001b[0m \u001b[1;33m\u001b[0m\u001b[0m\n",
        "\u001b[1;31mTypeError\u001b[0m: unsupported operand type(s) for ** or pow(): 'str' and 'int'"
       ]
      }
     ],
     "prompt_number": 9
    },
    {
     "cell_type": "markdown",
     "metadata": {},
     "source": [
      "Obviamente, si el objeto (el tipo del objeto) que pasamos no soporta el comportamiento que esperamos (en este caso no se puede \"elevar al cuadrado\" una cadena) fallar\u00e1. \n",
      "\n",
      "Pero es mejor que nos avise del error, \u00bfno? \u00bfPor qu\u00e9 querr\u00edamos elevar una cadena al cuadrado? \n",
      "\n",
      "\n",
      "\n",
      "\n",
      "\n",
      "![](http://img.desmotivaciones.es/201109/CliffRobertsonSpiderman1.jpg)\n",
      "\n",
      "\n",
      "\n",
      "\n",
      "#### Parametros y m\u00e1s par\u00e1metros\n",
      "\n",
      "La definci\u00f3n de funciones es muy flexible. No exige ni siquiera pasar par\u00e1metros o devolver resultados\n"
     ]
    },
    {
     "cell_type": "code",
     "collapsed": false,
     "input": [
      "def hola():\n",
      "    print \"Hola amigos!\"\n",
      "\n",
      "hola()"
     ],
     "language": "python",
     "metadata": {},
     "outputs": [
      {
       "output_type": "stream",
       "stream": "stdout",
       "text": [
        "Hola amigos!\n"
       ]
      }
     ],
     "prompt_number": 10
    },
    {
     "cell_type": "code",
     "collapsed": false,
     "input": [
      "saludo = hola()\n",
      "print saludo"
     ],
     "language": "python",
     "metadata": {},
     "outputs": [
      {
       "output_type": "stream",
       "stream": "stdout",
       "text": [
        "Hola amigos!\n",
        "None\n"
       ]
      }
     ],
     "prompt_number": 11
    },
    {
     "cell_type": "markdown",
     "metadata": {},
     "source": [
      "Si la funci\u00f3n no termina en un return expl\u00edcito, la funci\u00f3n devuelve un `None`. Tambi\u00e9n puede haber multiples `return` en una funci\u00f3n"
     ]
    },
    {
     "cell_type": "code",
     "collapsed": false,
     "input": [
      "def hola(coloquial):\n",
      "    if coloquial:\n",
      "        return \"Hola chochamus!\"\n",
      "    else:\n",
      "        return \"Hola se\u00f1ores\"\n",
      "\n",
      "hola(True)\n"
     ],
     "language": "python",
     "metadata": {},
     "outputs": [
      {
       "metadata": {},
       "output_type": "pyout",
       "prompt_number": 15,
       "text": [
        "'Hola chochamus!'"
       ]
      }
     ],
     "prompt_number": 15
    },
    {
     "cell_type": "markdown",
     "metadata": {},
     "source": [
      "Se pueden definir par\u00e1metros opcionales, que toman un valor *default* cuando no se los explic\u00edta"
     ]
    },
    {
     "cell_type": "code",
     "collapsed": false,
     "input": [
      "def saludo(nombre, saludo=\"Hola\", sufijo=\"que tal?\"):\n",
      "    \"\"\"Dado un nombre y, opcionalmente, un saludo y/o sufijo, devuelve \n",
      "    una cadena saludo + nombre + sufijo\"\"\"\n",
      "    \n",
      "    return \"%(saludo)s %(nombre)s, %(sufijo)s\" % locals()   #interpolaci\u00f3n con diccionario. \n",
      "print saludo(\"Melisa\")\n",
      "print saludo(\"Mart\u00edn\", \"que hac\u00e9s\")\n",
      "print saludo(\"Jos\u00e9\", \"Che\", \"c\u00f3mo and\u00e1s peladito?\")\n",
      "help(saludo)"
     ],
     "language": "python",
     "metadata": {},
     "outputs": [
      {
       "output_type": "stream",
       "stream": "stdout",
       "text": [
        "Hola Melisa, que tal?\n",
        "que hac\u00e9s Mart\u00edn, que tal?\n",
        "Che Jos\u00e9, c\u00f3mo and\u00e1s peladito?\n",
        "Help on function saludo in module __main__:\n",
        "\n",
        "saludo(nombre, saludo='Hola', sufijo='que tal?')\n",
        "    Dado un nombre y, opcionalmente, un saludo y/o sufijo, devuelve \n",
        "    una cadena saludo + nombre + sufijo\n",
        "\n"
       ]
      }
     ],
     "prompt_number": 35
    },
    {
     "cell_type": "markdown",
     "metadata": {},
     "source": [
      "La funci\u00f3n `saludo` recibe un par\u00e1metro requerido `nombre` (es requerido porque no tiene valor por omisi\u00f3n)  y dos par\u00e1metros opcionales (`saludo` y `sufijo`). \n",
      "\n",
      "- Si s\u00f3lo paso 1 par\u00e1metro ser\u00e1 `nombre` y los valores default se usar\u00e1n para los otros. \n",
      "- Si paso 2 se usaran para `nombre` y `saludo` y `sufijo` usar\u00e1 el default\n",
      "- Si paso todos los par\u00e1metros no se usaran los valores por omisi\u00f3n.\n",
      "\n",
      "Pero \u00bfqu\u00e9 pasa si quiero usar el default para `saludo` pero no para `sufijo`? \n",
      "\n",
      "Explicitamos los par\u00e1metros por nombre:\n",
      "\n"
     ]
    },
    {
     "cell_type": "code",
     "collapsed": false,
     "input": [
      "print saludo(\"Juli\u00e1n\", sufijo=\"todo bien?\")"
     ],
     "language": "python",
     "metadata": {},
     "outputs": [
      {
       "output_type": "stream",
       "stream": "stdout",
       "text": [
        "Hola Juli\u00e1n, todo bien?\n"
       ]
      }
     ],
     "prompt_number": 26
    },
    {
     "cell_type": "markdown",
     "metadata": {},
     "source": [
      "Cuando se usan par\u00e1metros por nombre no importa el \u00f3rden. Si mezclamos  **par\u00e1metros por posici\u00f3n, deben ir antes** de los par\u00e1metros por nombre. \n",
      "\n",
      "\n"
     ]
    },
    {
     "cell_type": "markdown",
     "metadata": {},
     "source": [
      "#### Ejercicio\n",
      "\n",
      "Definir una funci\u00f3n `marquesina` que, dada una cadena, la devuelve en una \n",
      "decorada. Por ejemplo, dada `\"Hola\"`, devuelve\n",
      "\n",
      "    *****************\n",
      "    *      Hola     *\n",
      "    *****************\n",
      "\n",
      "El, ancho, alto del relleno y el caracter de decoraci\u00f3n son par\u00e1metros opcionales"
     ]
    },
    {
     "cell_type": "code",
     "collapsed": true,
     "input": [
      "%load https://gist.github.com/mgaitan/6319640/raw/9c568a4200ee4dd04d7511f6d80edb406d057a95/gistfile1.txt"
     ],
     "language": "python",
     "metadata": {
      "slideshow": {
       "slide_type": "skip"
      }
     },
     "outputs": [],
     "prompt_number": 12
    },
    {
     "cell_type": "markdown",
     "metadata": {},
     "source": [
      "*Nota*: Mi implementaci\u00f3n es muy fea: fijens\u00e9 que hay bastante c\u00f3digo que se repite. Tip: **\u00a1Podemos hacer una funci\u00f3n adentro de otra funci\u00f3n!**"
     ]
    },
    {
     "cell_type": "markdown",
     "metadata": {},
     "source": [
      "#### Par\u00e1metros arbitrarios: *args y **kwargs\n",
      "\n",
      "Hasta ac\u00e1 todo bonito. Pero \u00bfqu\u00e9 tal si quiero definir una funci\u00f3n que acepte una cantidad arbitraria de par\u00e1metros? Ac\u00e1 vienen `*args` y `**kwargs`. "
     ]
    },
    {
     "cell_type": "code",
     "collapsed": false,
     "input": [
      "def f(p, *args, **kwargs):\n",
      "     print \"p:\", p\n",
      "     print \"args:\", args\n",
      "     print \"kwargs:\", kwargs\n",
      "\n",
      "f(1,2,3)"
     ],
     "language": "python",
     "metadata": {},
     "outputs": [
      {
       "output_type": "stream",
       "stream": "stdout",
       "text": [
        "p: 1\n",
        "args: (2, 3)\n",
        "kwargs: {}\n"
       ]
      }
     ],
     "prompt_number": 2
    },
    {
     "cell_type": "markdown",
     "metadata": {},
     "source": [
      "Con `*args` se indica *\"mapear todos los argumentos posicionales no expl\u00edcitos a una tupla llamada `args`\"*. Y con `**kwargs` se indica \"mapear todos los argumentos de palabra clave no expl\u00edcitos a un diccionario llamado `kwargs`\".\n",
      "\n",
      "** NOTA **: No es necesario los nombres \"args\" y \"kwargs\", podemos llamarlas diferente! los simbolos que indican cantidades arbitrarias de parametros son `*` y `**`. Adem\u00e1s es posible poner parametros \"comunes\" antes de los parametros arbritarios.\n",
      "\n",
      "\n",
      "### La inversa: Desempacar secuencias o diccionarios\n",
      "\n",
      "Si ya tengo los par\u00e1metros que quiero pasar a una funci\u00f3n, los \"desempaco\". \n",
      "\n",
      "\n"
     ]
    },
    {
     "cell_type": "code",
     "collapsed": false,
     "input": [
      "otra_data = ('Che', 'sos vivo?')\n",
      "mi_data = {'nombre': 'Cristian', 'saludo': 'Ey', 'sufijo': 'qu\u00e9 onda'}\n",
      "\n",
      "print saludo('Jos\u00e9', *otra_data)\n",
      "print saludo(**mi_data)"
     ],
     "language": "python",
     "metadata": {},
     "outputs": [
      {
       "output_type": "stream",
       "stream": "stdout",
       "text": [
        "Che Jos\u00e9, sos vivo?\n",
        "Ey Cristian, qu\u00e9 onda\n"
       ]
      }
     ],
     "prompt_number": 15
    },
    {
     "cell_type": "markdown",
     "metadata": {},
     "source": [
      "## Manejo de errores\n",
      "\n",
      "Ya vimos que a veces suceden errores: Por ejemplo, cuando apuntamos a un elemento mayor al tama\u00f1o de una secuencia, con una clave que no existe, cuando dividimos por cero, etc. \n",
      "\n",
      "No hay problema interactivamente, porque podemos corregir y reintentar (lo que es genial), pero muchas veces queremos o necesitamos que el flujo del programa siga. Por ejemplo:\n",
      "\n",
      "\n",
      " http://docs.python.org.ar/tutorial/2/errors.html\n"
     ]
    },
    {
     "cell_type": "code",
     "collapsed": false,
     "input": [
      "while True:\n",
      "    try:\n",
      "        x = int(raw_input(u\"Por favor ingrese un n\u00famero: \"))\n",
      "        break\n",
      "    except ValueError:\n",
      "        print u\"Oops!  No es v\u00e1lido.  Intente nuevamente...\""
     ],
     "language": "python",
     "metadata": {},
     "outputs": [
      {
       "name": "stdout",
       "output_type": "stream",
       "stream": "stdout",
       "text": [
        "Por favor ingrese un n\u00famero: catorce\n"
       ]
      },
      {
       "output_type": "stream",
       "stream": "stdout",
       "text": [
        "Oops!  No es v\u00e1lido.  Intente nuevamente...\n"
       ]
      }
     ],
     "prompt_number": "*"
    },
    {
     "cell_type": "markdown",
     "metadata": {},
     "source": [
      "El bloque `try` / `except` sirve para esto. En el `except` se ponen el tipo de excepci\u00f3n (o una tupla de tipos de expeciones) que ese bloque capturar\u00e1. Puede haber multiples bloques `except` y, opcionalemente, un bloque `finally` que se ejecuta si no se captur\u00f3 ninguna excepci\u00f3n. \n",
      "\n",
      "Esto se usan mucho!  Es mejor pedir perd\u00f3n (capturar potenciales errores) que pedir permiso (verificar tipo de dato). (Esperamos comportamientos y no tipos)\n",
      "    \n",
      "   \n"
     ]
    },
    {
     "cell_type": "markdown",
     "metadata": {},
     "source": [
      "## Lectura y escritura de archivos\n",
      "\n",
      "Siempre necesitamos leer y escribir archivos. Es la forma b\u00e1sica de interactuar con el resto del sistema, meter y sacar datos para la \"computaci\u00f3n\". Como en Python todo es un objeto, lo que tenemos es un \"objeto manejador de archivos\" . La forma m\u00e1s b\u00e1sica de obtener uno es con la funci\u00f3n `open()` que se le dice la ruta al archivo y el modo:\n",
      "\n",
      "\n",
      "       'r': lectura\n",
      "       'w': sobreescritura\n",
      "       'a': agregar contenido al final\n",
      "       'r+': lectura/escritura\n",
      "       \n",
      "En Windows, agregando '`b`' al final del modo, lo abre en modo binario\n"
     ]
    },
    {
     "cell_type": "code",
     "collapsed": false,
     "input": [
      "readme = open('README.rst', 'r')\n",
      "print readme"
     ],
     "language": "python",
     "metadata": {},
     "outputs": [
      {
       "output_type": "stream",
       "stream": "stdout",
       "text": [
        "<open file 'README.rst', mode 'r' at 0x32329c0>\n"
       ]
      }
     ],
     "prompt_number": 18
    },
    {
     "cell_type": "code",
     "collapsed": false,
     "input": [
      "print readme.read(118)"
     ],
     "language": "python",
     "metadata": {},
     "outputs": [
      {
       "output_type": "stream",
       "stream": "stdout",
       "text": [
        "\n",
        "Python para Ingenier\u00eda\n",
        "=======================\n",
        "\n",
        "Un curso de Python orientado a estudiantes de ingenieria, ingenieros\n"
       ]
      }
     ],
     "prompt_number": 19
    },
    {
     "cell_type": "markdown",
     "metadata": {},
     "source": [
      "Atenti: el objeto manejador lleva internamente la **posici\u00f3n del cursor**. Por ejemplo, si invocan multiples veces el metodo `read()`, leer\u00e1n porciones consecutivas del archivo. \n",
      "\n",
      "M\u00e9todos \u00fatiles: `read()`, `readlines()`, `write()`, `writelines()`\n",
      "\n",
      "A veces simplemente queremos hacer algo \"linea por linea\". En vez de usar `readlines()` y cargar todo en memoria (que puede ser grande), podemos iterar directamente sobre el archivo. "
     ]
    },
    {
     "cell_type": "code",
     "collapsed": false,
     "input": [
      "readme = open('README.rst', 'r')\n",
      "for i, linea in enumerate(readme):\n",
      "    if i < 3:\n",
      "        print linea\n",
      "    else:\n",
      "        break"
     ],
     "language": "python",
     "metadata": {},
     "outputs": [
      {
       "output_type": "stream",
       "stream": "stdout",
       "text": [
        "\n",
        "\n",
        "Python para Ingenier\u00eda\n",
        "\n",
        "=======================\n",
        "\n"
       ]
      }
     ],
     "prompt_number": 31
    },
    {
     "cell_type": "markdown",
     "metadata": {},
     "source": [
      "Hasta que no se invoca al m\u00e9todo `close()` el archivo est\u00e1 manejado en memoria por Python (y puede causar conflictos si queremos abrir el archivo desde otro programa). Como los objetos `file` saben usar un bloque `with` (manejador de contexto), podemos usarlo para que se cierre autom\u00e1ticamente. "
     ]
    },
    {
     "cell_type": "code",
     "collapsed": false,
     "input": [
      "with open('README.rst', 'r') as readme:\n",
      "    lineas = readme.readlines()[1:5]\n",
      "print lineas"
     ],
     "language": "python",
     "metadata": {},
     "outputs": [
      {
       "output_type": "stream",
       "stream": "stdout",
       "text": [
        "['Python para Ingenier\\xc3\\xada\\n', '=======================\\n', '\\n', 'Un curso de Python orientado a estudiantes de ingenieria, ingenieros\\n']\n"
       ]
      }
     ],
     "prompt_number": 33
    },
    {
     "cell_type": "markdown",
     "metadata": {},
     "source": [
      "#### Ejericio:\n",
      "\n",
      "Escriba una funci\u00f3n que, dada la ruta de un archivo de texto, escriba otro con de igual nombre con prefijo `\"upper_\"` cuyo contenido es el del original convertido a may\u00fasculas"
     ]
    },
    {
     "cell_type": "markdown",
     "metadata": {},
     "source": [
      "## Clases y objetos \u00bfqu\u00e9 lo qu\u00e9?\n",
      "\n",
      "No vamos a entrar en detalles sobre qu\u00e9 es la famos\u00edsima \"programaci\u00f3n orientada a objetos\". Simplemente es una buena manera de estructurar c\u00f3digo para repetirse menos y \"encapsular\" datos y comportamientos relacionados. Por ejemplo, cuando muchas funciones que reciben el mismo conjunto de par\u00e1metros, es un buen candidado a reescribirlo como una clase. "
     ]
    },
    {
     "cell_type": "code",
     "collapsed": false,
     "input": [
      "class Rectangulo(object):\n",
      "    def __init__(self, base, altura):\n",
      "        self.base = base\n",
      "        self.altura = altura\n",
      "    \n",
      "    def area(self):\n",
      "        return self.base * self.altura\n",
      "    \n",
      "    def perimetro(self):\n",
      "        return (self.base + self.altura) * 2\n",
      "\n",
      "# ya tengo la clase Rectangulo. \n",
      "# Ahora puedo definir uno en particular\n",
      "# un objeto tipo \"Rectangulo\". \n",
      "# Autom\u00e1ticamente se llama a la \"funci\u00f3n\" inicializadoa __init__\n",
      "\n",
      "mi_rectangulo = Rectangulo(3, 4)"
     ],
     "language": "python",
     "metadata": {},
     "outputs": [],
     "prompt_number": 54
    },
    {
     "cell_type": "code",
     "collapsed": false,
     "input": [
      "mi_rectangulo.area()"
     ],
     "language": "python",
     "metadata": {},
     "outputs": [
      {
       "metadata": {},
       "output_type": "pyout",
       "prompt_number": 55,
       "text": [
        "12"
       ]
      }
     ],
     "prompt_number": 55
    },
    {
     "cell_type": "code",
     "collapsed": false,
     "input": [
      "mi_rectangulo.perimetro()"
     ],
     "language": "python",
     "metadata": {},
     "outputs": [
      {
       "metadata": {},
       "output_type": "pyout",
       "prompt_number": 56,
       "text": [
        "14"
       ]
      }
     ],
     "prompt_number": 56
    },
    {
     "cell_type": "code",
     "collapsed": false,
     "input": [
      "print (mi_rectangulo.base, mi_rectangulo.altura)"
     ],
     "language": "python",
     "metadata": {},
     "outputs": [
      {
       "output_type": "stream",
       "stream": "stdout",
       "text": [
        "(3, 4)\n"
       ]
      }
     ],
     "prompt_number": 57
    },
    {
     "cell_type": "markdown",
     "metadata": {},
     "source": [
      "Por defecto, los atributos de un objeto tambien se pueden modificar."
     ]
    },
    {
     "cell_type": "code",
     "collapsed": false,
     "input": [
      "mi_rectangulo.base = 2.2    \n",
      "print \"La nueva area es %.2f\" % mi_rectangulo.area()"
     ],
     "language": "python",
     "metadata": {},
     "outputs": [
      {
       "output_type": "stream",
       "stream": "stdout",
       "text": [
        "La nueva area es 8.80\n"
       ]
      }
     ],
     "prompt_number": 58
    },
    {
     "cell_type": "markdown",
     "metadata": {},
     "source": [
      "Como Rectangulo es un tipo definido por nosotros, Python desconoce una buena forma de representar el objeto cuando se lo predimos. "
     ]
    },
    {
     "cell_type": "code",
     "collapsed": false,
     "input": [
      "print mi_rectangulo\n",
      "mi_rectangulo"
     ],
     "language": "python",
     "metadata": {},
     "outputs": [
      {
       "output_type": "stream",
       "stream": "stdout",
       "text": [
        "<__main__.Rectangulo object at 0x33ebfd0>\n"
       ]
      },
      {
       "metadata": {},
       "output_type": "pyout",
       "prompt_number": 72,
       "text": [
        "<__main__.Rectangulo at 0x33ebfd0>"
       ]
      }
     ],
     "prompt_number": 72
    },
    {
     "cell_type": "markdown",
     "metadata": {},
     "source": [
      "Por eso siempre es bueno definir los m\u00e9todos `__str__`, `__unicode__`, y/o `__repr__`"
     ]
    },
    {
     "cell_type": "code",
     "collapsed": false,
     "input": [
      "class Rectangulo(object):\n",
      "    def __init__(self, base, altura):\n",
      "        self.base = base\n",
      "        self.altura = altura\n",
      "    \n",
      "    def area(self):\n",
      "        return self.base * self.altura\n",
      "    \n",
      "    def perimetro(self):\n",
      "        return (self.base + self.altura) * 2\n",
      "    \n",
      "    def __str__(self):\n",
      "        return u\"%s de %s x %s\" % (type(self).__name__, self.base, self.altura)\n",
      "    \n",
      "    def __repr__(self):\n",
      "        return str(self)"
     ],
     "language": "python",
     "metadata": {},
     "outputs": [],
     "prompt_number": 3
    },
    {
     "cell_type": "code",
     "collapsed": false,
     "input": [
      "Rectangulo(3, 4)"
     ],
     "language": "python",
     "metadata": {},
     "outputs": [
      {
       "metadata": {},
       "output_type": "pyout",
       "prompt_number": 4,
       "text": [
        "Rectangulo de 3 x 4"
       ]
      }
     ],
     "prompt_number": 4
    },
    {
     "cell_type": "markdown",
     "metadata": {},
     "source": [
      "#### Herencia\n",
      "\n",
      "Un cuadrado es un tipo especial de rect\u00e1ngulo, donde base == altura. En vez de escribir una clase casi igual, hagamos una \"herencia\""
     ]
    },
    {
     "cell_type": "code",
     "collapsed": false,
     "input": [
      "class Cuadrado(Rectangulo):\n",
      "    def __init__(self, lado):\n",
      "        # igualito a pap\u00e1 rect\u00e1ngulo\n",
      "        super(Cuadrado, self).__init__(lado, lado)"
     ],
     "language": "python",
     "metadata": {},
     "outputs": [],
     "prompt_number": 5
    },
    {
     "cell_type": "code",
     "collapsed": false,
     "input": [
      "cuadrado = Cuadrado(3)\n",
      "cuadrado.area()"
     ],
     "language": "python",
     "metadata": {},
     "outputs": [
      {
       "metadata": {},
       "output_type": "pyout",
       "prompt_number": 96,
       "text": [
        "9"
       ]
      }
     ],
     "prompt_number": 96
    },
    {
     "cell_type": "markdown",
     "metadata": {},
     "source": [
      "En python no s\u00f3lo podemos reusar c\u00f3digo \"verticalmente\" (herencia simple). Podemos incorporar \"comportamientos\" de multiples clases padre (herencia m\u00faltiple). Esto es lo que se conoce como el patr\u00f3n \"Mixin\". \n",
      "\n"
     ]
    },
    {
     "cell_type": "code",
     "collapsed": false,
     "input": [
      "class OVNI(object):\n",
      "    \n",
      "    def volar(self):\n",
      "        print \"Soy un %s y estoy volando!\" % self\n",
      "\n",
      "        \n",
      "class CuadradoVolador(Cuadrado, OVNI):\n",
      "    pass\n",
      "\n",
      "mi_cuadrado_volador = CuadradoVolador(4)\n",
      "mi_cuadrado_volador.volar()"
     ],
     "language": "python",
     "metadata": {},
     "outputs": [
      {
       "output_type": "stream",
       "stream": "stdout",
       "text": [
        "Soy un CuadradoVolador de 4 x 4 y estoy volando!\n"
       ]
      }
     ],
     "prompt_number": 6
    },
    {
     "cell_type": "markdown",
     "metadata": {},
     "source": [
      "Pero podemos tener un tipo especial CuadradoVolador que \"vuelva\" de otra manera. Simplemente heredamos y reescribimos (o extendemos usando la funci\u00f3n `super()`"
     ]
    },
    {
     "cell_type": "code",
     "collapsed": false,
     "input": [
      "class CuadradoVoladorSupersonico(CuadradoVolador):\n",
      "    \n",
      "    def volar(self):\n",
      "        print u\"Yo soy un %s y estoy volando supers\u00f3nicamente!\" % self\n",
      "\n",
      "\n",
      "supersonico = CuadradoVoladorSupersonico(2)\n",
      "supersonico.volar()"
     ],
     "language": "python",
     "metadata": {},
     "outputs": [
      {
       "output_type": "stream",
       "stream": "stdout",
       "text": [
        "Yo soy un CuadradoVoladorSupersonico de 2 x 2 y estoy volando supers\u00f3nicamente!\n"
       ]
      }
     ],
     "prompt_number": 9
    },
    {
     "cell_type": "code",
     "collapsed": false,
     "input": [],
     "language": "python",
     "metadata": {},
     "outputs": []
    }
   ],
   "metadata": {}
  }
 ]
}