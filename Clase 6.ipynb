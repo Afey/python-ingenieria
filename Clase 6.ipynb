{
 "metadata": {
  "name": ""
 },
 "nbformat": 3,
 "nbformat_minor": 0,
 "worksheets": [
  {
   "cells": [
    {
     "cell_type": "markdown",
     "metadata": {},
     "source": [
      "# Python para ciencia e ingenier\u00eda. Clase 6/6\n",
      "\n",
      "**Tallerista**: Mart\u00edn Gait\u00e1n (Phasety)\n",
      "\n",
      "**Colaboradores**: Jairo Trad (Insus) y Juli\u00e1n Scortechini (Phasety)\n",
      "\n",
      "                                \n",
      "                                Agosto/Septiembre de 2013\n",
      "\n",
      "![](http://phasety.com/squelettes/img/logo.png)\n",
      "\n",
      "----\n",
      "Licencia: ![](http://i.creativecommons.org/l/by-sa/2.5/ar/88x31.png)"
     ]
    },
    {
     "cell_type": "markdown",
     "metadata": {},
     "source": [
      "# F2PY: Fortran \u2665 Python, \n",
      "\n",
      "\n",
      "F2PY es un software (escrita en Python) que genera autom\u00e1ticamente el \"pegamento\" necesario para interfacear c\u00f3digo Fortran y Python. \n",
      "\n",
      "Hay dos casos en los que nos puede venir bien usar F2PY.\n",
      "\n",
      "* Queremos escribir una parte de c\u00e1lculo intensivo en Fortran para que sea eficiente, pero queremos controlar la l\u00f3gica del programa desde Python.\n",
      "* Tenemos c\u00f3digo legado y el esfuerzo de portarlo a otro lenguaje es demasiado grande (c\u00f3digo ilegible, ausencia de comentarios, fragilidad). A\u00fan podemos aprovecharlo: con F2PY podemos llamarlo desde Python.\n",
      "\n",
      "\n",
      "F2py no es un compilador en s\u00ed mismo, sino que utiliza (casi) cualquier compilador Fortran subyacente. En vez de un archivo ejecutable (un \".exe\" en Windows) genera una biblioteca din\u00e1mica importable desde Python como cualquier m\u00f3dulo. \n",
      "\n",
      "Nosotros vamos a utilizar el compilador **gfortran** que ya viene instalado con Anaconda. En linux basta hacer\n",
      "\n",
      "      $ sudo apt-get install gfortran\n",
      "\n",
      "###ATENTI: s\u00f3lo usuarios de Windows/Anaconda\n",
      "\n",
      "Antes de empezar vamos a cambiar la configuraci\u00f3n de `gfortran` por defecto que trae Anaconda. Abrir el archivo `C:/Anaconda/Scripts/gfortran.bat` y modificarlo para que linkee est\u00e1ticamente con las bibliotecas `libgcc` y `libgfortran`. Podemos hacerlo directamente **ejecutando la siguiente celda** que usa el magic ``%%file`` que escribe el contenido de la celda en un archivo"
     ]
    },
    {
     "cell_type": "code",
     "collapsed": false,
     "input": [
      "%%file C:/Anaconda/Scripts/gfortran.bat\n",
      "@echo off\n",
      "%~f0\\..\\..\\MinGW\\bin\\gfortran.exe -static-libgcc -static-libgfortran %*"
     ],
     "language": "python",
     "metadata": {},
     "outputs": []
    },
    {
     "cell_type": "markdown",
     "metadata": {},
     "source": [
      "## \u00a1Empecemos! \n",
      "\n",
      "Vamos a comenzar con un ejemplo del primer caso de uso: usar Fortran por cuestiones de performance. \n",
      "\n",
      "Si bien hay versiones m\u00e1s modernas, vamos a basarnos en el est\u00e1ndar **Fortran 90** porque es bien soportado por f2py y todos los compiladores, es much\u00edsimo mejor que FORTRAN 77. Una buena y breve referencia es http://www.ews.uiuc.edu/~mrgates2/docs/fortran.html . El sitio http://fortran90.org/ tambien provee informaci\u00f3n valiosa y una **guia de estilo** sencilla que es bueno respetar en **todo c\u00f3digo Fortran nuevo**. \n",
      "\n",
      "Pero antes, conozcamos el **Zen de Python**"
     ]
    },
    {
     "cell_type": "code",
     "collapsed": false,
     "input": [
      "import this"
     ],
     "language": "python",
     "metadata": {},
     "outputs": [
      {
       "output_type": "stream",
       "stream": "stdout",
       "text": [
        "The Zen of Python, by Tim Peters\n",
        "\n",
        "Beautiful is better than ugly.\n",
        "Explicit is better than implicit.\n",
        "Simple is better than complex.\n",
        "Complex is better than complicated.\n",
        "Flat is better than nested.\n",
        "Sparse is better than dense.\n",
        "Readability counts.\n",
        "Special cases aren't special enough to break the rules.\n",
        "Although practicality beats purity.\n",
        "Errors should never pass silently.\n",
        "Unless explicitly silenced.\n",
        "In the face of ambiguity, refuse the temptation to guess.\n",
        "There should be one-- and preferably only one --obvious way to do it.\n",
        "Although that way may not be obvious at first unless you're Dutch.\n",
        "Now is better than never.\n",
        "Although never is often better than *right* now.\n",
        "If the implementation is hard to explain, it's a bad idea.\n",
        "If the implementation is easy to explain, it may be a good idea.\n",
        "Namespaces are one honking great idea -- let's do more of those!\n"
       ]
      }
     ],
     "prompt_number": 1
    },
    {
     "cell_type": "markdown",
     "metadata": {},
     "source": [
      "\u00a1El Zen de Python **no es s\u00f3lo** para Python! **Aplicalo tambi\u00e9n para Fortran** (y para jugar al f\u00fatbol como el Barcelona). \n",
      "\n",
      "Especialmente el que dice *\"Readability counts\"*\n",
      "\n"
     ]
    },
    {
     "cell_type": "code",
     "collapsed": false,
     "input": [
      "%%file dot_product.f90 \n",
      "\n",
      "subroutine dot(n, u, v, product)\n",
      "    ! Compute the dot product between u and v (length n) and put the result in product\n",
      "     \n",
      "    integer, intent(in) :: n\n",
      "    double precision, dimension(n), intent(in) :: u, v\n",
      "    double precision, intent(out):: product\n",
      "    integer :: i\n",
      "          \n",
      "    p = 0.0\n",
      "    do i=1,n\n",
      "        p = p + u(i)*v(i)\n",
      "    end do\n",
      " \n",
      "end subroutine"
     ],
     "language": "python",
     "metadata": {},
     "outputs": [
      {
       "output_type": "stream",
       "stream": "stdout",
       "text": [
        "Overwriting dot_product.f90\n"
       ]
      }
     ],
     "prompt_number": 2
    },
    {
     "cell_type": "markdown",
     "metadata": {},
     "source": [
      "Guardamos nuestro c\u00f3digo Fortran en un m\u00f3dulo de c\u00f3digo fuente llamado `dot_product.f90` Ahora lo compilamos usando f2py. El flag -m indica el nombre que se le dar\u00e1 a la biblioteca (que es como se importar\u00e1 dentro de de Python) y el flag -c los fuentes que debe compilar (en este caso s\u00f3lo el que acabamos de crear). "
     ]
    },
    {
     "cell_type": "code",
     "collapsed": false,
     "input": [
      "# Si queres evitar el output pod\u00e9s guardar en una variable\n",
      "# _ = !f2py -m dot_product -c dot_product.f90   \n",
      "!f2py -m dot_product -c dot_product.f90 "
     ],
     "language": "python",
     "metadata": {},
     "outputs": [
      {
       "output_type": "stream",
       "stream": "stdout",
       "text": [
        "\u001b[39mrunning build\u001b[0m\r\n",
        "\u001b[39mrunning config_cc\u001b[0m\r\n",
        "\u001b[39munifing config_cc, config, build_clib, build_ext, build commands --compiler options\u001b[0m\r\n",
        "\u001b[39mrunning config_fc\u001b[0m\r\n",
        "\u001b[39munifing config_fc, config, build_clib, build_ext, build commands --fcompiler options\u001b[0m\r\n",
        "\u001b[39mrunning build_src\u001b[0m\r\n",
        "\u001b[39mbuild_src\u001b[0m\r\n",
        "\u001b[39mbuilding extension \"dot_product\" sources\u001b[0m\r\n",
        "\u001b[39mf2py options: []\u001b[0m\r\n",
        "\u001b[39mf2py:> /tmp/tmp1vlSYG/src.linux-x86_64-2.7/dot_productmodule.c\u001b[0m\r\n",
        "\u001b[39mcreating /tmp/tmp1vlSYG\u001b[0m\r\n",
        "\u001b[39mcreating /tmp/tmp1vlSYG/src.linux-x86_64-2.7\u001b[0m\r\n"
       ]
      },
      {
       "output_type": "stream",
       "stream": "stdout",
       "text": [
        "Reading fortran codes...\r\n",
        "\tReading file 'dot_product.f90' (format:free)\r\n",
        "Post-processing...\r\n",
        "\tBlock: dot_product\r\n",
        "\t\t\tBlock: dot\r\n",
        "Post-processing (stage 2)...\r\n",
        "Building modules...\r\n",
        "\tBuilding module \"dot_product\"...\r\n",
        "\t\tConstructing wrapper function \"dot\"...\r\n",
        "\t\t  p = dot(u,v,[n])\r\n",
        "\tWrote C/API module \"dot_product\" to file \"/tmp/tmp1vlSYG/src.linux-x86_64-2.7/dot_productmodule.c\"\r\n",
        "\u001b[39m  adding '/tmp/tmp1vlSYG/src.linux-x86_64-2.7/fortranobject.c' to sources.\u001b[0m\r\n",
        "\u001b[39m  adding '/tmp/tmp1vlSYG/src.linux-x86_64-2.7' to include_dirs.\u001b[0m\r\n",
        "\u001b[39mcopying /usr/lib/python2.7/dist-packages/numpy/f2py/src/fortranobject.c -> /tmp/tmp1vlSYG/src.linux-x86_64-2.7\u001b[0m\r\n",
        "\u001b[39mcopying /usr/lib/python2.7/dist-packages/numpy/f2py/src/fortranobject.h -> /tmp/tmp1vlSYG/src.linux-x86_64-2.7\u001b[0m\r\n",
        "\u001b[39mbuild_src: building npy-pkg config files\u001b[0m\r\n",
        "\u001b[39mrunning build_ext\u001b[0m\r\n",
        "\u001b[39mcustomize UnixCCompiler\u001b[0m\r\n",
        "\u001b[39mcustomize UnixCCompiler using build_ext\u001b[0m\r\n",
        "\u001b[39mcustomize GnuFCompiler\u001b[0m\r\n",
        "\u001b[31mCould not locate executable g77\u001b[0m\r\n",
        "\u001b[31mCould not locate executable f77\u001b[0m\r\n",
        "\u001b[39mcustomize IntelFCompiler\u001b[0m\r\n",
        "\u001b[31mCould not locate executable ifort\u001b[0m\r\n",
        "\u001b[31mCould not locate executable ifc\u001b[0m\r\n",
        "\u001b[39mcustomize LaheyFCompiler\u001b[0m\r\n",
        "\u001b[31mCould not locate executable lf95\u001b[0m\r\n",
        "\u001b[39mcustomize PGroupFCompiler\u001b[0m\r\n",
        "\u001b[31mCould not locate executable pgf90\u001b[0m\r\n",
        "\u001b[31mCould not locate executable pgf77\u001b[0m\r\n",
        "\u001b[39mcustomize AbsoftFCompiler\u001b[0m\r\n",
        "\u001b[31mCould not locate executable f90\u001b[0m\r\n",
        "\u001b[39mcustomize NAGFCompiler\u001b[0m\r\n",
        "\u001b[32mFound executable /usr/bin/f95\u001b[0m\r\n",
        "\u001b[39mcustomize VastFCompiler\u001b[0m\r\n",
        "\u001b[39mcustomize CompaqFCompiler\u001b[0m\r\n",
        "\u001b[31mCould not locate executable fort\u001b[0m\r\n",
        "\u001b[39mcustomize IntelItaniumFCompiler\u001b[0m\r\n",
        "\u001b[31mCould not locate executable efort\u001b[0m\r\n",
        "\u001b[31mCould not locate executable efc\u001b[0m\r\n",
        "\u001b[39mcustomize IntelEM64TFCompiler\u001b[0m\r\n",
        "\u001b[39mcustomize Gnu95FCompiler\u001b[0m\r\n",
        "\u001b[32mFound executable /usr/bin/gfortran\u001b[0m\r\n"
       ]
      },
      {
       "output_type": "stream",
       "stream": "stdout",
       "text": [
        "\u001b[39mcustomize Gnu95FCompiler\u001b[0m\r\n",
        "\u001b[39mcustomize Gnu95FCompiler using build_ext\u001b[0m\r\n",
        "\u001b[39mbuilding 'dot_product' extension\u001b[0m\r\n",
        "\u001b[39mcompiling C sources\u001b[0m\r\n",
        "\u001b[39mC compiler: gcc -pthread -fno-strict-aliasing -DNDEBUG -g -fwrapv -O2 -Wall -Wstrict-prototypes -fPIC\r\n",
        "\u001b[0m\r\n",
        "\u001b[39mcreating /tmp/tmp1vlSYG/tmp\u001b[0m\r\n",
        "\u001b[39mcreating /tmp/tmp1vlSYG/tmp/tmp1vlSYG\u001b[0m\r\n",
        "\u001b[39mcreating /tmp/tmp1vlSYG/tmp/tmp1vlSYG/src.linux-x86_64-2.7\u001b[0m\r\n",
        "\u001b[39mcompile options: '-I/tmp/tmp1vlSYG/src.linux-x86_64-2.7 -I/usr/lib/python2.7/dist-packages/numpy/core/include -I/usr/include/python2.7 -c'\u001b[0m\r\n",
        "\u001b[39mgcc: /tmp/tmp1vlSYG/src.linux-x86_64-2.7/dot_productmodule.c\u001b[0m\r\n"
       ]
      },
      {
       "output_type": "stream",
       "stream": "stdout",
       "text": [
        "\u001b[39mgcc: /tmp/tmp1vlSYG/src.linux-x86_64-2.7/fortranobject.c\u001b[0m\r\n"
       ]
      },
      {
       "output_type": "stream",
       "stream": "stdout",
       "text": [
        "\u001b[39mcompiling Fortran sources\u001b[0m\r\n",
        "\u001b[39mFortran f77 compiler: /usr/bin/gfortran -Wall -ffixed-form -fno-second-underscore -fPIC -O3 -funroll-loops\r\n",
        "Fortran f90 compiler: /usr/bin/gfortran -Wall -fno-second-underscore -fPIC -O3 -funroll-loops\r\n",
        "Fortran fix compiler: /usr/bin/gfortran -Wall -ffixed-form -fno-second-underscore -Wall -fno-second-underscore -fPIC -O3 -funroll-loops\u001b[0m\r\n",
        "\u001b[39mcompile options: '-I/tmp/tmp1vlSYG/src.linux-x86_64-2.7 -I/usr/lib/python2.7/dist-packages/numpy/core/include -I/usr/include/python2.7 -c'\u001b[0m\r\n",
        "\u001b[39mgfortran:f90: dot_product.f90\u001b[0m\r\n"
       ]
      },
      {
       "output_type": "stream",
       "stream": "stdout",
       "text": [
        "\u001b[39m/usr/bin/gfortran -Wall -Wall -shared /tmp/tmp1vlSYG/tmp/tmp1vlSYG/src.linux-x86_64-2.7/dot_productmodule.o /tmp/tmp1vlSYG/tmp/tmp1vlSYG/src.linux-x86_64-2.7/fortranobject.o /tmp/tmp1vlSYG/dot_product.o -lgfortran -o ./dot_product.so\u001b[0m\r\n",
        "\u001b[39mrunning scons\u001b[0m\r\n",
        "Removing build directory /tmp/tmp1vlSYG\r\n"
       ]
      }
     ],
     "prompt_number": 3
    },
    {
     "cell_type": "markdown",
     "metadata": {},
     "source": [
      "\u00a1Listo! Tendremos una biblioteca importable desde Python. En Widows ser\u00e1 `dot_product.pyw` y en Linux `dot_product.so`\n",
      "\n"
     ]
    },
    {
     "cell_type": "code",
     "collapsed": false,
     "input": [
      "!dir dot_*"
     ],
     "language": "python",
     "metadata": {},
     "outputs": [
      {
       "output_type": "stream",
       "stream": "stdout",
       "text": [
        "dot_product.f90  dot_product.so\r\n"
       ]
      }
     ],
     "prompt_number": 4
    },
    {
     "cell_type": "markdown",
     "metadata": {},
     "source": [
      "F2py convierte **subrutinas y funciones** de Fortran en funciones de Python. Dentro del m\u00f3dulo `dot_product` tendremos una funci\u00f3n llamada `dot` que no es m\u00e1s que  la subrutina que habiamos definido en Fortran. F2py le crea autom\u00e1ticamente algo de ayuda que podemos ver con el **?** o directamente imprimiendo la variable `__doc__` del objeto"
     ]
    },
    {
     "cell_type": "code",
     "collapsed": false,
     "input": [
      "import dot_product\n",
      "print dot_product.dot.__doc__"
     ],
     "language": "python",
     "metadata": {},
     "outputs": [
      {
       "output_type": "stream",
       "stream": "stdout",
       "text": [
        "dot - Function signature:\n",
        "  p = dot(u,v,[n])\n",
        "Required arguments:\n",
        "  u : input rank-1 array('d') with bounds (n)\n",
        "  v : input rank-1 array('d') with bounds (n)\n",
        "Optional arguments:\n",
        "  n := len(u) input int\n",
        "Return objects:\n",
        "  p : float\n",
        "\n"
       ]
      }
     ],
     "prompt_number": 5
    },
    {
     "cell_type": "markdown",
     "metadata": {},
     "source": [
      "Como habiamos declarado que **p** era un valor de salida (`intent(out)`), F2py no nos pide que lo pasemos, sino que lo devuelve como resultado de la funci\u00f3n. \n",
      "\n",
      "Pero hay m\u00e1s magia: **n** s\u00f3lo se usa para dimensionar los arrays u y v. Entonces F2Py nos ahorra el trabajo de pasarlo y lo infiere por el tama\u00f1o de los arrays.\n",
      "\n",
      "\u00bfY Funciona?"
     ]
    },
    {
     "cell_type": "code",
     "collapsed": false,
     "input": [
      "import numpy as np\n",
      "u = np.array([1., 2., 0.])\n",
      "v = np.array([2., .5, 0.])\n",
      "dot_product.dot(u, v)"
     ],
     "language": "python",
     "metadata": {},
     "outputs": [
      {
       "metadata": {},
       "output_type": "pyout",
       "prompt_number": 6,
       "text": [
        "3.0"
       ]
      }
     ],
     "prompt_number": 6
    },
    {
     "cell_type": "markdown",
     "metadata": {},
     "source": [
      "\u00a1YEAHHHHHHH!\n",
      "\n",
      "### Algo m\u00e1s pulentoso\n",
      "\n",
      "\n",
      "Esta rutina calcula una **matriz de distancias** a partir de una matriz de m puntos n-dimensionales ordenados por filas\n"
     ]
    },
    {
     "cell_type": "code",
     "collapsed": false,
     "input": [
      "%%file distance.f90\n",
      "\n",
      "subroutine euclidean(X,D,m,n)\n",
      "  ! Computes the distance between m points using Euclidean distance (2-norm) \n",
      "  ! as the distance metric between the points. \n",
      "  ! The points are arranged as m n-dimensional row vectors in the matrix X.\n",
      "\n",
      "  integer :: n,m\n",
      "  double precision, intent(in) :: X(m,n)\n",
      "  double precision, intent(out) :: D(m,m) \n",
      "  integer :: i,j,k\n",
      "  double precision :: r \n",
      "  do i = 1,m \n",
      "      do j = 1,m \n",
      "          r = 0\n",
      "          do k = 1,n \n",
      "              r = r + (X(i,k) - X(j,k)) * (X(i,k) - X(j,k)) \n",
      "          end do \n",
      "          D(i,j) = sqrt(r) \n",
      "      end do \n",
      "  end do \n",
      "end subroutine\n"
     ],
     "language": "python",
     "metadata": {},
     "outputs": [
      {
       "output_type": "stream",
       "stream": "stdout",
       "text": [
        "Writing distance.f90\n"
       ]
      }
     ],
     "prompt_number": 11
    },
    {
     "cell_type": "code",
     "collapsed": false,
     "input": [
      "!f2py -m distance -c distance.f90   "
     ],
     "language": "python",
     "metadata": {},
     "outputs": [
      {
       "output_type": "stream",
       "stream": "stdout",
       "text": [
        "\u001b[39mrunning build\u001b[0m\r\n",
        "\u001b[39mrunning config_cc\u001b[0m\r\n",
        "\u001b[39munifing config_cc, config, build_clib, build_ext, build commands --compiler options\u001b[0m\r\n",
        "\u001b[39mrunning config_fc\u001b[0m\r\n",
        "\u001b[39munifing config_fc, config, build_clib, build_ext, build commands --fcompiler options\u001b[0m\r\n",
        "\u001b[39mrunning build_src\u001b[0m\r\n",
        "\u001b[39mbuild_src\u001b[0m\r\n",
        "\u001b[39mbuilding extension \"distance\" sources\u001b[0m\r\n",
        "\u001b[39mf2py options: []\u001b[0m\r\n",
        "\u001b[39mf2py:> /tmp/tmpIXc4kI/src.linux-x86_64-2.7/distancemodule.c\u001b[0m\r\n",
        "\u001b[39mcreating /tmp/tmpIXc4kI\u001b[0m\r\n",
        "\u001b[39mcreating /tmp/tmpIXc4kI/src.linux-x86_64-2.7\u001b[0m\r\n"
       ]
      },
      {
       "output_type": "stream",
       "stream": "stdout",
       "text": [
        "Reading fortran codes...\r\n",
        "\tReading file 'distance.f90' (format:free)\r\n",
        "Post-processing...\r\n",
        "\tBlock: distance\r\n",
        "\t\t\tBlock: euclidean\r\n",
        "Post-processing (stage 2)...\r\n",
        "Building modules...\r\n",
        "\tBuilding module \"distance\"...\r\n",
        "\t\tConstructing wrapper function \"euclidean\"...\r\n",
        "\t\t  d = euclidean(x,[m,n])\r\n",
        "\tWrote C/API module \"distance\" to file \"/tmp/tmpIXc4kI/src.linux-x86_64-2.7/distancemodule.c\"\r\n",
        "\u001b[39m  adding '/tmp/tmpIXc4kI/src.linux-x86_64-2.7/fortranobject.c' to sources.\u001b[0m\r\n",
        "\u001b[39m  adding '/tmp/tmpIXc4kI/src.linux-x86_64-2.7' to include_dirs.\u001b[0m\r\n",
        "\u001b[39mcopying /usr/lib/python2.7/dist-packages/numpy/f2py/src/fortranobject.c -> /tmp/tmpIXc4kI/src.linux-x86_64-2.7\u001b[0m\r\n",
        "\u001b[39mcopying /usr/lib/python2.7/dist-packages/numpy/f2py/src/fortranobject.h -> /tmp/tmpIXc4kI/src.linux-x86_64-2.7\u001b[0m\r\n",
        "\u001b[39mbuild_src: building npy-pkg config files\u001b[0m\r\n",
        "\u001b[39mrunning build_ext\u001b[0m\r\n",
        "\u001b[39mcustomize UnixCCompiler\u001b[0m\r\n",
        "\u001b[39mcustomize UnixCCompiler using build_ext\u001b[0m\r\n",
        "\u001b[39mcustomize GnuFCompiler\u001b[0m\r\n",
        "\u001b[31mCould not locate executable g77\u001b[0m\r\n",
        "\u001b[31mCould not locate executable f77\u001b[0m\r\n",
        "\u001b[39mcustomize IntelFCompiler\u001b[0m\r\n",
        "\u001b[31mCould not locate executable ifort\u001b[0m\r\n",
        "\u001b[31mCould not locate executable ifc\u001b[0m\r\n",
        "\u001b[39mcustomize LaheyFCompiler\u001b[0m\r\n",
        "\u001b[31mCould not locate executable lf95\u001b[0m\r\n",
        "\u001b[39mcustomize PGroupFCompiler\u001b[0m\r\n",
        "\u001b[31mCould not locate executable pgf90\u001b[0m\r\n"
       ]
      },
      {
       "output_type": "stream",
       "stream": "stdout",
       "text": [
        "\u001b[31mCould not locate executable pgf77\u001b[0m\r\n",
        "\u001b[39mcustomize AbsoftFCompiler\u001b[0m\r\n",
        "\u001b[31mCould not locate executable f90\u001b[0m\r\n",
        "\u001b[39mcustomize NAGFCompiler\u001b[0m\r\n",
        "\u001b[32mFound executable /usr/bin/f95\u001b[0m\r\n",
        "\u001b[39mcustomize VastFCompiler\u001b[0m\r\n",
        "\u001b[39mcustomize CompaqFCompiler\u001b[0m\r\n",
        "\u001b[31mCould not locate executable fort\u001b[0m\r\n",
        "\u001b[39mcustomize IntelItaniumFCompiler\u001b[0m\r\n",
        "\u001b[31mCould not locate executable efort\u001b[0m\r\n",
        "\u001b[31mCould not locate executable efc\u001b[0m\r\n",
        "\u001b[39mcustomize IntelEM64TFCompiler\u001b[0m\r\n",
        "\u001b[39mcustomize Gnu95FCompiler\u001b[0m\r\n",
        "\u001b[32mFound executable /usr/bin/gfortran\u001b[0m\r\n",
        "\u001b[39mcustomize Gnu95FCompiler\u001b[0m\r\n",
        "\u001b[39mcustomize Gnu95FCompiler using build_ext\u001b[0m\r\n",
        "\u001b[39mbuilding 'distance' extension\u001b[0m\r\n",
        "\u001b[39mcompiling C sources\u001b[0m\r\n",
        "\u001b[39mC compiler: gcc -pthread -fno-strict-aliasing -DNDEBUG -g -fwrapv -O2 -Wall -Wstrict-prototypes -fPIC\r\n",
        "\u001b[0m\r\n",
        "\u001b[39mcreating /tmp/tmpIXc4kI/tmp\u001b[0m\r\n",
        "\u001b[39mcreating /tmp/tmpIXc4kI/tmp/tmpIXc4kI\u001b[0m\r\n",
        "\u001b[39mcreating /tmp/tmpIXc4kI/tmp/tmpIXc4kI/src.linux-x86_64-2.7\u001b[0m\r\n",
        "\u001b[39mcompile options: '-I/tmp/tmpIXc4kI/src.linux-x86_64-2.7 -I/usr/lib/python2.7/dist-packages/numpy/core/include -I/usr/include/python2.7 -c'\u001b[0m\r\n",
        "\u001b[39mgcc: /tmp/tmpIXc4kI/src.linux-x86_64-2.7/distancemodule.c\u001b[0m\r\n"
       ]
      },
      {
       "output_type": "stream",
       "stream": "stdout",
       "text": [
        "\u001b[39mgcc: /tmp/tmpIXc4kI/src.linux-x86_64-2.7/fortranobject.c\u001b[0m\r\n"
       ]
      },
      {
       "output_type": "stream",
       "stream": "stdout",
       "text": [
        "\u001b[39mcompiling Fortran sources\u001b[0m\r\n",
        "\u001b[39mFortran f77 compiler: /usr/bin/gfortran -Wall -ffixed-form -fno-second-underscore -fPIC -O3 -funroll-loops\r\n",
        "Fortran f90 compiler: /usr/bin/gfortran -Wall -fno-second-underscore -fPIC -O3 -funroll-loops\r\n",
        "Fortran fix compiler: /usr/bin/gfortran -Wall -ffixed-form -fno-second-underscore -Wall -fno-second-underscore -fPIC -O3 -funroll-loops\u001b[0m\r\n",
        "\u001b[39mcompile options: '-I/tmp/tmpIXc4kI/src.linux-x86_64-2.7 -I/usr/lib/python2.7/dist-packages/numpy/core/include -I/usr/include/python2.7 -c'\u001b[0m\r\n",
        "\u001b[39mgfortran:f90: distance.f90\u001b[0m\r\n"
       ]
      },
      {
       "output_type": "stream",
       "stream": "stdout",
       "text": [
        "\u001b[39m/usr/bin/gfortran -Wall -Wall -shared /tmp/tmpIXc4kI/tmp/tmpIXc4kI/src.linux-x86_64-2.7/distancemodule.o /tmp/tmpIXc4kI/tmp/tmpIXc4kI/src.linux-x86_64-2.7/fortranobject.o /tmp/tmpIXc4kI/distance.o -lgfortran -o ./distance.so\u001b[0m\r\n",
        "\u001b[39mrunning scons\u001b[0m\r\n",
        "Removing build directory /tmp/tmpIXc4kI\r\n"
       ]
      }
     ],
     "prompt_number": 12
    },
    {
     "cell_type": "code",
     "collapsed": false,
     "input": [
      "import distance\n",
      "print distance.euclidean.__doc__"
     ],
     "language": "python",
     "metadata": {},
     "outputs": [
      {
       "output_type": "stream",
       "stream": "stdout",
       "text": [
        "euclidean - Function signature:\n",
        "  d = euclidean(x,[m,n])\n",
        "Required arguments:\n",
        "  x : input rank-2 array('d') with bounds (m,n)\n",
        "Optional arguments:\n",
        "  m := shape(x,0) input int\n",
        "  n := shape(x,1) input int\n",
        "Return objects:\n",
        "  d : rank-2 array('d') with bounds (m,m)\n",
        "\n"
       ]
      }
     ],
     "prompt_number": 13
    },
    {
     "cell_type": "code",
     "collapsed": false,
     "input": [
      "X = np.random.random((1000, 3))   # Mil puntos en R^3\n",
      "%timeit distance.euclidean(X)"
     ],
     "language": "python",
     "metadata": {},
     "outputs": [
      {
       "output_type": "stream",
       "stream": "stdout",
       "text": [
        "100 loops, best of 3: 9.21 ms per loop\n"
       ]
      }
     ],
     "prompt_number": 14
    },
    {
     "cell_type": "markdown",
     "metadata": {},
     "source": [
      "Comparemos con la versi\u00f3n de este algoritmo que viene en Scipy"
     ]
    },
    {
     "cell_type": "code",
     "collapsed": false,
     "input": [
      "from scipy.spatial.distance import cdist\n",
      "%timeit cdist(X, X)"
     ],
     "language": "python",
     "metadata": {},
     "outputs": [
      {
       "output_type": "stream",
       "stream": "stdout",
       "text": [
        "100 loops, best of 3: 7.48 ms per loop\n"
       ]
      }
     ],
     "prompt_number": 15
    },
    {
     "cell_type": "markdown",
     "metadata": {},
     "source": [
      "Para los desconfiados, ac\u00e1 la prueba de que es lo mismo:"
     ]
    },
    {
     "cell_type": "code",
     "collapsed": false,
     "input": [
      "np.all(cdist(X, X) == distance.euclidean(X))"
     ],
     "language": "python",
     "metadata": {},
     "outputs": [
      {
       "metadata": {},
       "output_type": "pyout",
       "prompt_number": 16,
       "text": [
        "True"
       ]
      }
     ],
     "prompt_number": 16
    },
    {
     "cell_type": "markdown",
     "metadata": {},
     "source": [
      "Ok, probablemente los de Scipy programan mejor que nosotros :)\n",
      "\n",
      "Un algoritmo equivalente implementado en \"numpy pelado\" lo puse ac\u00e1 https://gist.github.com/mgaitan/6465190  "
     ]
    },
    {
     "cell_type": "markdown",
     "metadata": {},
     "source": [
      "## Un caso real: c\u00f3digo \"cient\u00edfico\" \n",
      "\n",
      "Este c\u00f3digo es una versi\u00f3n simplificada que calcula par\u00e1metros de EOS c\u00fabicas SRK o PR a partir de las constantes de un compuesto Tc, Pc, y $\\omega$"
     ]
    },
    {
     "cell_type": "code",
     "collapsed": false,
     "input": [
      "%%file CubicParam_simpler.for\n",
      "\n",
      "\tprogram ModelsParam\n",
      "      implicit DOUBLE PRECISION (A-H,O-Z)\n",
      "      PARAMETER (RGAS=0.08314472d0)\n",
      "C\tCritical constants must be given in K and bar\n",
      "C\tb will be in L/mol and ac in bar*(L/mol)**2\n",
      "      PARAMETER (A0=0.0017,B0=1.9681,C0=-2.7238)\n",
      "      PARAMETER (A1=-2.4407,B1=7.4513,C1=12.504)\n",
      "\tdimension D(6)\n",
      "\tCOMMON /Tcdc/ Tc,dc\n",
      "\tCOMMON /ABd1/ a,b,del1\n",
      "\tD=[0.428363,18.496215,0.338426,0.660,789.723105,2.512392]\n",
      "\tNC=2\n",
      "\tNIN=1\n",
      "\tnout=9\n",
      "      OPEN(NIN,FILE='CONPARIN.DAT')\n",
      "      OPEN(NOUT,FILE='CONPAROUT.DAT')\n",
      "\tread(NIN,*)ICALC,NMODEL\n",
      "\tIF(NMODEL.EQ.4)GO TO 104\n",
      "    READ(NIN,*)Tc,Pc,OM\n",
      "    RT=RGAS*Tc\n",
      "\tEND IF\n",
      "\tIF(nmodel.EQ.1)THEN\n",
      "C\t\tSRK EOS\n",
      "\t\tdel1=1.0D0\n",
      "\tELSE\n",
      "C\t\tPR EOS\n",
      "\t\tdel1=1.0D0+sqrt(2.0)\n",
      "\tEND IF\n",
      "11\td1=(1+del1**2)/(1+del1)\n",
      "\ty=1+(2*(1+del1))**(1.0d0/3)+(4/(1+del1))**(1.0d0/3)\n",
      "\tOMa=(3*y*y+3*y*d1+d1**2+d1-1.0d0)/(3*y+d1-1.0d0)**2\n",
      "\tOMb=1/(3*y+d1-1.0d0)\n",
      "\tZc=y/(3*y+d1-1.0d0)\n",
      "\n",
      "\tac=OMa*RT**2/Pc\n",
      "\tb=OMb*RT/Pc\n",
      "\n",
      "\tZc=y/(3*y+d1-1.0d0)\n",
      "\tVceos=Zc*RGAS*Tc/Pc\n",
      "\tIF(nmodel.eq.1)THEN\n",
      "\t\trm=0.48+1.574*OM-0.175*OM**2  ! m from SRK\n",
      "\tELSE\n",
      "\t\trm=0.37464+1.54226*OM-0.26992*OM**2  ! m from PR\n",
      "\tEND IF\n",
      "\twrite(nout,1)Tc,Pc,OM,Vceos  ! it used to be \"Vceos,OM\" (changed 5/7/13 to imitate gpecin standard)\n",
      "\twrite(nout,2)ac,b,rm\n",
      "c\twrite(NOUT,*)\n",
      "c\twrite(nout,*)'Tc, Pc and Vc are given in K, bar and L/mol respectively'\n",
      " 1\tFORMAT(F10.4,F10.4,F10.6,F9.5)\n",
      " 2\tFORMAT(F10.4,F10.6,F10.6,F10.5)\n",
      "104\tcontinue\n",
      "\tclose(unit=NIN)\n",
      "\tclose(unit=nout)\n",
      "\tend"
     ],
     "language": "python",
     "metadata": {},
     "outputs": []
    },
    {
     "cell_type": "markdown",
     "metadata": {},
     "source": [
      "Este c\u00f3digo es m\u00e1s parecido a Fortran 77 que a Fortran 90, pero **no compilar\u00eda** en un compilador de f77 estricto. Y \u00bfme creen si les digo que el original es much\u00edsimo m\u00e1s intrincado?\n",
      "\n",
      "Un archivo de entrada \"CONPARIN.DAT\" tiene la forma"
     ]
    },
    {
     "cell_type": "code",
     "collapsed": false,
     "input": [
      "%%file CONPARIN.DAT\n",
      "0  1\n",
      " 369.83  42.48  0.152291\n",
      " "
     ],
     "language": "python",
     "metadata": {},
     "outputs": []
    },
    {
     "cell_type": "markdown",
     "metadata": {},
     "source": [
      "El problema con esta arquitectura de entrada/salida es que es muy fr\u00e1gil: qu\u00e9 significa cada n\u00famero est\u00e1 dado por su posici\u00f3n, que puede cambiar a lo largo del tiempo o significar distintas cosas en funci\u00f3n de otro n\u00famero, etc. Hay que ser un poco adivino o demasiado \"cient\u00edfico\" para leer y **mantener** este c\u00f3digo.\n",
      " \n",
      "Pero probemos que funciona"
     ]
    },
    {
     "cell_type": "code",
     "collapsed": false,
     "input": [
      "!gfortran -o cubic_param CubicParam_simpler.for"
     ],
     "language": "python",
     "metadata": {},
     "outputs": []
    },
    {
     "cell_type": "code",
     "collapsed": false,
     "input": [
      "!./cubic_param   # ./cubic_param  en linux"
     ],
     "language": "python",
     "metadata": {},
     "outputs": []
    },
    {
     "cell_type": "code",
     "collapsed": false,
     "input": [
      "%pycat CONPAROUT.DAT"
     ],
     "language": "python",
     "metadata": {},
     "outputs": []
    },
    {
     "cell_type": "markdown",
     "metadata": {},
     "source": [
      "Si convirtieramos con F2py **no tendria ninguna funci\u00f3n** y es poque s\u00f3lo hay un gran bloque `program` "
     ]
    },
    {
     "cell_type": "code",
     "collapsed": false,
     "input": [
      "_ = !f2py -m cubic_param -c CubicParam_simpler.for\n",
      "_[-2:]"
     ],
     "language": "python",
     "metadata": {},
     "outputs": []
    },
    {
     "cell_type": "code",
     "collapsed": false,
     "input": [
      "import cubic_param"
     ],
     "language": "python",
     "metadata": {},
     "outputs": []
    },
    {
     "cell_type": "markdown",
     "metadata": {},
     "source": [
      "S\u00f3lo tenemos los bloques **commons**"
     ]
    },
    {
     "cell_type": "code",
     "collapsed": false,
     "input": [
      "dir(cubic_param)"
     ],
     "language": "python",
     "metadata": {},
     "outputs": []
    },
    {
     "cell_type": "markdown",
     "metadata": {},
     "source": [
      "Reescribiremos el m\u00f3dulo Fortran un poquito para convertirlo en una subrutina, que reciba los par\u00e1metros en vez de leerlos desde un archivo. De paso, lo convertiremos (un poco) a **Fortran 90** y simplificando porque ya sabemos: **la legibilidad cuenta**. \n",
      "\n",
      "Algunas reglas (no exhaustivas):\n",
      "\n",
      "- **S\u00f3lo** usar may\u00fasculas para definir constantes/par\u00e1metros\n",
      "- Us\u00e1 **nombres de variables significativos**: no funciona m\u00e1s r\u00e1pido por ser cr\u00edptico. \n",
      "- De nuevo: **la legibilidad es lo m\u00e1s importante**. S\u00e9 expl\u00edcito y pon\u00e9 comentarios cuando el c\u00f3digo no es obvio\n",
      "- Dej\u00e1 **sangr\u00edas** (de 4 espacios) para destacar las estructuras de control (como si fuera python)\n",
      "- Us\u00e1 los operadores l\u00f3gicos **==, >=, /=, <**, en vez de `.EQ., .GE. ... ` . Son \"menos ruidosos\".\n",
      "- Si ten\u00e9s que continuar una linea en la siguiente, hacelo con `&` al final \n",
      "- Los comentarios empezalos siempre con **!**  y en el nivel de sangr\u00eda en el que est\u00e1s.\n",
      "- Declar\u00e1 el **intent** de tus par\u00e1metros. Expl\u00edcito es mejor que impl\u00edcito.\n",
      "- Evit\u00e1, por el amor de Messi, el uso de `goto`\n",
      "- Hac\u00e9 subrutinas lo m\u00e1s peque\u00f1as posibles que hagan **una** cosa, bien.\n",
      "- Trat\u00e1 de no usar **par\u00e1metros que cambien el significado** de entrada/salida. Casos del tipo *\"si primero le pasas un 0 lo que sigue es la temperatura y lo que devuelve es el volumen, pero si le pasas un 1 lo que espera es la cantidad de goles de Messi en la selecci\u00f3n y devuelve la distancia Tierra-Marte de ma\u00f1ana. Si la pas\u00e1s un 3 algo hace pero no me acuerdo qu\u00e9\"*. Si no lo pod\u00e9s evitar, defin\u00ed constantes expl\u00edcitamente y usalas en los \"if\" en vez de los n\u00fameros literales. Un \"...pero es casi igual\" es s\u00edntoma de que ten\u00e9s que separar c\u00f3digo en rutinas auxiliares.\n",
      "- Los comentarios empezalos siempre con **!**  y en el nivel de sangr\u00eda en el que est\u00e1s.\n",
      "  Si son rutinas auxiliares poneles un gui\u00f3n bajo como prefijo  (`_calc_something(...)`)\n",
      "- Los principios [KISS](http://en.wikipedia.org/wiki/KISS_principle) y [DRY](http://en.wikipedia.org/wiki/DRY_principle) son nuestros dogmas. Mantenelo simple y \u00a1no repitas c\u00f3digo! Si hay una subrutina que usas seguido separala en un nuevo m\u00f3dulo e inclu\u00edlo en la compilaci\u00f3n. El **Copy & paste es malo**, malo, malo. \n",
      "- Si no pod\u00e9s evitar **leer datos** desde un archivo, **hacelo en una s\u00f3la rutina bien documentada** (con ejemplos de input) y no con `read(NIN, *)` desparramados por doquier. Lo mismo aplica a la rutina de \"escritura\" del output. \n",
      "- El c\u00f3digo comentado s\u00f3lo mete ruido. Un \"puede servir ma\u00f1ana\", es sintoma de que necesitas usar un sistema de control de versiones. \n",
      "- Comentarios tipo \"cambi\u00e9 esto el 1 de agosto porque necesitaba...\" es sintoma de que necesitas usar un sistema de control de versiones. \n",
      "- Necesitas usar un sistema de control de versiones. . Dropbox no lo es. \n",
      "- ...\n",
      "\n",
      "Nota: El script [f2f.pl](https://bitbucket.org/lemonlab/f2f/) puede ayudar un poco automatizando algunas cosas de la migraci\u00f3n.\n",
      "\n",
      "Bueno, basta de adoctrinamiento. "
     ]
    },
    {
     "cell_type": "code",
     "collapsed": false,
     "input": [
      "%%file CubicParam_simpler.f90\n",
      "\n",
      "subroutine modelsparam(nmodel, tc, pc, om, constants, parameters)\n",
      "\n",
      "    implicit double precision (a-h,o-z)\n",
      "    parameter (rgas=0.08314472d0)\n",
      "\n",
      "    !  Critical constants must be given in k and bar\n",
      "    !  b will be in l/mol and ac in bar*(l/mol)**2\n",
      "\n",
      "    parameter (a0=0.0017, b0=1.9681, c0=-2.7238)\n",
      "    parameter (a1=-2.4407, b1=7.4513, c1=12.504)\n",
      "    dimension d(6), constants(4), parameters(3)\n",
      "\n",
      "    !*** Atenti a la linea que sigue *******\n",
      "    !f2py intent(out) :: constants, parameters\n",
      "\n",
      "    d = [0.428363, 18.496215, 0.338426, 0.660, 789.723105, 2.512392]\n",
      "    rt = rgas*tc\n",
      "\n",
      "    if(nmodel == 1) then\n",
      "        ! srk eos\n",
      "        del1 = 1.0d0\n",
      "    else\n",
      "        ! pr eos\n",
      "        del1 = 1.0d0 + sqrt(2.0)\n",
      "    end if\n",
      "\n",
      "    d1 = (1+del1**2)/(1+del1)\n",
      "    y = 1+(2*(1+del1))**(1.0d0/3)+(4/(1+del1))**(1.0d0/3)\n",
      "    oma = (3*y*y+3*y*d1+d1**2+d1-1.0d0)/(3*y+d1-1.0d0)**2\n",
      "    omb = 1/(3*y+d1-1.0d0)\n",
      "    zc = y/(3*y+d1-1.0d0)\n",
      "\n",
      "    ac = oma*rt**2/pc\n",
      "    b = omb*rt/pc\n",
      "\n",
      "    zc = y/(3*y+d1-1.0d0)\n",
      "    vceos=zc*rgas*tc/pc\n",
      "\n",
      "    if(nmodel == 1) then\n",
      "        rm = 0.48+1.574*om-0.175*om**2  ! m from srk\n",
      "    else\n",
      "        rm = 0.37464+1.54226*om-0.26992*om**2  ! m from pr\n",
      "    end if\n",
      "\n",
      "    constants = (/tc, pc, om, vceos /)\n",
      "    parameters = (/ac, b, rm/)\n",
      "\n",
      "end subroutine "
     ],
     "language": "python",
     "metadata": {},
     "outputs": []
    },
    {
     "cell_type": "code",
     "collapsed": false,
     "input": [
      "_ = !f2py -m cubic_param_new -c CubicParam_simpler.f90"
     ],
     "language": "python",
     "metadata": {},
     "outputs": []
    },
    {
     "cell_type": "code",
     "collapsed": false,
     "input": [
      "import cubic_param_new\n",
      "print cubic_param_new.modelsparam.__doc__"
     ],
     "language": "python",
     "metadata": {},
     "outputs": []
    },
    {
     "cell_type": "code",
     "collapsed": false,
     "input": [
      "constants, parameters = cubic_param_new.modelsparam(1, tc=369.83, pc=42.48, om=0.152291)"
     ],
     "language": "python",
     "metadata": {},
     "outputs": []
    },
    {
     "cell_type": "code",
     "collapsed": false,
     "input": [
      "print constants\n",
      "print parameters"
     ],
     "language": "python",
     "metadata": {},
     "outputs": []
    },
    {
     "cell_type": "code",
     "collapsed": false,
     "input": [
      "%pycat CONPAROUT.DAT"
     ],
     "language": "python",
     "metadata": {},
     "outputs": []
    },
    {
     "cell_type": "markdown",
     "metadata": {},
     "source": [
      "\u00a1Genial! \n",
      "\n",
      "### \u00bfC\u00f3mo seguimos?\n",
      "\n",
      "\n",
      "F2Py es **muy poderoso** pero hay que ayudarlo. \n",
      "\n",
      "Un **patr\u00f3n t\u00edpico** es el de c\u00e1lculos iterativos que dan \"distinta cantidad de output\". En nuestro ejemplo siempre se devolvian dos arrays de longitud conocida, pero **\u00bfque pasa si no sabemos de antemano el tama\u00f1o de los arrays de salida?** \n",
      "\n",
      "Escribiendo archivos de texto a medida que se encuentran los puntos se evita \"almacenar\" los valores en un array, pero ya sabemos que eso es una mala arquitectura porque a) **escribir al disco es lento** (si fortran es r\u00e1pido, ah\u00ed perdemos la ventaja) y b) casi siempre queremos los resultados para hacer nuevos c\u00f3mputos: otras cuentas, gr\u00e1ficos, o mostrarlos en una bonita interfaz, etc. Nada de eso es m\u00e1s f\u00e1cil desde un archivo de texto. \n",
      "\n",
      "\n",
      "Una forma simple de resolver eso es dimensionar el array contenedor bien grande y llevar un contador (entero) de datos v\u00e1lidos. Tanto el array como el contador se devuelven\n"
     ]
    },
    {
     "cell_type": "code",
     "collapsed": false,
     "input": [
      "%%file output_variable.f90\n",
      "\n",
      "subroutine algo(nin, output, nout)\n",
      "    implicit none\n",
      "    integer, intent(in) :: nin\n",
      "    real, dimension(50000), intent(out) :: output\n",
      "    integer, intent(out) :: nout\n",
      "    integer :: i\n",
      "            \n",
      "    nout = 0\n",
      "    ! hacer calculos que van llenando\n",
      "    do i=1,2*nin\n",
      "        output(i) = i ** .5\n",
      "        nout = nout + 1\n",
      "    end do\n",
      "end subroutine"
     ],
     "language": "python",
     "metadata": {},
     "outputs": []
    },
    {
     "cell_type": "code",
     "collapsed": false,
     "input": [
      "_ = !f2py -m variable -c output_variable.f90"
     ],
     "language": "python",
     "metadata": {},
     "outputs": []
    },
    {
     "cell_type": "code",
     "collapsed": false,
     "input": [
      "import variable"
     ],
     "language": "python",
     "metadata": {},
     "outputs": []
    },
    {
     "cell_type": "code",
     "collapsed": false,
     "input": [
      "output, validos = variable.algo(10)\n",
      "output.size, validos"
     ],
     "language": "python",
     "metadata": {},
     "outputs": []
    },
    {
     "cell_type": "markdown",
     "metadata": {},
     "source": [
      "Entonces lo mejor es hacer una funci\u00f3n (o m\u00e9todo) que **envuelva** a la de fortran y haga el postprocesado (y el preprocesado si hiciera falta), **mejorando de paso la documentaci\u00f3n**. Esto se llama un **wrapper** "
     ]
    },
    {
     "cell_type": "code",
     "collapsed": false,
     "input": [
      "def raizde2(cantidad):\n",
      "    \"\"\"\n",
      "    dado un entero, devuelve un vector de el doble de tama\u00f1o \n",
      "    donde cada elemento i tiene valor sqrt(i + 1)  (raiz cuadrada)\n",
      "    \"\"\" \n",
      "    output, validos = variable.algo(cantidad)\n",
      "    return output[:validos]"
     ],
     "language": "python",
     "metadata": {},
     "outputs": []
    },
    {
     "cell_type": "code",
     "collapsed": false,
     "input": [
      "raizde2(10)[1]"
     ],
     "language": "python",
     "metadata": {},
     "outputs": []
    },
    {
     "cell_type": "code",
     "collapsed": false,
     "input": [
      "raizde2(10).size"
     ],
     "language": "python",
     "metadata": {},
     "outputs": []
    },
    {
     "cell_type": "code",
     "collapsed": false,
     "input": [
      "help(raizde2)"
     ],
     "language": "python",
     "metadata": {},
     "outputs": []
    },
    {
     "cell_type": "markdown",
     "metadata": {},
     "source": [
      "### \u00bfUn deadmatch ?"
     ]
    },
    {
     "cell_type": "code",
     "collapsed": false,
     "input": [
      "import numpy as np\n",
      "def raizde2_np(cantidad):\n",
      "    \"\"\"\n",
      "    dado un entero, devuelve un vector de el doble de tama\u00f1o \n",
      "    donde cada elemento i tiene valor sqrt(i + 1)  (raiz cuadrada)\n",
      "    \"\"\" \n",
      "    return np.sqrt(np.arange(1, 2*cantidad + 1, dtype=np.float32))"
     ],
     "language": "python",
     "metadata": {},
     "outputs": []
    },
    {
     "cell_type": "code",
     "collapsed": false,
     "input": [
      "(raizde2(10) == raizde2_np(10)).all()"
     ],
     "language": "python",
     "metadata": {},
     "outputs": []
    },
    {
     "cell_type": "code",
     "collapsed": false,
     "input": [
      "%timeit raizde2(10000)"
     ],
     "language": "python",
     "metadata": {},
     "outputs": []
    },
    {
     "cell_type": "code",
     "collapsed": false,
     "input": [
      "%timeit raizde2_np(10000)"
     ],
     "language": "python",
     "metadata": {},
     "outputs": []
    },
    {
     "cell_type": "code",
     "collapsed": false,
     "input": [
      "218/149."
     ],
     "language": "python",
     "metadata": {},
     "outputs": []
    },
    {
     "cell_type": "markdown",
     "metadata": {},
     "source": [
      "numpy es un 46% m\u00e1s r\u00e1pido \u00a1En tu cara compilador!"
     ]
    },
    {
     "cell_type": "code",
     "collapsed": false,
     "input": [],
     "language": "python",
     "metadata": {},
     "outputs": []
    }
   ],
   "metadata": {}
  }
 ]
}