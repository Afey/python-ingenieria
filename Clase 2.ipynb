{
 "metadata": {
  "name": ""
 },
 "nbformat": 3,
 "nbformat_minor": 0,
 "worksheets": [
  {
   "cells": [
    {
     "cell_type": "markdown",
     "metadata": {},
     "source": [
      "# Python para ciencia e ingenier\u00eda. Clase 2/6\n",
      "\n",
      "**Tallerista**: Mart\u00edn Gait\u00e1n (Phasety)\n",
      "\n",
      "**Colaboradores**: Jairo Trad (Insus) y Juli\u00e1n Scortechini (Phasety)\n",
      "\n",
      "                                \n",
      "                                Agosto/Septiembre de 2013\n",
      "\n",
      "![](http://phasety.com/squelettes/img/logo.png)\n",
      "\n",
      "----\n",
      "Licencia: ![](http://i.creativecommons.org/l/by-sa/2.5/ar/88x31.png)\n",
      "\n",
      "\n",
      "## Repaso\n",
      "\n",
      "- Estructuras de datos\n",
      "  \n",
      "  - numeros: enteros, flotantes, complejos\n",
      "  - secuencias: cadenas, listas, tuplas. M\u00e9todos asociados. \n",
      "  - diccionarios y conjuntos\n",
      "  - funciones: range, zip, enumerate, type\n",
      "\n",
      "- Control de flujo\n",
      "  \n",
      "  - if/elif/else\n",
      "  - for/break/continue\n",
      "  - while\n",
      "  \n",
      "  \n",
      "## C\u00f3mo seguimos?\n",
      "\n",
      "### Funciones\n",
      "\n",
      "Las funciones son bloques de c\u00f3digo que uno puede ejecutar para obtener un resultado. En Python las funciones se definen con `def`"
     ]
    },
    {
     "cell_type": "code",
     "collapsed": false,
     "input": [
      "def cuadrado(numero):\n",
      "    \"\"\"dado un escalar, devuelve su potencia cuadrada\"\"\"\n",
      "    return numero**2\n",
      "    "
     ],
     "language": "python",
     "metadata": {},
     "outputs": [],
     "prompt_number": 1
    },
    {
     "cell_type": "code",
     "collapsed": false,
     "input": [
      "cuadrado(4.3), cuadrado(2), cuadrado(1j)"
     ],
     "language": "python",
     "metadata": {},
     "outputs": [
      {
       "metadata": {},
       "output_type": "pyout",
       "prompt_number": 8,
       "text": [
        "(18.49, 4, (-1+0j))"
       ]
      }
     ],
     "prompt_number": 8
    },
    {
     "cell_type": "markdown",
     "metadata": {},
     "source": [
      "Notar que no **forzamos** un tipo de dato en la signatura. Python es din\u00e1mico: que nuestra funci\u00f3n espere comportamientos en vez de tipos. \n",
      "\n",
      "Si un numero, cualquiera sea su tipo, puede elevarse al cuadrado, \u00bfpor qu\u00e9 hacer una funcion para enteros, otra para float y otra para complex?\n",
      "\n",
      "Esto es lo que se conoce como \"Duck typing\". \n",
      "\n",
      "   \"Cuando veo un ave que camina como un pato, nada como un pato y suena como un pato, a esa ave yo la llamo un pato.\" \n",
      "\n"
     ]
    },
    {
     "cell_type": "code",
     "collapsed": false,
     "input": [
      "cuadrado(\"hola mundo\")"
     ],
     "language": "python",
     "metadata": {},
     "outputs": [
      {
       "ename": "TypeError",
       "evalue": "unsupported operand type(s) for ** or pow(): 'str' and 'int'",
       "output_type": "pyerr",
       "traceback": [
        "\u001b[1;31m---------------------------------------------------------------------------\u001b[0m\n\u001b[1;31mTypeError\u001b[0m                                 Traceback (most recent call last)",
        "\u001b[1;32m<ipython-input-9-96c34a475a00>\u001b[0m in \u001b[0;36m<module>\u001b[1;34m()\u001b[0m\n\u001b[1;32m----> 1\u001b[1;33m \u001b[0mcuadrado\u001b[0m\u001b[1;33m(\u001b[0m\u001b[1;34m\"hola mundo\"\u001b[0m\u001b[1;33m)\u001b[0m\u001b[1;33m\u001b[0m\u001b[0m\n\u001b[0m",
        "\u001b[1;32m<ipython-input-1-379b69a0791c>\u001b[0m in \u001b[0;36mcuadrado\u001b[1;34m(numero)\u001b[0m\n\u001b[0;32m      1\u001b[0m \u001b[1;32mdef\u001b[0m \u001b[0mcuadrado\u001b[0m\u001b[1;33m(\u001b[0m\u001b[0mnumero\u001b[0m\u001b[1;33m)\u001b[0m\u001b[1;33m:\u001b[0m\u001b[1;33m\u001b[0m\u001b[0m\n\u001b[0;32m      2\u001b[0m     \u001b[1;34m\"\"\"dado un escalar, devuelve su potencia cuadrada\"\"\"\u001b[0m\u001b[1;33m\u001b[0m\u001b[0m\n\u001b[1;32m----> 3\u001b[1;33m     \u001b[1;32mreturn\u001b[0m \u001b[0mnumero\u001b[0m\u001b[1;33m**\u001b[0m\u001b[1;36m2\u001b[0m\u001b[1;33m\u001b[0m\u001b[0m\n\u001b[0m\u001b[0;32m      4\u001b[0m \u001b[1;33m\u001b[0m\u001b[0m\n",
        "\u001b[1;31mTypeError\u001b[0m: unsupported operand type(s) for ** or pow(): 'str' and 'int'"
       ]
      }
     ],
     "prompt_number": 9
    },
    {
     "cell_type": "markdown",
     "metadata": {},
     "source": [
      "Obviamente, si el objeto (el tipo del objeto) que pasamos no soporta el comportamiento que espeamos (en este caso no se puede \"elevar al cuadrado\" una cadena) fallar\u00e1. Pero es mejor, ?no? \u00bfPor qu\u00e9 querr\u00edamos elevar una cadena al cuadrado? \u00bfNo nos falt\u00f3 un paso de validaci\u00f3n/conversi\u00f3n **antes** de llamar a la funci\u00f3n?\n",
      "\n",
      "\n",
      "![](http://img.desmotivaciones.es/201109/CliffRobertsonSpiderman1.jpg)\n",
      "\n",
      "\n",
      "#### Parametros y m\u00e1s par\u00e1metros\n",
      "\n",
      "La definci\u00f3n de funciones es muy flexible. No exige ni siquiera pasar par\u00e1metros o devolver resultados\n"
     ]
    },
    {
     "cell_type": "code",
     "collapsed": false,
     "input": [
      "def hola():\n",
      "    print \"Hola amigos!\"\n",
      "\n",
      "hola()"
     ],
     "language": "python",
     "metadata": {},
     "outputs": [
      {
       "output_type": "stream",
       "stream": "stdout",
       "text": [
        "Hola amigos!\n"
       ]
      }
     ],
     "prompt_number": 10
    },
    {
     "cell_type": "code",
     "collapsed": false,
     "input": [
      "saludo = hola()\n",
      "print saludo"
     ],
     "language": "python",
     "metadata": {},
     "outputs": [
      {
       "output_type": "stream",
       "stream": "stdout",
       "text": [
        "Hola amigos!\n",
        "None\n"
       ]
      }
     ],
     "prompt_number": 11
    },
    {
     "cell_type": "markdown",
     "metadata": {},
     "source": [
      "Si la funci\u00f3n no termina en un return expl\u00edcito, la funci\u00f3n devuelve un `None`. Tambi\u00e9n puede haber multiples `return` en una funci\u00f3n"
     ]
    },
    {
     "cell_type": "code",
     "collapsed": false,
     "input": [
      "def hola(coloquial):\n",
      "    if coloquial:\n",
      "        return \"Hola chochamus!\"\n",
      "    else:\n",
      "        return \"Hola se\u00f1ores\"\n",
      "\n",
      "hola(True)\n"
     ],
     "language": "python",
     "metadata": {},
     "outputs": [
      {
       "metadata": {},
       "output_type": "pyout",
       "prompt_number": 15,
       "text": [
        "'Hola chochamus!'"
       ]
      }
     ],
     "prompt_number": 15
    },
    {
     "cell_type": "markdown",
     "metadata": {},
     "source": [
      "Se pueden definir par\u00e1metros opcionales, que toman un valor *default* cuando no se los explic\u00edta"
     ]
    },
    {
     "cell_type": "code",
     "collapsed": false,
     "input": [
      "def saludo(nombre, saludo=\"Hola\", sufijo=\"que tal?\"):\n",
      "    \"\"\"dado un nombre y, opcionalmente, un saludo y/o sufijo, devuelve \n",
      "    una cadena saludo + nombre + sufijo\"\"\"\n",
      "    \n",
      "    return \"%(saludo)s %(nombre)s, %(sufijo)s\" % locals()   #interpolaci\u00f3n con diccionario. \n",
      "\n",
      "print saludo(\"Melisa\")\n",
      "print saludo(\"Mart\u00edn\", \"que hac\u00e9s\")\n",
      "print saludo(\"Jos\u00e9\", \"Che\", \"c\u00f3mo and\u00e1s peladito?\")"
     ],
     "language": "python",
     "metadata": {},
     "outputs": [
      {
       "output_type": "stream",
       "stream": "stdout",
       "text": [
        "Hola Melisa, que tal?\n",
        "que hac\u00e9s Mart\u00edn, que tal?\n",
        "Che Jos\u00e9, c\u00f3mo and\u00e1s peladito?\n"
       ]
      }
     ],
     "prompt_number": 25
    },
    {
     "cell_type": "markdown",
     "metadata": {},
     "source": [
      "La funci\u00f3n `saludo` recibe un par\u00e1metro requerido `nombre` (es requerido porque no tiene valor por omisi\u00f3n)  y dos par\u00e1metros opcionales (`saludo` y `sufijo`). \n",
      "\n",
      "- Si s\u00f3lo paso 1 par\u00e1metro ser\u00e1 `nombre` y los valores default se usar\u00e1n para los otros. \n",
      "- Si paso 2 se usaran para `nombre` y `saludo` y `sufijo` usar\u00e1 el default\n",
      "- Si paso todos los par\u00e1metros no se usaran los valores por omisi\u00f3n.\n",
      "\n",
      "Pero \u00bfqu\u00e9 pasa si quiero usar el default para `saludo` pero no para `sufijo`? \n",
      "\n",
      "Explicitamos los par\u00e1metros por nombre:\n",
      "\n"
     ]
    },
    {
     "cell_type": "code",
     "collapsed": false,
     "input": [
      "print saludo(\"Juli\u00e1n\", sufijo=\"todo bien?\")"
     ],
     "language": "python",
     "metadata": {},
     "outputs": [
      {
       "output_type": "stream",
       "stream": "stdout",
       "text": [
        "Hola Juli\u00e1n, todo bien?\n"
       ]
      }
     ],
     "prompt_number": 26
    },
    {
     "cell_type": "markdown",
     "metadata": {},
     "source": [
      "Cuando se usan par\u00e1metros por nombre no importa el \u00f3rden. Si mezclamos par\u00e1metros por posici\u00f3n, deben ir **antes** de los par\u00e1metros por nombre. \n",
      "\n",
      "\n",
      "#### Par\u00e1metros arbitrarios: *args y **kwargs\n",
      "\n",
      "**COMPLETAR** referencia posible: http://www.juanjoconti.com.ar/2010/10/13/entendiendo-args-y-kwargs-en-python/"
     ]
    },
    {
     "cell_type": "code",
     "collapsed": false,
     "input": [],
     "language": "python",
     "metadata": {},
     "outputs": []
    },
    {
     "cell_type": "markdown",
     "metadata": {},
     "source": [
      "## Manejo de errores\n",
      "\n",
      "referencia \n",
      "\n",
      " http://docs.python.org.ar/tutorial/2/errors.html\n"
     ]
    },
    {
     "cell_type": "code",
     "collapsed": false,
     "input": [],
     "language": "python",
     "metadata": {},
     "outputs": []
    },
    {
     "cell_type": "markdown",
     "metadata": {},
     "source": [
      "## Modularizaci\u00f3n: M\u00f3dulos y paquetes\n",
      "\n",
      "- ejecutar como un programa .py\n",
      "- `__name__ == '__main__'`\n",
      "- import / from import / as\n",
      "- estructurar c\u00f3digo en m\u00f3dulos y paquetes. \n",
      "- mencionar paquetes de la biblioteca est\u00e1ndar ?"
     ]
    },
    {
     "cell_type": "markdown",
     "metadata": {},
     "source": [
      "## Lectura y escritura de archivos\n",
      "\n",
      "- open(). modos \n",
      "- sentencia with // uso con open() \n",
      "- read() / readlines()\n",
      "- write() / writelines()\n",
      "\n",
      "#### Tipos especiales de archivos\n",
      "\n",
      "- csv\n",
      "- json"
     ]
    },
    {
     "cell_type": "code",
     "collapsed": false,
     "input": [],
     "language": "python",
     "metadata": {},
     "outputs": []
    },
    {
     "cell_type": "markdown",
     "metadata": {},
     "source": [
      "## Clases y objetos \u00bfqu\u00e9 lo qu\u00e9?\n",
      "\n",
      "- La utilidad de \"encapsular c\u00f3digo\"\n",
      "- \"funciones con par\u00e1metro impl\u00edcito\"\n",
      "- Herencia, extensi\u00f3n y sobreescritura\n",
      "- Ejemplos"
     ]
    },
    {
     "cell_type": "code",
     "collapsed": false,
     "input": [],
     "language": "python",
     "metadata": {},
     "outputs": []
    }
   ],
   "metadata": {}
  }
 ]
}