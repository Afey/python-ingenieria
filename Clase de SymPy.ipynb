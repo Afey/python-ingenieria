{
 "metadata": {
  "name": "Clase de SymPy"
 },
 "nbformat": 3,
 "nbformat_minor": 0,
 "worksheets": [
  {
   "cells": [
    {
     "cell_type": "heading",
     "level": 1,
     "metadata": {},
     "source": [
      "\u00a1Bienvenidos a SymPy!"
     ]
    },
    {
     "cell_type": "markdown",
     "metadata": {},
     "source": [
      "SymPy se puede descargar desde: http://code.google.com/p/sympy/"
     ]
    },
    {
     "cell_type": "markdown",
     "metadata": {},
     "source": [
      "Bajar los archivos: sympy-0.5.12.tar.gz y sympy-0.5.12.win32.exe"
     ]
    },
    {
     "cell_type": "heading",
     "level": 2,
     "metadata": {},
     "source": [
      "Los primeros pasos: usar SymPy como una calculadora"
     ]
    },
    {
     "cell_type": "markdown",
     "metadata": {},
     "source": [
      "SymPy tiene tres tipos de datos predefinidos: el real (Real), el racional (Rational) y el entero (Integer).\n",
      "El tipo Rational represen ta a un n\u00famero racional como un par de n\u00fameros enteros: el numerador y el denominador.\n",
      "Por ejemplo: Rational(1, 2) representa la fracci\u00f3n 1/2, Rational(5, 2) a 5/2, etc."
     ]
    },
    {
     "cell_type": "code",
     "collapsed": false,
     "input": [
      "from sympy import *\n",
      "from sympy.interactive import printing\n",
      "printing.init_printing()\n",
      "a= Rational(1, 2)\n",
      "a"
     ],
     "language": "python",
     "metadata": {},
     "outputs": [
      {
       "latex": [
        "$$\\frac{1}{2}$$"
       ],
       "output_type": "pyout",
       "png": "[encoded data removed]",
       "prompt_number": 84,
       "text": [
        "1/2"
       ]
      }
     ],
     "prompt_number": 84
    },
    {
     "cell_type": "code",
     "collapsed": false,
     "input": [
      "a*2"
     ],
     "language": "python",
     "metadata": {},
     "outputs": [
      {
       "latex": [
        "$$1$$"
       ],
       "output_type": "pyout",
       "png": "[encoded data removed]",
       "prompt_number": 85,
       "text": [
        "1"
       ]
      }
     ],
     "prompt_number": 85
    },
    {
     "cell_type": "markdown",
     "metadata": {},
     "source": [
      "SymPy utiliza como background mpmath, lo cual le permite realizar c\u00e1lculos con aritm\u00e9tica de precisi\u00f3n arbitraria, de forma tal que ciertas constantes especiales, como pi, el n\u00famero e, oo(infinito), son tratadas como s\u00edmbolos y pueden ser evaluadas con aritm\u00e9tica de alta precisi\u00f3n:"
     ]
    },
    {
     "cell_type": "code",
     "collapsed": false,
     "input": [
      "pi**2"
     ],
     "language": "python",
     "metadata": {},
     "outputs": [
      {
       "latex": [
        "$$\\pi^{2}$$"
       ],
       "output_type": "pyout",
       "png": "[encoded data removed]",
       "prompt_number": 86,
       "text": [
        " 2\n",
        "\u03c0 "
       ]
      }
     ],
     "prompt_number": 86
    },
    {
     "cell_type": "code",
     "collapsed": false,
     "input": [
      "pi.evalf()"
     ],
     "language": "python",
     "metadata": {},
     "outputs": [
      {
       "latex": [
        "$$3.14159265358979$$"
       ],
       "output_type": "pyout",
       "png": "[encoded data removed]",
       "prompt_number": 87,
       "text": [
        "3.14159265358979"
       ]
      }
     ],
     "prompt_number": 87
    },
    {
     "cell_type": "code",
     "collapsed": false,
     "input": [
      "(pi+exp(1)).evalf()"
     ],
     "language": "python",
     "metadata": {},
     "outputs": [
      {
       "latex": [
        "$$5.85987448204884$$"
       ],
       "output_type": "pyout",
       "png": "[encoded data removed]",
       "prompt_number": 88,
       "text": [
        "5.85987448204884"
       ]
      }
     ],
     "prompt_number": 88
    },
    {
     "cell_type": "markdown",
     "metadata": {},
     "source": [
      "Con .evalf() podemos acceder al valor num\u00e9rico que contiene cualquier variable simb\u00f3lica."
     ]
    },
    {
     "cell_type": "markdown",
     "metadata": {},
     "source": [
      "Tambi\u00e9n existe una clase para representar al infinito matem\u00e1tico, llamada oo:"
     ]
    },
    {
     "cell_type": "code",
     "collapsed": false,
     "input": [
      "oo > 99999"
     ],
     "language": "python",
     "metadata": {},
     "outputs": [
      {
       "output_type": "pyout",
       "png": "[encoded data removed]",
       "prompt_number": 89,
       "text": [
        "True"
       ]
      }
     ],
     "prompt_number": 89
    },
    {
     "cell_type": "code",
     "collapsed": false,
     "input": [
      "oo + 1"
     ],
     "language": "python",
     "metadata": {},
     "outputs": [
      {
       "latex": [
        "$$\\infty$$"
       ],
       "output_type": "pyout",
       "png": "[encoded data removed]",
       "prompt_number": 90,
       "text": [
        "\u221e"
       ]
      }
     ],
     "prompt_number": 90
    },
    {
     "cell_type": "heading",
     "level": 2,
     "metadata": {},
     "source": [
      "Ejercicios:"
     ]
    },
    {
     "cell_type": "markdown",
     "metadata": {},
     "source": [
      "1. Calcular la ra\u00edz cuadrada de dos con 100 decimales."
     ]
    },
    {
     "cell_type": "code",
     "collapsed": false,
     "input": [
      "r= sqrt(2)\n",
      "r.evalf()"
     ],
     "language": "python",
     "metadata": {},
     "outputs": [
      {
       "latex": [
        "$$1.4142135623731$$"
       ],
       "output_type": "pyout",
       "png": "[encoded data removed]",
       "prompt_number": 91,
       "text": [
        "1.41421356237310"
       ]
      }
     ],
     "prompt_number": 91
    },
    {
     "cell_type": "markdown",
     "metadata": {},
     "source": [
      "Por defecto la evaluaci\u00f3n num\u00e9rica se lleva a cabo con un precisi\u00f3n de 15 decimales.\n",
      "Pero puede ajustarse la precisi\u00f3n al n\u00famero de decimales que uno desee, enviando el n\u00famero de decimales como argumento a evalf() o a N():"
     ]
    },
    {
     "cell_type": "code",
     "collapsed": false,
     "input": [
      "r.evalf(100)"
     ],
     "language": "python",
     "metadata": {},
     "outputs": [
      {
       "latex": [
        "$$1.414213562373095048801688724209698078569671875376948073176679737990732478462107038850387534327641573$$"
       ],
       "output_type": "pyout",
       "png": "[encoded data removed]",
       "prompt_number": 92,
       "text": [
        "1.4142135623730950488016887242096980785696718753769480731766797379907324784621\n",
        "07038850387534327641573"
       ]
      }
     ],
     "prompt_number": 92
    },
    {
     "cell_type": "code",
     "collapsed": false,
     "input": [
      "N(sqrt(2), 100)"
     ],
     "language": "python",
     "metadata": {},
     "outputs": [
      {
       "latex": [
        "$$1.414213562373095048801688724209698078569671875376948073176679737990732478462107038850387534327641573$$"
       ],
       "output_type": "pyout",
       "png": "[encoded data removed]",
       "prompt_number": 93,
       "text": [
        "1.4142135623730950488016887242096980785696718753769480731766797379907324784621\n",
        "07038850387534327641573"
       ]
      }
     ],
     "prompt_number": 93
    },
    {
     "cell_type": "code",
     "collapsed": false,
     "input": [
      "sqrt(2).evalf(100)"
     ],
     "language": "python",
     "metadata": {},
     "outputs": [
      {
       "latex": [
        "$$1.414213562373095048801688724209698078569671875376948073176679737990732478462107038850387534327641573$$"
       ],
       "output_type": "pyout",
       "png": "[encoded data removed]",
       "prompt_number": 94,
       "text": [
        "1.4142135623730950488016887242096980785696718753769480731766797379907324784621\n",
        "07038850387534327641573"
       ]
      }
     ],
     "prompt_number": 94
    },
    {
     "cell_type": "markdown",
     "metadata": {},
     "source": [
      "II. Calcular 1/2 + 1/3 con aritm\u00e9tica racional."
     ]
    },
    {
     "cell_type": "code",
     "collapsed": false,
     "input": [
      "Rational(1, 2) + Rational(1, 3)"
     ],
     "language": "python",
     "metadata": {},
     "outputs": [
      {
       "latex": [
        "$$\\frac{5}{6}$$"
       ],
       "output_type": "pyout",
       "png": "[encoded data removed]",
       "prompt_number": 95,
       "text": [
        "5/6"
       ]
      }
     ],
     "prompt_number": 95
    },
    {
     "cell_type": "heading",
     "level": 2,
     "metadata": {},
     "source": [
      "S\u00edmbolos"
     ]
    },
    {
     "cell_type": "markdown",
     "metadata": {},
     "source": [
      "En SymPy las variables simb\u00f3licas deben ser declaradas expl\u00edcitamente:"
     ]
    },
    {
     "cell_type": "code",
     "collapsed": false,
     "input": [
      "x = Symbol('x')\n",
      "y = Symbol('y')"
     ],
     "language": "python",
     "metadata": {},
     "outputs": [],
     "prompt_number": 96
    },
    {
     "cell_type": "markdown",
     "metadata": {},
     "source": [
      "Luego, pueden ser manipuladas:"
     ]
    },
    {
     "cell_type": "code",
     "collapsed": false,
     "input": [
      "x + y + x - y"
     ],
     "language": "python",
     "metadata": {},
     "outputs": [
      {
       "latex": [
        "$$2 x$$"
       ],
       "output_type": "pyout",
       "png": "[encoded data removed]",
       "prompt_number": 97,
       "text": [
        "2\u22c5x"
       ]
      }
     ],
     "prompt_number": 97
    },
    {
     "cell_type": "code",
     "collapsed": false,
     "input": [
      "(x + y)**2"
     ],
     "language": "python",
     "metadata": {},
     "outputs": [
      {
       "latex": [
        "$$\\left(x + y\\right)^{2}$$"
       ],
       "output_type": "pyout",
       "png": "[encoded data removed]",
       "prompt_number": 98,
       "text": [
        "       2\n",
        "(x + y) "
       ]
      }
     ],
     "prompt_number": 98
    },
    {
     "cell_type": "heading",
     "level": 2,
     "metadata": {},
     "source": [
      "Manipulaci\u00f3n Algebr\u00e1ica"
     ]
    },
    {
     "cell_type": "markdown",
     "metadata": {},
     "source": [
      "SymPy tiene una gran potencia para realizar c\u00e1lculos en forma algebr\u00e1ica."
     ]
    },
    {
     "cell_type": "heading",
     "level": 3,
     "metadata": {},
     "source": [
      "Expansi\u00f3n"
     ]
    },
    {
     "cell_type": "code",
     "collapsed": false,
     "input": [
      "expand((x+y)**3)"
     ],
     "language": "python",
     "metadata": {},
     "outputs": [
      {
       "latex": [
        "$$x^{3} + 3 x^{2} y + 3 x y^{2} + y^{3}$$"
       ],
       "output_type": "pyout",
       "png": "[encoded data removed]",
       "prompt_number": 100,
       "text": [
        " 3      2          2    3\n",
        "x  + 3\u22c5x \u22c5y + 3\u22c5x\u22c5y  + y "
       ]
      }
     ],
     "prompt_number": 100
    },
    {
     "cell_type": "markdown",
     "metadata": {},
     "source": [
      "tambi\u00e9n se pueden hacer especificaciones adicionales:"
     ]
    },
    {
     "cell_type": "code",
     "collapsed": false,
     "input": [
      "expand(x + y, complex= True)"
     ],
     "language": "python",
     "metadata": {},
     "outputs": [
      {
       "latex": [
        "$$\\Re{x} + \\Re{y} + \\mathbf{\\imath} \\Im{x} + \\mathbf{\\imath} \\Im{y}$$"
       ],
       "output_type": "pyout",
       "png": "[encoded data removed]",
       "prompt_number": 101,
       "text": [
        "re(x) + re(y) + \u2148\u22c5im(x) + \u2148\u22c5im(y)"
       ]
      }
     ],
     "prompt_number": 101
    },
    {
     "cell_type": "code",
     "collapsed": false,
     "input": [
      "expand(cos(x + y), trig= True)"
     ],
     "language": "python",
     "metadata": {},
     "outputs": [
      {
       "latex": [
        "$$- \\sin{\\left (x \\right )} \\sin{\\left (y \\right )} + \\cos{\\left (x \\right )} \\cos{\\left (y \\right )}$$"
       ],
       "output_type": "pyout",
       "png": "[encoded data removed]",
       "prompt_number": 102,
       "text": [
        "-sin(x)\u22c5sin(y) + cos(x)\u22c5cos(y)"
       ]
      }
     ],
     "prompt_number": 102
    },
    {
     "cell_type": "heading",
     "level": 3,
     "metadata": {},
     "source": [
      "Simplificaci\u00f3n"
     ]
    },
    {
     "cell_type": "code",
     "collapsed": false,
     "input": [
      "simplify((x + x * y)/x)"
     ],
     "language": "python",
     "metadata": {},
     "outputs": [
      {
       "latex": [
        "$$y + 1$$"
       ],
       "output_type": "pyout",
       "png": "[encoded data removed]",
       "prompt_number": 103,
       "text": [
        "y + 1"
       ]
      }
     ],
     "prompt_number": 103
    },
    {
     "cell_type": "markdown",
     "metadata": {},
     "source": [
      "La simplificaci\u00f3n se realiza \"de la mejor manera\" que SymPy encuentra y a veces la respuesta puede no ser lo que uno espera (demasiado trivial o no en la forma que se necesita).\n",
      "Pero se le pueden dar detalles sobre la estrategia de simplificaci\u00f3n que debe utilizar:\n",
      "    powsimp ----> simplifica exponentes.\n",
      "    trigsimp ---> simplifica expresiones trigonom\u00e9tricas\n",
      "    logcombine\n",
      "    randsimp\n",
      "    together"
     ]
    },
    {
     "cell_type": "heading",
     "level": 2,
     "metadata": {},
     "source": [
      "Ejercicios:"
     ]
    },
    {
     "cell_type": "markdown",
     "metadata": {},
     "source": [
      "1. Calcular la forma expandida de:"
     ]
    },
    {
     "cell_type": "code",
     "collapsed": false,
     "input": [
      "(x+y)**6."
     ],
     "language": "python",
     "metadata": {},
     "outputs": [
      {
       "latex": [
        "$$\\left(x + y\\right)^{6.0}$$"
       ],
       "output_type": "pyout",
       "png": "[encoded data removed]",
       "prompt_number": 105,
       "text": [
        "       6.0\n",
        "(x + y)   "
       ]
      }
     ],
     "prompt_number": 105
    },
    {
     "cell_type": "code",
     "collapsed": false,
     "input": [
      "expand((x+y)**6)"
     ],
     "language": "python",
     "metadata": {},
     "outputs": [
      {
       "latex": [
        "$$x^{6} + 6 x^{5} y + 15 x^{4} y^{2} + 20 x^{3} y^{3} + 15 x^{2} y^{4} + 6 x y^{5} + y^{6}$$"
       ],
       "output_type": "pyout",
       "png": "[encoded data removed]",
       "prompt_number": 106,
       "text": [
        " 6      5         4  2       3  3       2  4        5    6\n",
        "x  + 6\u22c5x \u22c5y + 15\u22c5x \u22c5y  + 20\u22c5x \u22c5y  + 15\u22c5x \u22c5y  + 6\u22c5x\u22c5y  + y "
       ]
      }
     ],
     "prompt_number": 106
    },
    {
     "cell_type": "markdown",
     "metadata": {},
     "source": [
      "II. Simplificar la expresi\u00f3n trigonom\u00e9trica seno(x)/cos(x)"
     ]
    },
    {
     "cell_type": "code",
     "collapsed": false,
     "input": [
      "trigsimp(sin(x)/cos(x))"
     ],
     "language": "python",
     "metadata": {},
     "outputs": [
      {
       "latex": [
        "$$\\tan{\\left (x \\right )}$$"
       ],
       "output_type": "pyout",
       "png": "[encoded data removed]",
       "prompt_number": 107,
       "text": [
        "tan(x)"
       ]
      }
     ],
     "prompt_number": 107
    },
    {
     "cell_type": "heading",
     "level": 2,
     "metadata": {},
     "source": [
      "C\u00e1lculo"
     ]
    },
    {
     "cell_type": "heading",
     "level": 2,
     "metadata": {},
     "source": [
      "L\u00edmites"
     ]
    },
    {
     "cell_type": "markdown",
     "metadata": {},
     "source": [
      "Los l\u00edmites se pueden calcular con mucha facilidad usando SymPy.\n",
      "La sintaxis es: limit(funci\u00f3n, variable, punto)\n",
      "Entonces para calcular el l\u00edmite de f(x) cuando x tiaende a 0, debemos escribir:\n",
      "    limit(f(x), x, 0)"
     ]
    },
    {
     "cell_type": "code",
     "collapsed": false,
     "input": [
      "limit(sin(x)/x, x, 0)"
     ],
     "language": "python",
     "metadata": {},
     "outputs": [
      {
       "latex": [
        "$$1$$"
       ],
       "output_type": "pyout",
       "png": "[encoded data removed]",
       "prompt_number": 108,
       "text": [
        "1"
       ]
      }
     ],
     "prompt_number": 108
    },
    {
     "cell_type": "markdown",
     "metadata": {},
     "source": [
      "Tambi\u00e9n se pueden calcular los l\u00edmites cuando x tiende infinito:"
     ]
    },
    {
     "cell_type": "code",
     "collapsed": false,
     "input": [
      "limit(x, x, oo)"
     ],
     "language": "python",
     "metadata": {},
     "outputs": [
      {
       "latex": [
        "$$\\infty$$"
       ],
       "output_type": "pyout",
       "png": "[encoded data removed]",
       "prompt_number": 109,
       "text": [
        "\u221e"
       ]
      }
     ],
     "prompt_number": 109
    },
    {
     "cell_type": "code",
     "collapsed": false,
     "input": [
      "limit(1/x, x, oo)"
     ],
     "language": "python",
     "metadata": {},
     "outputs": [
      {
       "latex": [
        "$$0$$"
       ],
       "output_type": "pyout",
       "png": "[encoded data removed]",
       "prompt_number": 110,
       "text": [
        "0"
       ]
      }
     ],
     "prompt_number": 110
    },
    {
     "cell_type": "code",
     "collapsed": false,
     "input": [
      "(1+(1/x))**x, x, oo)"
     ],
     "language": "python",
     "metadata": {},
     "outputs": [
      {
       "ename": "SyntaxError",
       "evalue": "invalid syntax (<ipython-input-111-3931ee4db5f1>, line 1)",
       "output_type": "pyerr",
       "traceback": [
        "\u001b[1;36m  File \u001b[1;32m\"<ipython-input-111-3931ee4db5f1>\"\u001b[1;36m, line \u001b[1;32m1\u001b[0m\n\u001b[1;33m    (1+(1/x))**x, x, oo)\u001b[0m\n\u001b[1;37m                       ^\u001b[0m\n\u001b[1;31mSyntaxError\u001b[0m\u001b[1;31m:\u001b[0m invalid syntax\n"
       ]
      }
     ],
     "prompt_number": 111
    },
    {
     "cell_type": "code",
     "collapsed": false,
     "input": [
      "limit(x**x, x, 0)"
     ],
     "language": "python",
     "metadata": {},
     "outputs": [
      {
       "latex": [
        "$$1$$"
       ],
       "output_type": "pyout",
       "png": "[encoded data removed]",
       "prompt_number": 112,
       "text": [
        "1"
       ]
      }
     ],
     "prompt_number": 112
    },
    {
     "cell_type": "heading",
     "level": 2,
     "metadata": {},
     "source": [
      "Diferenciaci\u00f3n"
     ]
    },
    {
     "cell_type": "markdown",
     "metadata": {},
     "source": [
      "Se puede derivar cualquier expresi\u00f3n de Sympy utilizando:\n",
      "diff(funci\u00f3n, variable)\n",
      "\n",
      "\n",
      "Por ejemplo:"
     ]
    },
    {
     "cell_type": "code",
     "collapsed": false,
     "input": [
      "diff(sin(x), x)"
     ],
     "language": "python",
     "metadata": {},
     "outputs": [
      {
       "latex": [
        "$$\\cos{\\left (x \\right )}$$"
       ],
       "output_type": "pyout",
       "png": "[encoded data removed]",
       "prompt_number": 113,
       "text": [
        "cos(x)"
       ]
      }
     ],
     "prompt_number": 113
    },
    {
     "cell_type": "code",
     "collapsed": false,
     "input": [
      "diff(sin(2*x), x)"
     ],
     "language": "python",
     "metadata": {},
     "outputs": [
      {
       "latex": [
        "$$2 \\cos{\\left (2 x \\right )}$$"
       ],
       "output_type": "pyout",
       "png": "[encoded data removed]",
       "prompt_number": 114,
       "text": [
        "2\u22c5cos(2\u22c5x)"
       ]
      }
     ],
     "prompt_number": 114
    },
    {
     "cell_type": "code",
     "collapsed": false,
     "input": [
      "diff(tan(x), x)"
     ],
     "language": "python",
     "metadata": {},
     "outputs": [
      {
       "latex": [
        "$$\\tan^{2}{\\left (x \\right )} + 1$$"
       ],
       "output_type": "pyout",
       "png": "[encoded data removed]",
       "prompt_number": 115,
       "text": [
        "   2       \n",
        "tan (x) + 1"
       ]
      }
     ],
     "prompt_number": 115
    },
    {
     "cell_type": "code",
     "collapsed": false,
     "input": [
      "diff(exp(sin(x**3)**x), x)"
     ],
     "language": "python",
     "metadata": {},
     "outputs": [
      {
       "latex": [
        "$$\\left(3 \\frac{x^{3} \\cos{\\left (x^{3} \\right )}}{\\sin{\\left (x^{3} \\right )}} + \\log{\\left (\\sin{\\left (x^{3} \\right )} \\right )}\\right) e^{\\sin^{x}{\\left (x^{3} \\right )}} \\sin^{x}{\\left (x^{3} \\right )}$$"
       ],
       "output_type": "pyout",
       "png": "[encoded data removed]",
       "prompt_number": 116,
       "text": [
        "                               \u239b   x    \u239e         \n",
        "\u239b   3    \u239b 3\u239e               \u239e  \u239c    \u239b 3\u239e\u239f    x    \n",
        "\u239c3\u22c5x \u22c5cos\u239dx \u23a0      \u239b   \u239b 3\u239e\u239e\u239f  \u239dsin \u239dx \u23a0\u23a0     \u239b 3\u239e\n",
        "\u239c\u2500\u2500\u2500\u2500\u2500\u2500\u2500\u2500\u2500\u2500\u2500\u2500 + log\u239dsin\u239dx \u23a0\u23a0\u239f\u22c5\u212f          \u22c5sin \u239dx \u23a0\n",
        "\u239c     \u239b 3\u239e                  \u239f                     \n",
        "\u239d  sin\u239dx \u23a0                  \u23a0                     "
       ]
      }
     ],
     "prompt_number": 116
    },
    {
     "cell_type": "markdown",
     "metadata": {},
     "source": [
      "Se pueden calcular derivadas de orden superio especificando el orden de derivaci\u00f3n como tercer argumento de diff: "
     ]
    },
    {
     "cell_type": "code",
     "collapsed": false,
     "input": [
      "diff(sin(2*x), x, 1)"
     ],
     "language": "python",
     "metadata": {},
     "outputs": [
      {
       "latex": [
        "$$2 \\cos{\\left (2 x \\right )}$$"
       ],
       "output_type": "pyout",
       "png": "[encoded data removed]",
       "prompt_number": 117,
       "text": [
        "2\u22c5cos(2\u22c5x)"
       ]
      }
     ],
     "prompt_number": 117
    },
    {
     "cell_type": "code",
     "collapsed": false,
     "input": [
      "diff(sin(2*x), x, 2)"
     ],
     "language": "python",
     "metadata": {},
     "outputs": [
      {
       "latex": [
        "$$- 4 \\sin{\\left (2 x \\right )}$$"
       ],
       "output_type": "pyout",
       "png": "[encoded data removed]",
       "prompt_number": 118,
       "text": [
        "-4\u22c5sin(2\u22c5x)"
       ]
      }
     ],
     "prompt_number": 118
    },
    {
     "cell_type": "code",
     "collapsed": false,
     "input": [
      "diff(sin(2*x), x, 3)"
     ],
     "language": "python",
     "metadata": {},
     "outputs": [
      {
       "latex": [
        "$$- 8 \\cos{\\left (2 x \\right )}$$"
       ],
       "output_type": "pyout",
       "png": "[encoded data removed]",
       "prompt_number": 119,
       "text": [
        "-8\u22c5cos(2\u22c5x)"
       ]
      }
     ],
     "prompt_number": 119
    },
    {
     "cell_type": "heading",
     "level": 2,
     "metadata": {},
     "source": [
      "Expansi\u00f3n en serie de Taylor"
     ]
    },
    {
     "cell_type": "markdown",
     "metadata": {},
     "source": [
      "SymPy puede expandir funciones en serie de Taylor mediante la funci\u00f3n:"
     ]
    },
    {
     "cell_type": "code",
     "collapsed": false,
     "input": [
      "series(cos(x), x)"
     ],
     "language": "python",
     "metadata": {},
     "outputs": [
      {
       "latex": [
        "$$1 - \\frac{1}{2} x^{2} + \\frac{1}{24} x^{4} + \\mathcal{O}\\left(x^{6}\\right)$$"
       ],
       "output_type": "pyout",
       "png": "[encoded data removed]",
       "prompt_number": 120,
       "text": [
        "     2    4        \n",
        "    x    x     \u239b 6\u239e\n",
        "1 - \u2500\u2500 + \u2500\u2500 + O\u239dx \u23a0\n",
        "    2    24        "
       ]
      }
     ],
     "prompt_number": 120
    },
    {
     "cell_type": "code",
     "collapsed": false,
     "input": [
      "series(1/cos(x), x)"
     ],
     "language": "python",
     "metadata": {},
     "outputs": [
      {
       "latex": [
        "$$1 + \\frac{1}{2} x^{2} + \\frac{5}{24} x^{4} + \\mathcal{O}\\left(x^{6}\\right)$$"
       ],
       "output_type": "pyout",
       "png": "[encoded data removed]",
       "prompt_number": 121,
       "text": [
        "     2      4        \n",
        "    x    5\u22c5x     \u239b 6\u239e\n",
        "1 + \u2500\u2500 + \u2500\u2500\u2500\u2500 + O\u239dx \u23a0\n",
        "    2     24         "
       ]
      }
     ],
     "prompt_number": 121
    },
    {
     "cell_type": "heading",
     "level": 2,
     "metadata": {},
     "source": [
      "Ejercicios:"
     ]
    },
    {
     "cell_type": "markdown",
     "metadata": {},
     "source": [
      "1. Calcular el l\u00edmite de seno(x)*exp(cos(x)**x)/x cuando x tiende a cero."
     ]
    },
    {
     "cell_type": "code",
     "collapsed": false,
     "input": [
      "limit(sin(x)*exp(cos(x)**x)/x, x, 0)"
     ],
     "language": "python",
     "metadata": {},
     "outputs": [
      {
       "latex": [
        "$$e$$"
       ],
       "output_type": "pyout",
       "png": "[encoded data removed]",
       "prompt_number": 122,
       "text": [
        "\u212f"
       ]
      }
     ],
     "prompt_number": 122
    },
    {
     "cell_type": "markdown",
     "metadata": {},
     "source": [
      "II. Calcular las tres primeras derivadas de log(x**2-tan(x))"
     ]
    },
    {
     "cell_type": "code",
     "collapsed": false,
     "input": [
      "diff(log(x**2-tan(x)), x, 1)"
     ],
     "language": "python",
     "metadata": {},
     "outputs": [
      {
       "latex": [
        "$$\\frac{2 x - \\tan^{2}{\\left (x \\right )} -1}{x^{2} - \\tan{\\left (x \\right )}}$$"
       ],
       "output_type": "pyout",
       "png": "[encoded data removed]",
       "prompt_number": 123,
       "text": [
        "         2       \n",
        "2\u22c5x - tan (x) - 1\n",
        "\u2500\u2500\u2500\u2500\u2500\u2500\u2500\u2500\u2500\u2500\u2500\u2500\u2500\u2500\u2500\u2500\u2500\n",
        "    2            \n",
        "   x  - tan(x)   "
       ]
      }
     ],
     "prompt_number": 123
    },
    {
     "cell_type": "code",
     "collapsed": false,
     "input": [
      "diff(log(x**2-tan(x)), x, 2)"
     ],
     "language": "python",
     "metadata": {},
     "outputs": [
      {
       "latex": [
        "$$\\frac{- \\left(2 \\tan^{2}{\\left (x \\right )} + 2\\right) \\tan{\\left (x \\right )} + 2}{x^{2} - \\tan{\\left (x \\right )}} + \\frac{\\left(- 2 x + \\tan^{2}{\\left (x \\right )} + 1\\right) \\left(2 x - \\tan^{2}{\\left (x \\right )} -1\\right)}{\\left(x^{2} - \\tan{\\left (x \\right )}\\right)^{2}}$$"
       ],
       "output_type": "pyout",
       "png": "[encoded data removed]",
       "prompt_number": 124,
       "text": [
        "  \u239b     2       \u239e              \u239b          2       \u239e \u239b         2       \u239e\n",
        "- \u239d2\u22c5tan (x) + 2\u23a0\u22c5tan(x) + 2   \u239d-2\u22c5x + tan (x) + 1\u23a0\u22c5\u239d2\u22c5x - tan (x) - 1\u23a0\n",
        "\u2500\u2500\u2500\u2500\u2500\u2500\u2500\u2500\u2500\u2500\u2500\u2500\u2500\u2500\u2500\u2500\u2500\u2500\u2500\u2500\u2500\u2500\u2500\u2500\u2500\u2500\u2500\u2500 + \u2500\u2500\u2500\u2500\u2500\u2500\u2500\u2500\u2500\u2500\u2500\u2500\u2500\u2500\u2500\u2500\u2500\u2500\u2500\u2500\u2500\u2500\u2500\u2500\u2500\u2500\u2500\u2500\u2500\u2500\u2500\u2500\u2500\u2500\u2500\u2500\u2500\u2500\u2500\u2500\n",
        "         2                                               2             \n",
        "        x  - tan(x)                         \u239b 2         \u239e              \n",
        "                                            \u239dx  - tan(x)\u23a0              "
       ]
      }
     ],
     "prompt_number": 124
    },
    {
     "cell_type": "code",
     "collapsed": false,
     "input": [
      "diff(log(x**2-tan(x)), x, 3)"
     ],
     "language": "python",
     "metadata": {},
     "outputs": [
      {
       "latex": [
        "$$\\frac{- \\left(\\tan^{2}{\\left (x \\right )} + 1\\right) \\left(2 \\tan^{2}{\\left (x \\right )} + 2\\right) - 2 \\left(2 \\tan^{2}{\\left (x \\right )} + 2\\right) \\tan^{2}{\\left (x \\right )}}{x^{2} - \\tan{\\left (x \\right )}} + 2 \\frac{\\left(- \\left(2 \\tan^{2}{\\left (x \\right )} + 2\\right) \\tan{\\left (x \\right )} + 2\\right) \\left(- 2 x + \\tan^{2}{\\left (x \\right )} + 1\\right)}{\\left(x^{2} - \\tan{\\left (x \\right )}\\right)^{2}} + \\frac{\\left(\\left(2 \\tan^{2}{\\left (x \\right )} + 2\\right) \\tan{\\left (x \\right )} -2\\right) \\left(2 x - \\tan^{2}{\\left (x \\right )} -1\\right)}{\\left(x^{2} - \\tan{\\left (x \\right )}\\right)^{2}} + \\frac{\\left(- 4 x + 2 \\tan^{2}{\\left (x \\right )} + 2\\right) \\left(- 2 x + \\tan^{2}{\\left (x \\right )} + 1\\right) \\left(2 x - \\tan^{2}{\\left (x \\right )} -1\\right)}{\\left(x^{2} - \\tan{\\left (x \\right )}\\right)^{3}}$$"
       ],
       "output_type": "pyout",
       "png": "[encoded data removed]",
       "prompt_number": 125,
       "text": [
        "  \u239b   2       \u239e \u239b     2       \u239e     \u239b     2       \u239e    2        \u239b  \u239b     2    \n",
        "- \u239dtan (x) + 1\u23a0\u22c5\u239d2\u22c5tan (x) + 2\u23a0 - 2\u22c5\u239d2\u22c5tan (x) + 2\u23a0\u22c5tan (x)   2\u22c5\u239d- \u239d2\u22c5tan (x) \n",
        "\u2500\u2500\u2500\u2500\u2500\u2500\u2500\u2500\u2500\u2500\u2500\u2500\u2500\u2500\u2500\u2500\u2500\u2500\u2500\u2500\u2500\u2500\u2500\u2500\u2500\u2500\u2500\u2500\u2500\u2500\u2500\u2500\u2500\u2500\u2500\u2500\u2500\u2500\u2500\u2500\u2500\u2500\u2500\u2500\u2500\u2500\u2500\u2500\u2500\u2500\u2500\u2500\u2500\u2500\u2500\u2500\u2500\u2500\u2500 + \u2500\u2500\u2500\u2500\u2500\u2500\u2500\u2500\u2500\u2500\u2500\u2500\u2500\u2500\u2500\u2500\n",
        "                         2                                                    \n",
        "                        x  - tan(x)                                           \n",
        "                                                                              \n",
        "\n",
        "   \u239e           \u239e \u239b          2       \u239e   \u239b\u239b     2       \u239e           \u239e \u239b        \n",
        "+ 2\u23a0\u22c5tan(x) + 2\u23a0\u22c5\u239d-2\u22c5x + tan (x) + 1\u23a0   \u239d\u239d2\u22c5tan (x) + 2\u23a0\u22c5tan(x) - 2\u23a0\u22c5\u239d2\u22c5x - ta\n",
        "\u2500\u2500\u2500\u2500\u2500\u2500\u2500\u2500\u2500\u2500\u2500\u2500\u2500\u2500\u2500\u2500\u2500\u2500\u2500\u2500\u2500\u2500\u2500\u2500\u2500\u2500\u2500\u2500\u2500\u2500\u2500\u2500\u2500\u2500\u2500\u2500\u2500 + \u2500\u2500\u2500\u2500\u2500\u2500\u2500\u2500\u2500\u2500\u2500\u2500\u2500\u2500\u2500\u2500\u2500\u2500\u2500\u2500\u2500\u2500\u2500\u2500\u2500\u2500\u2500\u2500\u2500\u2500\u2500\u2500\u2500\u2500\u2500\u2500\u2500\u2500\n",
        "                 2                                                    2       \n",
        "    \u239b 2         \u239e                                        \u239b 2         \u239e        \n",
        "    \u239dx  - tan(x)\u23a0                                        \u239dx  - tan(x)\u23a0        \n",
        "\n",
        " 2       \u239e   \u239b            2       \u239e \u239b          2       \u239e \u239b         2       \u239e\n",
        "n (x) - 1\u23a0   \u239d-4\u22c5x + 2\u22c5tan (x) + 2\u23a0\u22c5\u239d-2\u22c5x + tan (x) + 1\u23a0\u22c5\u239d2\u22c5x - tan (x) - 1\u23a0\n",
        "\u2500\u2500\u2500\u2500\u2500\u2500\u2500\u2500\u2500\u2500 + \u2500\u2500\u2500\u2500\u2500\u2500\u2500\u2500\u2500\u2500\u2500\u2500\u2500\u2500\u2500\u2500\u2500\u2500\u2500\u2500\u2500\u2500\u2500\u2500\u2500\u2500\u2500\u2500\u2500\u2500\u2500\u2500\u2500\u2500\u2500\u2500\u2500\u2500\u2500\u2500\u2500\u2500\u2500\u2500\u2500\u2500\u2500\u2500\u2500\u2500\u2500\u2500\u2500\u2500\u2500\u2500\u2500\u2500\u2500\u2500\u2500\u2500\u2500\n",
        "                                                   3                        \n",
        "                                      \u239b 2         \u239e                         \n",
        "                                      \u239dx  - tan(x)\u23a0                         "
       ]
      }
     ],
     "prompt_number": 125
    },
    {
     "cell_type": "heading",
     "level": 2,
     "metadata": {},
     "source": [
      "Integraci\u00f3n"
     ]
    },
    {
     "cell_type": "markdown",
     "metadata": {},
     "source": [
      "SymPy es capaz de calcular integrales definidas e indefinidas para funciones elementales, trascendentes y especiales, mediante la herramienta integrate()."
     ]
    },
    {
     "cell_type": "markdown",
     "metadata": {},
     "source": [
      "Integraci\u00f3n de funciones elementales:"
     ]
    },
    {
     "cell_type": "code",
     "collapsed": false,
     "input": [
      "integrate(6*x**5, x)"
     ],
     "language": "python",
     "metadata": {},
     "outputs": [
      {
       "latex": [
        "$$x^{6}$$"
       ],
       "output_type": "pyout",
       "png": "[encoded data removed]",
       "prompt_number": 126,
       "text": [
        " 6\n",
        "x "
       ]
      }
     ],
     "prompt_number": 126
    },
    {
     "cell_type": "code",
     "collapsed": false,
     "input": [
      "integrate(sin(x), x)"
     ],
     "language": "python",
     "metadata": {},
     "outputs": [
      {
       "latex": [
        "$$- \\cos{\\left (x \\right )}$$"
       ],
       "output_type": "pyout",
       "png": "[encoded data removed]",
       "prompt_number": 127,
       "text": [
        "-cos(x)"
       ]
      }
     ],
     "prompt_number": 127
    },
    {
     "cell_type": "code",
     "collapsed": false,
     "input": [
      "integrate(log(x), x)"
     ],
     "language": "python",
     "metadata": {},
     "outputs": [
      {
       "latex": [
        "$$x \\log{\\left (x \\right )} - x$$"
       ],
       "output_type": "pyout",
       "png": "[encoded data removed]",
       "prompt_number": 128,
       "text": [
        "x\u22c5log(x) - x"
       ]
      }
     ],
     "prompt_number": 128
    },
    {
     "cell_type": "code",
     "collapsed": false,
     "input": [
      "integrate(2*x + sinh(x), x)"
     ],
     "language": "python",
     "metadata": {},
     "outputs": [
      {
       "latex": [
        "$$x^{2} + \\cosh{\\left (x \\right )}$$"
       ],
       "output_type": "pyout",
       "png": "[encoded data removed]",
       "prompt_number": 129,
       "text": [
        " 2          \n",
        "x  + cosh(x)"
       ]
      }
     ],
     "prompt_number": 129
    },
    {
     "cell_type": "markdown",
     "metadata": {},
     "source": [
      "Integraci\u00f3n de funciones especiales:"
     ]
    },
    {
     "cell_type": "code",
     "collapsed": false,
     "input": [
      "integrate(exp(-x**2)*erf(x), x)"
     ],
     "language": "python",
     "metadata": {},
     "outputs": [
      {
       "latex": [
        "$$\\frac{1}{4} \\sqrt{\\pi} \\operatorname{erf}^{2}{\\left (x \\right )}$$"
       ],
       "output_type": "pyout",
       "png": "[encoded data removed]",
       "prompt_number": 130,
       "text": [
        "  ___    2   \n",
        "\u2572\u2571 \u03c0 \u22c5erf (x)\n",
        "\u2500\u2500\u2500\u2500\u2500\u2500\u2500\u2500\u2500\u2500\u2500\u2500\u2500\n",
        "      4      "
       ]
      }
     ],
     "prompt_number": 130
    },
    {
     "cell_type": "markdown",
     "metadata": {},
     "source": [
      "Tambi\u00e9n es posible calcular integrales definidas. La funci\u00f3n es la misma: integrate(funci\u00f3n, (varialble, l\u00edmite inferior, l\u00edmite superior)), s\u00f3lo que como segundo argumento se utiliza una tupla cuyo primer elemento es la variable de integraci\u00f3n, su segundo elemento es el l\u00edmtie inferior de integraci\u00f3n y el \u00faltimo es el l\u00edmite superior."
     ]
    },
    {
     "cell_type": "heading",
     "level": 3,
     "metadata": {},
     "source": [
      "Ejemplos:"
     ]
    },
    {
     "cell_type": "code",
     "collapsed": false,
     "input": [
      "integrate(x**3, (x, -1, 1))"
     ],
     "language": "python",
     "metadata": {},
     "outputs": [
      {
       "latex": [
        "$$0$$"
       ],
       "output_type": "pyout",
       "png": "[encoded data removed]",
       "prompt_number": 131,
       "text": [
        "0"
       ]
      }
     ],
     "prompt_number": 131
    },
    {
     "cell_type": "code",
     "collapsed": false,
     "input": [
      "integrate(sin(x), (x, 0, pi/2))\n"
     ],
     "language": "python",
     "metadata": {},
     "outputs": [
      {
       "latex": [
        "$$1$$"
       ],
       "output_type": "pyout",
       "png": "[encoded data removed]",
       "prompt_number": 132,
       "text": [
        "1"
       ]
      }
     ],
     "prompt_number": 132
    },
    {
     "cell_type": "code",
     "collapsed": false,
     "input": [
      "integrate(cos(x), (x, -pi/2, pi/2))"
     ],
     "language": "python",
     "metadata": {},
     "outputs": [
      {
       "latex": [
        "$$2$$"
       ],
       "output_type": "pyout",
       "png": "[encoded data removed]",
       "prompt_number": 133,
       "text": [
        "2"
       ]
      }
     ],
     "prompt_number": 133
    },
    {
     "cell_type": "markdown",
     "metadata": {},
     "source": [
      "\u00a1Incluso se puden calcular integrales impropias!"
     ]
    },
    {
     "cell_type": "code",
     "collapsed": false,
     "input": [
      "integrate(exp(-x), (x, 0, oo))"
     ],
     "language": "python",
     "metadata": {},
     "outputs": [
      {
       "latex": [
        "$$1$$"
       ],
       "output_type": "pyout",
       "png": "[encoded data removed]",
       "prompt_number": 134,
       "text": [
        "1"
       ]
      }
     ],
     "prompt_number": 134
    },
    {
     "cell_type": "code",
     "collapsed": false,
     "input": [
      "integrate(exp(-x**2), (x, -oo, oo))"
     ],
     "language": "python",
     "metadata": {},
     "outputs": [
      {
       "latex": [
        "$$\\sqrt{\\pi}$$"
       ],
       "output_type": "pyout",
       "png": "[encoded data removed]",
       "prompt_number": 135,
       "text": [
        "  ___\n",
        "\u2572\u2571 \u03c0 "
       ]
      }
     ],
     "prompt_number": 135
    },
    {
     "cell_type": "heading",
     "level": 2,
     "metadata": {},
     "source": [
      "Resoluci\u00f3n de ecuaciones"
     ]
    },
    {
     "cell_type": "markdown",
     "metadata": {},
     "source": [
      "SymPy es capaz de resolver ecuaciones algebr\u00e1icas de una y de varias variables"
     ]
    },
    {
     "cell_type": "markdown",
     "metadata": {},
     "source": [
      "Para eso existe la funci\u00f3n solve(ecuaci\u00f3n, variable), donde ecuaci\u00f3n es una expresi\u00f3n que es igual a cero."
     ]
    },
    {
     "cell_type": "markdown",
     "metadata": {},
     "source": [
      "Por ejemplo, para resolver la ecuaci\u00f3n x**4 - 1 = 0"
     ]
    },
    {
     "cell_type": "code",
     "collapsed": false,
     "input": [
      "solve(x**4 - 1, x)"
     ],
     "language": "python",
     "metadata": {},
     "outputs": [
      {
       "latex": [
        "$$\\begin{bmatrix}-1, & 1, & - \\mathbf{\\imath}, & \\mathbf{\\imath}\\end{bmatrix}$$"
       ],
       "output_type": "pyout",
       "prompt_number": 136,
       "text": [
        "[-1, 1, -\u2148, \u2148]"
       ]
      }
     ],
     "prompt_number": 136
    },
    {
     "cell_type": "markdown",
     "metadata": {},
     "source": [
      "Tambi\u00e9n se pueden resolver sistemas de ecuaciones en varias variables. Ahora el primer argumento de solve es una lista cuyos elementos son las ecuaciones a reslover, y el segundo argumento es otra lista formada por las variables o inc\u00f3gnitas del sistema. Por ejemplo:"
     ]
    },
    {
     "cell_type": "code",
     "collapsed": false,
     "input": [
      "solve([x + 5*y - 2, -3*x + 6*y - 15], [x, y])"
     ],
     "language": "python",
     "metadata": {},
     "outputs": [
      {
       "output_type": "pyout",
       "prompt_number": 138,
       "text": [
        "{x: -3, y: 1}"
       ]
      }
     ],
     "prompt_number": 138
    },
    {
     "cell_type": "markdown",
     "metadata": {},
     "source": [
      "Puede resolver ecuaciones en las que intervengan funciones trascendentes, pero su capacidad es limitada y, a veces, no encuentra la soluci\u00f3n."
     ]
    },
    {
     "cell_type": "code",
     "collapsed": false,
     "input": [
      "solve(exp(x) + 1, x)"
     ],
     "language": "python",
     "metadata": {},
     "outputs": [
      {
       "latex": [
        "$$\\begin{bmatrix}\\mathbf{\\imath} \\pi\\end{bmatrix}$$"
       ],
       "output_type": "pyout",
       "prompt_number": 139,
       "text": [
        "[\u2148\u22c5\u03c0]"
       ]
      }
     ],
     "prompt_number": 139
    },
    {
     "cell_type": "markdown",
     "metadata": {},
     "source": [
      "Es posible factorizar polinomios en t\u00e9rminos de factores irreducibles con la funci\u00f3n factor(funci\u00f3n):"
     ]
    },
    {
     "cell_type": "code",
     "collapsed": false,
     "input": [
      "f = x**4 - 3*x**2 + 1\n",
      "factor(f)"
     ],
     "language": "python",
     "metadata": {},
     "outputs": [
      {
       "latex": [
        "$$\\left(x^{2} - x -1\\right) \\left(x^{2} + x -1\\right)$$"
       ],
       "output_type": "pyout",
       "png": "[encoded data removed]",
       "prompt_number": 140,
       "text": [
        "\u239b 2        \u239e \u239b 2        \u239e\n",
        "\u239dx  - x - 1\u23a0\u22c5\u239dx  + x - 1\u23a0"
       ]
      }
     ],
     "prompt_number": 140
    },
    {
     "cell_type": "code",
     "collapsed": false,
     "input": [
      "factor(f, modulus= 5)"
     ],
     "language": "python",
     "metadata": {},
     "outputs": [
      {
       "latex": [
        "$$\\left(x -2\\right)^{2} \\left(x + 2\\right)^{2}$$"
       ],
       "output_type": "pyout",
       "png": "[encoded data removed]",
       "prompt_number": 141,
       "text": [
        "       2        2\n",
        "(x - 2) \u22c5(x + 2) "
       ]
      }
     ],
     "prompt_number": 141
    },
    {
     "cell_type": "heading",
     "level": 2,
     "metadata": {},
     "source": [
      "\u00c1lgebra Lineal"
     ]
    },
    {
     "cell_type": "heading",
     "level": 2,
     "metadata": {},
     "source": [
      "Matrices"
     ]
    },
    {
     "cell_type": "heading",
     "level": 3,
     "metadata": {},
     "source": [
      "Las matrices se crean como instancias de la clase Matrix:"
     ]
    },
    {
     "cell_type": "code",
     "collapsed": false,
     "input": [
      "from sympy import Matrix\n",
      "Matrix([[1,0], [0,1]])\n"
     ],
     "language": "python",
     "metadata": {},
     "outputs": [
      {
       "latex": [
        "$$\\left[\\begin{smallmatrix}1 & 0\\\\0 & 1\\end{smallmatrix}\\right]$$"
       ],
       "output_type": "pyout",
       "prompt_number": 143,
       "text": [
        "\u23a11  0\u23a4\n",
        "\u23a2    \u23a5\n",
        "\u23a30  1\u23a6"
       ]
      }
     ],
     "prompt_number": 143
    },
    {
     "cell_type": "heading",
     "level": 3,
     "metadata": {},
     "source": [
      "A diferencia de los arreglos de NumPy, los de SymPy pueden contener s\u00edmbolos:"
     ]
    },
    {
     "cell_type": "code",
     "collapsed": false,
     "input": [
      "x= Symbol('x')\n",
      "y= Symbol('y')\n",
      "A = Matrix([[1,x], [y,1]])\n",
      "A"
     ],
     "language": "python",
     "metadata": {},
     "outputs": [
      {
       "latex": [
        "$$\\left[\\begin{smallmatrix}1 & x\\\\y & 1\\end{smallmatrix}\\right]$$"
       ],
       "output_type": "pyout",
       "prompt_number": 144,
       "text": [
        "\u23a11  x\u23a4\n",
        "\u23a2    \u23a5\n",
        "\u23a3y  1\u23a6"
       ]
      }
     ],
     "prompt_number": 144
    },
    {
     "cell_type": "code",
     "collapsed": false,
     "input": [
      "A**2"
     ],
     "language": "python",
     "metadata": {},
     "outputs": [
      {
       "latex": [
        "$$\\left[\\begin{smallmatrix}x y + 1 & 2 x\\\\2 y & x y + 1\\end{smallmatrix}\\right]$$"
       ],
       "output_type": "pyout",
       "prompt_number": 145,
       "text": [
        "\u23a1x\u22c5y + 1    2\u22c5x  \u23a4\n",
        "\u23a2                \u23a5\n",
        "\u23a3  2\u22c5y    x\u22c5y + 1\u23a6"
       ]
      }
     ],
     "prompt_number": 145
    },
    {
     "cell_type": "heading",
     "level": 2,
     "metadata": {},
     "source": [
      "Ecuaciones diferenciales"
     ]
    },
    {
     "cell_type": "heading",
     "level": 3,
     "metadata": {},
     "source": [
      "SymPy es capaz de expresar y de resolver ecuaciones diferenciales:"
     ]
    },
    {
     "cell_type": "code",
     "collapsed": false,
     "input": [
      "g= Symbol('g')\n",
      "g(x).diff(x, x) + g(x)"
     ],
     "language": "python",
     "metadata": {},
     "outputs": [
      {
       "latex": [
        "$$\\operatorname{g}{\\left (x \\right )} + \\frac{\\partial^{2}}{\\partial^{2} x}  \\operatorname{g}{\\left (x \\right )}$$"
       ],
       "output_type": "pyout",
       "png": "[encoded data removed]",
       "prompt_number": 146,
       "text": [
        "         2      \n",
        "        d       \n",
        "g(x) + \u2500\u2500\u2500(g(x))\n",
        "         2      \n",
        "       dx       "
       ]
      }
     ],
     "prompt_number": 146
    },
    {
     "cell_type": "code",
     "collapsed": false,
     "input": [
      "f(x).diff(x, x) + f(x)"
     ],
     "language": "python",
     "metadata": {},
     "outputs": [
      {
       "latex": [
        "$$x^{4} + 9 x^{2} -5$$"
       ],
       "output_type": "pyout",
       "png": "[encoded data removed]",
       "prompt_number": 147,
       "text": [
        " 4      2    \n",
        "x  + 9\u22c5x  - 5"
       ]
      }
     ],
     "prompt_number": 147
    },
    {
     "cell_type": "code",
     "collapsed": false,
     "input": [
      "dsolve(g(x).diff(x, x) + g(x), g(x))"
     ],
     "language": "python",
     "metadata": {},
     "outputs": [
      {
       "latex": [
        "$$\\operatorname{g}{\\left (x \\right )} = C_{1} \\sin{\\left (x \\right )} + C_{2} \\cos{\\left (x \\right )}$$"
       ],
       "output_type": "pyout",
       "png": "[encoded data removed]",
       "prompt_number": 148,
       "text": [
        "g(x) = C\u2081\u22c5sin(x) + C\u2082\u22c5cos(x)"
       ]
      }
     ],
     "prompt_number": 148
    },
    {
     "cell_type": "heading",
     "level": 3,
     "metadata": {},
     "source": [
      "Si uno quiere la ecuaci\u00f3n diferencial sea resuelta de un modo en particular, puede incluir \"pistas\" como segundo argumento de dsolve para guiarlo en la resoluci\u00f3n:"
     ]
    },
    {
     "cell_type": "code",
     "collapsed": false,
     "input": [
      "sin(x)*cos(g(x)) + cos(x)*sin(g(x))*g(x).diff(x)\n"
     ],
     "language": "python",
     "metadata": {},
     "outputs": [
      {
       "latex": [
        "$$\\sin{\\left (x \\right )} \\cos{\\left (\\operatorname{g}{\\left (x \\right )} \\right )} + \\sin{\\left (\\operatorname{g}{\\left (x \\right )} \\right )} \\cos{\\left (x \\right )} \\frac{\\partial}{\\partial x} \\operatorname{g}{\\left (x \\right )}$$"
       ],
       "output_type": "pyout",
       "png": "[encoded data removed]",
       "prompt_number": 149,
       "text": [
        "                                    d       \n",
        "sin(x)\u22c5cos(g(x)) + sin(g(x))\u22c5cos(x)\u22c5\u2500\u2500(g(x))\n",
        "                                    dx      "
       ]
      }
     ],
     "prompt_number": 149
    },
    {
     "cell_type": "code",
     "collapsed": false,
     "input": [
      "dsolve(sin(x)*cos(g(x)) + cos(x)*sin(g(x))*g(x).diff(x), g(x), hint='separable')"
     ],
     "language": "python",
     "metadata": {},
     "outputs": [
      {
       "latex": [
        "$$\\begin{bmatrix}\\operatorname{g}{\\left (x \\right )} = - \\operatorname{asin}{\\left (\\sqrt{\\frac{C_{1}}{\\cos^{2}{\\left (x \\right )}} + 1} \\right )}, & \\operatorname{g}{\\left (x \\right )} = \\operatorname{asin}{\\left (\\sqrt{\\frac{C_{1}}{\\cos^{2}{\\left (x \\right )}} + 1} \\right )}\\end{bmatrix}$$"
       ],
       "output_type": "pyout",
       "prompt_number": 151,
       "text": [
        "\u23a1            \u239b     _____________\u239e             \u239b     _____________\u239e\u23a4\n",
        "\u23a2            \u239c    \u2571    C\u2081       \u239f             \u239c    \u2571    C\u2081       \u239f\u23a5\n",
        "\u23a2g(x) = -asin\u239c   \u2571  \u2500\u2500\u2500\u2500\u2500\u2500\u2500 + 1 \u239f, g(x) = asin\u239c   \u2571  \u2500\u2500\u2500\u2500\u2500\u2500\u2500 + 1 \u239f\u23a5\n",
        "\u23a2            \u239c  \u2571      2        \u239f             \u239c  \u2571      2        \u239f\u23a5\n",
        "\u23a3            \u239d\u2572\u2571    cos (x)     \u23a0             \u239d\u2572\u2571    cos (x)     \u23a0\u23a6"
       ]
      }
     ],
     "prompt_number": 151
    },
    {
     "cell_type": "heading",
     "level": 1,
     "metadata": {},
     "source": [
      "\u00a1Muchas Gracias!"
     ]
    },
    {
     "cell_type": "code",
     "collapsed": false,
     "input": [],
     "language": "python",
     "metadata": {},
     "outputs": []
    }
   ],
   "metadata": {}
  }
 ]
}