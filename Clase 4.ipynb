{
 "metadata": {
  "name": ""
 },
 "nbformat": 3,
 "nbformat_minor": 0,
 "worksheets": [
  {
   "cells": [
    {
     "cell_type": "markdown",
     "metadata": {},
     "source": [
      "# Python para ciencia e ingenier\u00eda. Clase 4/6\n",
      "\n",
      "**Tallerista**: Mart\u00edn Gait\u00e1n (Phasety)\n",
      "\n",
      "**Colaboradores**: Jairo Trad (Insus) y Juli\u00e1n Scortechini (Phasety)\n",
      "\n",
      "                                \n",
      "                                Agosto/Septiembre de 2013\n",
      "\n",
      "![](http://phasety.com/squelettes/img/logo.png)\n",
      "\n",
      "----\n",
      "Licencia: ![](http://i.creativecommons.org/l/by-sa/2.5/ar/88x31.png)\n"
     ]
    },
    {
     "cell_type": "markdown",
     "metadata": {},
     "source": [
      "## \u00a1Ya no somos principiantes!\n",
      "\n",
      "Veamos un poco m\u00e1s de numpy"
     ]
    },
    {
     "cell_type": "code",
     "collapsed": false,
     "input": [
      "import numpy as np"
     ],
     "language": "python",
     "metadata": {},
     "outputs": [],
     "prompt_number": 1
    },
    {
     "cell_type": "markdown",
     "metadata": {},
     "source": [
      "`diag` pone el array dado en diagonal ascendente completando el resto con ceros"
     ]
    },
    {
     "cell_type": "code",
     "collapsed": false,
     "input": [
      "np.diag([1,2,3,4])"
     ],
     "language": "python",
     "metadata": {},
     "outputs": [
      {
       "metadata": {},
       "output_type": "pyout",
       "prompt_number": 20,
       "text": [
        "array([[1, 0, 0, 0],\n",
        "       [0, 2, 0, 0],\n",
        "       [0, 0, 3, 0],\n",
        "       [0, 0, 0, 4]])"
       ]
      }
     ],
     "prompt_number": 20
    },
    {
     "cell_type": "markdown",
     "metadata": {},
     "source": [
      "Podemos decirle qu\u00e9 diagonal con un offset entero"
     ]
    },
    {
     "cell_type": "code",
     "collapsed": false,
     "input": [
      "np.diag([1,2,3], k=1)"
     ],
     "language": "python",
     "metadata": {},
     "outputs": [
      {
       "metadata": {},
       "output_type": "pyout",
       "prompt_number": 22,
       "text": [
        "array([[0, 1, 0, 0],\n",
        "       [0, 0, 2, 0],\n",
        "       [0, 0, 0, 3],\n",
        "       [0, 0, 0, 0]])"
       ]
      }
     ],
     "prompt_number": 22
    },
    {
     "cell_type": "markdown",
     "metadata": {},
     "source": [
      "El m\u00e9todo `reshape` es otra manera de definir la forma de un array, generando uno nuevo array (a diferencia de `A.shape` que simplemente es otra vista del mismo array)"
     ]
    },
    {
     "cell_type": "code",
     "collapsed": false,
     "input": [
      "A = np.arange(9).reshape((3,3))"
     ],
     "language": "python",
     "metadata": {},
     "outputs": [],
     "prompt_number": 34
    },
    {
     "cell_type": "code",
     "collapsed": false,
     "input": [
      "B = A.reshape(A.shape)  # es igual a A.copy()"
     ],
     "language": "python",
     "metadata": {},
     "outputs": [],
     "prompt_number": 35
    },
    {
     "cell_type": "code",
     "collapsed": false,
     "input": [
      "A is B"
     ],
     "language": "python",
     "metadata": {},
     "outputs": [
      {
       "metadata": {},
       "output_type": "pyout",
       "prompt_number": 36,
       "text": [
        "False"
       ]
      }
     ],
     "prompt_number": 36
    },
    {
     "cell_type": "markdown",
     "metadata": {},
     "source": [
      "`rot90` permite rotar un array multidimensional"
     ]
    },
    {
     "cell_type": "code",
     "collapsed": false,
     "input": [
      "A"
     ],
     "language": "python",
     "metadata": {},
     "outputs": [
      {
       "metadata": {},
       "output_type": "pyout",
       "prompt_number": 37,
       "text": [
        "array([[0, 1, 2],\n",
        "       [3, 4, 5],\n",
        "       [6, 7, 8]])"
       ]
      }
     ],
     "prompt_number": 37
    },
    {
     "cell_type": "code",
     "collapsed": false,
     "input": [
      "np.rot90(A)"
     ],
     "language": "python",
     "metadata": {},
     "outputs": [
      {
       "metadata": {},
       "output_type": "pyout",
       "prompt_number": 38,
       "text": [
        "array([[2, 5, 8],\n",
        "       [1, 4, 7],\n",
        "       [0, 3, 6]])"
       ]
      }
     ],
     "prompt_number": 38
    },
    {
     "cell_type": "code",
     "collapsed": false,
     "input": [
      "np.rot90(A, k=2)  # rotamos 180\u00ba"
     ],
     "language": "python",
     "metadata": {},
     "outputs": [
      {
       "metadata": {},
       "output_type": "pyout",
       "prompt_number": 41,
       "text": [
        "array([[8, 7, 6],\n",
        "       [5, 4, 3],\n",
        "       [2, 1, 0]])"
       ]
      }
     ],
     "prompt_number": 41
    },
    {
     "cell_type": "markdown",
     "metadata": {},
     "source": [
      "### Un poquito m\u00e1s de indizado y rebanado"
     ]
    },
    {
     "cell_type": "markdown",
     "metadata": {},
     "source": [
      "Hay otras maneras de obtener elementos"
     ]
    },
    {
     "cell_type": "code",
     "collapsed": false,
     "input": [
      "a = np.random.random_integers(0, 30, 10)   # 10 enteros aleatorios entre 0 y 30\n",
      "a"
     ],
     "language": "python",
     "metadata": {},
     "outputs": [
      {
       "metadata": {},
       "output_type": "pyout",
       "prompt_number": 91,
       "text": [
        "array([18, 10,  9, 23, 12,  1, 11,  8, 27, 16])"
       ]
      }
     ],
     "prompt_number": 91
    },
    {
     "cell_type": "code",
     "collapsed": false,
     "input": [
      "a[[1, 2, 4, 1]]    # selecciona el elemento 1, 2, el 4 y  de nuevo el 1"
     ],
     "language": "python",
     "metadata": {},
     "outputs": [
      {
       "metadata": {},
       "output_type": "pyout",
       "prompt_number": 140,
       "text": [
        "array([10,  9, 12, 10])"
       ]
      }
     ],
     "prompt_number": 140
    },
    {
     "cell_type": "markdown",
     "metadata": {},
     "source": [
      "Ya sabemos que las operaciones con arrays se **difunden** (broadcasting). Incluso las binarias"
     ]
    },
    {
     "cell_type": "code",
     "collapsed": false,
     "input": [
      "a > 25    # qu\u00e9 elementos de 4 son mayores a 4 ?"
     ],
     "language": "python",
     "metadata": {},
     "outputs": [
      {
       "metadata": {},
       "output_type": "pyout",
       "prompt_number": 82,
       "text": [
        "array([ True,  True, False,  True,  True], dtype=bool)"
       ]
      }
     ],
     "prompt_number": 82
    },
    {
     "cell_type": "markdown",
     "metadata": {},
     "source": [
      "Con un array booleano de igual tama\u00f1o podemos hacer una \"m\u00e1scara\": seleccionar s\u00f3lo los elementos que cumplen una condici\u00f3n"
     ]
    },
    {
     "cell_type": "code",
     "collapsed": false,
     "input": [
      "a[a > 25]"
     ],
     "language": "python",
     "metadata": {},
     "outputs": [
      {
       "metadata": {},
       "output_type": "pyout",
       "prompt_number": 84,
       "text": [
        "array([36, 30, 39, 46])"
       ]
      }
     ],
     "prompt_number": 84
    },
    {
     "cell_type": "markdown",
     "metadata": {},
     "source": [
      "Este tipo de slicing especial **crea copias**, no vistas. Usar cuando lo amerite.\n",
      "\n",
      "Selecciones avanzadas: \n",
      "\n",
      "![](http://scipy-lectures.github.io/_images/numpy_fancy_indexing.png)\n",
      "\n"
     ]
    },
    {
     "cell_type": "markdown",
     "metadata": {},
     "source": [
      "### Lectura desde texto y archivos\n",
      "\n",
      "Como numpy se especializa en manejar n\u00fameros, tiene muchas funciones para crear arrays a partir de informaci\u00f3n num\u00e9rica a partir de texto o archivos (como los CSV, por ejemplo).\n"
     ]
    },
    {
     "cell_type": "code",
     "collapsed": false,
     "input": [
      "np.fromstring(u\"1.0 2.3   3.0 4.1   -3.1\", sep=\" \", dtype=float)"
     ],
     "language": "python",
     "metadata": {},
     "outputs": [
      {
       "metadata": {},
       "output_type": "pyout",
       "prompt_number": 135,
       "text": [
        "array([ 1. ,  2.3,  3. ,  4.1, -3.1])"
       ]
      }
     ],
     "prompt_number": 135
    },
    {
     "cell_type": "markdown",
     "metadata": {},
     "source": [
      "Para cargar desde un archivo existe la funci\u00f3n `loadtxt`. Por ejemplo tenemos el archivo `data/critical.dat` que es el resultado del c\u00e1lculo de una linea cr\u00edtica global para un sistema qu\u00edmico binario."
     ]
    },
    {
     "cell_type": "code",
     "collapsed": false,
     "input": [
      "!head data/critical.dat "
     ],
     "language": "python",
     "metadata": {},
     "outputs": [
      {
       "output_type": "stream",
       "stream": "stdout",
       "text": [
        "T(K)     P(bar)   d(mol/L)   x(1)\r\n",
        " CRI\r\n",
        " 304.2100   73.8300    8.7568  0.000000 0.10000E+01\r\n",
        " 304.2056   73.8318    8.7570  0.000050 0.99995E+00   3   1\r\n",
        " 304.2011   73.8340    8.7572  0.000117 0.99988E+00   2   1\r\n",
        " 304.1920   73.8384    8.7577  0.000250 0.99975E+00   2   1\r\n",
        " 304.1740   73.8472    8.7586  0.000517 0.99948E+00   2   1\r\n",
        " 304.1379   73.8649    8.7604  0.001050 0.99895E+00   2   1\r\n",
        " 304.0657   73.9002    8.7640  0.002117 0.99788E+00   2   1\r\n",
        " 303.9211   73.9706    8.7711  0.004250 0.99575E+00   2   1\r\n"
       ]
      }
     ],
     "prompt_number": 142
    },
    {
     "cell_type": "markdown",
     "metadata": {},
     "source": [
      "Vemos que el patr\u00f3n es en columnas separadas por espacios en blanco y las dos primeras filas son headers"
     ]
    },
    {
     "cell_type": "code",
     "collapsed": false,
     "input": [
      "cri_data = np.loadtxt('data/critical.dat', skiprows=2, usecols=[0, 1, 2, 3])"
     ],
     "language": "python",
     "metadata": {},
     "outputs": [],
     "prompt_number": 148
    },
    {
     "cell_type": "markdown",
     "metadata": {},
     "source": [
      "Por defecto, devuelve una matriz 2D `numero_lineas` x `columnas`, o sea, la fila 0 es la primer liena de n\u00fameros"
     ]
    },
    {
     "cell_type": "code",
     "collapsed": false,
     "input": [
      "cri_data[0]"
     ],
     "language": "python",
     "metadata": {},
     "outputs": [
      {
       "metadata": {},
       "output_type": "pyout",
       "prompt_number": 153,
       "text": [
        "array([ 304.21  ,   73.83  ,    8.7568,    0.    ])"
       ]
      }
     ],
     "prompt_number": 153
    },
    {
     "cell_type": "markdown",
     "metadata": {},
     "source": [
      "Si directamente queremos los vectores (las columnas), podemos pedir que \"desempaque\" las columnas"
     ]
    },
    {
     "cell_type": "code",
     "collapsed": false,
     "input": [
      "t, p, d, x = np.loadtxt('data/critical.dat', skiprows=2, usecols=[0, 1, 2, 3], unpack=True)"
     ],
     "language": "python",
     "metadata": {},
     "outputs": [],
     "prompt_number": 150
    },
    {
     "cell_type": "code",
     "collapsed": false,
     "input": [
      "t[:10]   "
     ],
     "language": "python",
     "metadata": {},
     "outputs": [
      {
       "metadata": {},
       "output_type": "pyout",
       "prompt_number": 152,
       "text": [
        "array([ 304.21  ,  304.2056,  304.2011,  304.192 ,  304.174 ,  304.1379,\n",
        "        304.0657,  303.9211,  303.6309,  303.2894])"
       ]
      }
     ],
     "prompt_number": 152
    },
    {
     "cell_type": "code",
     "collapsed": false,
     "input": [
      "t.size"
     ],
     "language": "python",
     "metadata": {},
     "outputs": [
      {
       "metadata": {},
       "output_type": "pyout",
       "prompt_number": 154,
       "text": [
        "211"
       ]
      }
     ],
     "prompt_number": 154
    },
    {
     "cell_type": "markdown",
     "metadata": {},
     "source": [
      "Podemos graficar algo sencillo"
     ]
    },
    {
     "cell_type": "code",
     "collapsed": false,
     "input": [
      "%pylab inline"
     ],
     "language": "python",
     "metadata": {},
     "outputs": [
      {
       "output_type": "stream",
       "stream": "stdout",
       "text": [
        "Populating the interactive namespace from numpy and matplotlib\n"
       ]
      }
     ],
     "prompt_number": 156
    },
    {
     "cell_type": "code",
     "collapsed": false,
     "input": [
      "from matplotlib import pyplot\n",
      "pyplot.plot(t, p, 'r')   # el tercer par\u00e1metro es el formato\n",
      "pyplot.title('Critical pressure vs temperature')\n",
      "pyplot.grid()\n",
      "pyplot.xlabel('Temperature [K]')\n",
      "pyplot.ylabel('Pressure [bar]')\n",
      "# el punto y coma evita el output\n",
      "pyplot.show();"
     ],
     "language": "python",
     "metadata": {},
     "outputs": [
      {
       "metadata": {},
       "output_type": "display_data",
       "png": "[encoded data removed]",
       "text": [
        "<matplotlib.figure.Figure at 0x32fd810>"
       ]
      }
     ],
     "prompt_number": 166
    },
    {
     "cell_type": "markdown",
     "metadata": {},
     "source": [
      "### Volvamos a Matplotlib\n",
      "\n",
      "Una forma v\u00e1lida de trabajar es buscar un ejemplo parecido a lo que buscamos (por ejemplo en la [galer\u00eda](http://matplotlib.org/gallery.html) y modificarla. Con Ipython podemos cargar c\u00f3digo remoto con el comando magic `%load`\n"
     ]
    },
    {
     "cell_type": "code",
     "collapsed": false,
     "input": [
      "%load http://matplotlib.org/mpl_examples/mplot3d/surface3d_radial_demo.py"
     ],
     "language": "python",
     "metadata": {},
     "outputs": [],
     "prompt_number": 170
    },
    {
     "cell_type": "code",
     "collapsed": false,
     "input": [
      "# By Armin Moser\n",
      "\n",
      "from mpl_toolkits.mplot3d import Axes3D\n",
      "import matplotlib\n",
      "import numpy as np\n",
      "from matplotlib import cm\n",
      "from matplotlib import pyplot as plt\n",
      "step = 0.04\n",
      "maxval = 1.0\n",
      "fig = plt.figure()\n",
      "ax = fig.add_subplot(111, projection='3d')\n",
      "\n",
      "# create supporting points in polar coordinates\n",
      "r = np.linspace(0,1.25,50)\n",
      "p = np.linspace(0,2*np.pi,50)\n",
      "R,P = np.meshgrid(r,p)\n",
      "# transform them to cartesian system\n",
      "X,Y = R*np.cos(P),R*np.sin(P)\n",
      "\n",
      "Z = ((R**2 - 1)**2)\n",
      "ax.plot_surface(X, Y, Z, rstride=1, cstride=1, cmap=cm.YlGnBu_r)\n",
      "ax.set_zlim3d(0, 1)\n",
      "ax.set_xlabel(r'$\\phi_\\mathrm{real}$')\n",
      "ax.set_ylabel(r'$\\phi_\\mathrm{im}$')\n",
      "ax.set_zlabel(r'$V(\\phi)$')\n",
      "plt.show();\n"
     ],
     "language": "python",
     "metadata": {},
     "outputs": [
      {
       "metadata": {},
       "output_type": "display_data",
       "png": "[encoded data removed]",
       "text": [
        "<matplotlib.figure.Figure at 0x40b9f90>"
       ]
      }
     ],
     "prompt_number": 171
    },
    {
     "cell_type": "markdown",
     "metadata": {},
     "source": [
      "Como se puede ver, Matplotlib es muy potente y flexible, pero requiere aprender algunos conceptos"
     ]
    },
    {
     "cell_type": "code",
     "collapsed": false,
     "input": [],
     "language": "python",
     "metadata": {},
     "outputs": []
    }
   ],
   "metadata": {}
  }
 ]
}